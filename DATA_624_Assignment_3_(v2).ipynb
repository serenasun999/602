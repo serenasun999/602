{
  "cells": [
    {
      "cell_type": "markdown",
      "metadata": {
        "id": "eNTeSLD1t5m4"
      },
      "source": [
        "# Importing Dependencies"
      ]
    },
    {
      "cell_type": "code",
      "execution_count": 204,
      "metadata": {
        "id": "MJqK9bpQv1eX"
      },
      "outputs": [],
      "source": [
        "import pandas as pd\n",
        "import re\n",
        "import plotly.express as px\n",
        "import plotly.subplots as sp\n",
        "import warnings\n",
        "warnings.filterwarnings('ignore')"
      ]
    },
    {
      "cell_type": "code",
      "execution_count": 205,
      "metadata": {
        "colab": {
          "base_uri": "https://localhost:8080/"
        },
        "id": "WNSqejJEt15G",
        "outputId": "b774adf7-1aa0-414c-82b1-79a2d335d1c1"
      },
      "outputs": [
        {
          "name": "stdout",
          "output_type": "stream",
          "text": [
            "Requirement already satisfied: gdown in /Users/sun/opt/anaconda3/envs/dataenv/lib/python3.9/site-packages (4.6.3)\n",
            "Requirement already satisfied: six in /Users/sun/opt/anaconda3/envs/dataenv/lib/python3.9/site-packages (from gdown) (1.16.0)\n",
            "Requirement already satisfied: requests[socks] in /Users/sun/opt/anaconda3/envs/dataenv/lib/python3.9/site-packages (from gdown) (2.28.1)\n",
            "Requirement already satisfied: beautifulsoup4 in /Users/sun/opt/anaconda3/envs/dataenv/lib/python3.9/site-packages (from gdown) (4.11.1)\n",
            "Requirement already satisfied: filelock in /Users/sun/opt/anaconda3/envs/dataenv/lib/python3.9/site-packages (from gdown) (3.9.0)\n",
            "Requirement already satisfied: tqdm in /Users/sun/opt/anaconda3/envs/dataenv/lib/python3.9/site-packages (from gdown) (4.64.1)\n",
            "Requirement already satisfied: soupsieve>1.2 in /Users/sun/opt/anaconda3/envs/dataenv/lib/python3.9/site-packages (from beautifulsoup4->gdown) (2.3.1)\n",
            "Requirement already satisfied: urllib3<1.27,>=1.21.1 in /Users/sun/opt/anaconda3/envs/dataenv/lib/python3.9/site-packages (from requests[socks]->gdown) (1.26.11)\n",
            "Requirement already satisfied: certifi>=2017.4.17 in /Users/sun/opt/anaconda3/envs/dataenv/lib/python3.9/site-packages (from requests[socks]->gdown) (2022.12.7)\n",
            "Requirement already satisfied: charset-normalizer<3,>=2 in /Users/sun/opt/anaconda3/envs/dataenv/lib/python3.9/site-packages (from requests[socks]->gdown) (2.0.4)\n",
            "Requirement already satisfied: idna<4,>=2.5 in /Users/sun/opt/anaconda3/envs/dataenv/lib/python3.9/site-packages (from requests[socks]->gdown) (3.3)\n",
            "Requirement already satisfied: PySocks!=1.5.7,>=1.5.6 in /Users/sun/opt/anaconda3/envs/dataenv/lib/python3.9/site-packages (from requests[socks]->gdown) (1.7.1)\n"
          ]
        }
      ],
      "source": [
        "!pip install --upgrade --no-cache-dir gdown"
      ]
    },
    {
      "cell_type": "markdown",
      "metadata": {
        "id": "8Cu9flFLt-I-"
      },
      "source": [
        "## Importing Datasets"
      ]
    },
    {
      "cell_type": "markdown",
      "metadata": {
        "id": "thWqPv0eq6-z"
      },
      "source": [
        "### OECD Health Statistics Dataset"
      ]
    },
    {
      "cell_type": "code",
      "execution_count": 206,
      "metadata": {
        "colab": {
          "base_uri": "https://localhost:8080/"
        },
        "id": "UlmWMF2YuFjA",
        "outputId": "ccd0f9d7-6676-41aa-bfec-567c589ad869"
      },
      "outputs": [
        {
          "name": "stdout",
          "output_type": "stream",
          "text": [
            "Downloading...\n",
            "From: https://drive.google.com/uc?id=1Tju7UzAW4HJ0idbP7o-743LK0AXhP64g\n",
            "To: /Users/sun/Desktop/DataScience/Data624/OECD-Health-Statistics-2022-Frequently-Requested-Data.xls\n",
            "100%|██████████████████████████████████████| 4.17M/4.17M [00:00<00:00, 16.2MB/s]\n"
          ]
        }
      ],
      "source": [
        "!gdown 1Tju7UzAW4HJ0idbP7o-743LK0AXhP64g -O 'OECD-Health-Statistics-2022-Frequently-Requested-Data.xls'"
      ]
    },
    {
      "cell_type": "code",
      "execution_count": 207,
      "metadata": {
        "id": "E1ARzACJwKWB"
      },
      "outputs": [],
      "source": [
        "oecd_health_stats_excel_data = pd.ExcelFile('OECD-Health-Statistics-2022-Frequently-Requested-Data.xls')"
      ]
    },
    {
      "cell_type": "code",
      "execution_count": 208,
      "metadata": {
        "colab": {
          "base_uri": "https://localhost:8080/"
        },
        "id": "myJsMKMnwXog",
        "outputId": "0e84878a-33d1-4a35-a31f-387ac1d22a55"
      },
      "outputs": [
        {
          "name": "stdout",
          "output_type": "stream",
          "text": [
            "Frequently Requested Data\n",
            "Current expenditure, % GDP\n",
            "Curr exp, per capita US$PPP\n",
            "Current exp, per capita, growth\n",
            "GovtCompIns, % curr exp\n",
            "GovtCompIns, per capita US$PPP\n",
            "GovtCompIns, per capita, growth\n",
            "OOP payments, % curr exp\n",
            "OOP payments, per capita US$PPP\n",
            "Pharmaceutical exp, % curr exp\n",
            "Pharma exp, per capita US$PPP\n",
            "Physicians\n",
            "Nurses\n",
            "Medical graduates\n",
            "Nursing graduates\n",
            "Hospital beds\n",
            "Psychiatric care beds\n",
            "MRI\n",
            "CT scanners \n",
            "Doctor consultations\n",
            "MRI exams\n",
            "CT exams\n",
            "Inpatient care discharges\n",
            "ALOS, inpatient care\n",
            "ALOS, AMI\n",
            "ALOS, delivery\n",
            "C-sections\n",
            "Antibiotics\n",
            "LE Females at birth\n",
            "LE Males at birth\n",
            "LE Total population at birth\n",
            "LE Females at 65\n",
            "LE Males at 65\n",
            "Infant mortality rate\n",
            "PYLL, All causes, Females\n",
            "PYLL, All causes, Males \n",
            "Suicides, deaths per 100000 pop\n",
            "Tobacco consumption, females\n",
            "Tobacco consumption, males\n",
            "Tobacco consumption, total\n",
            "Alcohol consumption\n",
            "Obesity, females (SR)\n",
            "Obesity, males (SR)\n",
            "Obesity, total (SR)\n",
            "Obesity, females (M)\n",
            "Obesity, males (M)\n",
            "Obesity, total (M)\n"
          ]
        }
      ],
      "source": [
        "# Extracted data from the excel file 'OECD-Health-Statistics-2022-Frequently-Requested-Data.xls' and transformed it into a long format dataframe\n",
        "data = dict()\n",
        "data_long = pd.DataFrame()\n",
        "for n in oecd_health_stats_excel_data.sheet_names:\n",
        "    print(n)\n",
        "    data[n] = pd.read_excel(oecd_health_stats_excel_data, sheet_name=n, skiprows=3).replace({'..': None})\n",
        "    first_col_name = data[n].columns[0]\n",
        "    long_temp=pd.melt(data[n], id_vars=first_col_name).rename(columns={first_col_name: 'country', 'variable': 'year'}, errors='ignore').dropna()\n",
        "    long_temp['variable']=n\n",
        "    long_temp=long_temp[['country', 'year', 'variable', 'value']]\n",
        "    if len(data_long)==0:\n",
        "        data_long = long_temp\n",
        "    else:\n",
        "        data_long = pd.concat([data_long, long_temp])"
      ]
    },
    {
      "cell_type": "markdown",
      "metadata": {
        "id": "z9IQhznFq-Bl"
      },
      "source": [
        "### Country Income Classifications Dataset"
      ]
    },
    {
      "cell_type": "code",
      "execution_count": 209,
      "metadata": {
        "colab": {
          "base_uri": "https://localhost:8080/"
        },
        "id": "1nXFs0u4rARn",
        "outputId": "b760e676-5981-4479-946e-8739a2f7d3be"
      },
      "outputs": [
        {
          "name": "stdout",
          "output_type": "stream",
          "text": [
            "Downloading...\n",
            "From: https://drive.google.com/uc?id=15TQKKCWE0y4FZxbdKHsAlB9Pgb8mwVUY\n",
            "To: /Users/sun/Desktop/DataScience/Data624/CountryIncomeClassifications_WB (2023).csv\n",
            "100%|██████████████████████████████████████| 14.4k/14.4k [00:00<00:00, 17.9MB/s]\n"
          ]
        }
      ],
      "source": [
        "!gdown 15TQKKCWE0y4FZxbdKHsAlB9Pgb8mwVUY -O 'CountryIncomeClassifications_WB (2023).csv'\n",
        "# Downloaded from https://datahelpdesk.worldbank.org/knowledgebase/articles/906519-world-bank-country-and-lending-groups"
      ]
    },
    {
      "cell_type": "code",
      "execution_count": 210,
      "metadata": {
        "id": "V_qlrCADrBgR"
      },
      "outputs": [],
      "source": [
        "country_classifications = pd.read_csv('CountryIncomeClassifications_WB (2023).csv')"
      ]
    },
    {
      "cell_type": "markdown",
      "metadata": {
        "id": "ObNPHKT9yK1k"
      },
      "source": [
        "# Data Preprocessing and Cleaning\n",
        "Note: The majority of the code in this section was taken from the code provided by Adam in Lecture 4. Further, the explanations on what each line of code does were mostly taken from Chat GPT. "
      ]
    },
    {
      "cell_type": "markdown",
      "metadata": {
        "id": "Vq2jCU0FsJEh"
      },
      "source": [
        "## OECD Health Statistics Dataset"
      ]
    },
    {
      "cell_type": "code",
      "execution_count": 211,
      "metadata": {
        "id": "vACuYYoVwho3"
      },
      "outputs": [],
      "source": [
        "# Transformed the 'country' column of the data_long dataframe\n",
        "  # i.e., Cleans and standardizes the strings in the 'country' column, by removing any special characters, trailing whitespaces, and correcting specific values where necessary\n",
        "data_long['country']=data_long['country'].str.replace(r\"[^A-Za-z\\s]\", \"\").str.replace(r\"\\s+$\", \"\").replace({\"Trkiye\": \"Türkiye\"})\n",
        "  # `data_long['country'].str.replace(r\"[^A-Za-z\\s]\", \"\")` uses `str.replace` to replace all characters in the 'country' column that are not letters or whitespaces with an empty string. The regular expression r\"[^A-Za-z\\s]\" matches any characters that are not upper or lower case letters or whitespaces.\n",
        "  # `data_long['country'].str.replace(r\"\\s+$\", \"\")` uses `str.replace` to remove any whitespaces at the end of each string in the 'country' column. The regular expression r\"\\s+$\" matches one or more whitespaces at the end of each string.\n",
        "  # `data_long['country'].replace({\"Trkiye\": \"Türkiye\"})` uses the replace method to replace the string \"Trkiye\" with \"Türkiye\" in the 'country' column."
      ]
    },
    {
      "cell_type": "code",
      "execution_count": 212,
      "metadata": {
        "id": "jpAIdtJwxxhX"
      },
      "outputs": [],
      "source": [
        "data_long = data_long.loc[data_long['year'].astype(str).str.len() < 10]\n",
        "  # Filtered out all rows in the data_long dataframe where where the length of the \"year\" column converted to a string is greater than or equal to 10"
      ]
    },
    {
      "cell_type": "code",
      "execution_count": 213,
      "metadata": {
        "id": "M5K5W1opx_Ws"
      },
      "outputs": [],
      "source": [
        "data_long['year']=data_long['year'].astype(str).str.slice(-4).astype(int)\n",
        "  # Converted the 'year' column from  its original data type to a string and extracts the last 4 characters of each string. The result is then converted to an integer data type."
      ]
    },
    {
      "cell_type": "code",
      "execution_count": 214,
      "metadata": {
        "id": "uGE3i2sayhLb"
      },
      "outputs": [],
      "source": [
        "data_long=data_long.reset_index(drop=True)\n",
        "  # Reset the index of data_long\n",
        "  # drop=True is used to avoid the old index being added as a new column"
      ]
    },
    {
      "cell_type": "code",
      "execution_count": 215,
      "metadata": {
        "id": "h0GsQOhtypsu"
      },
      "outputs": [],
      "source": [
        "data_long['value']=data_long['value'].astype(float)\n",
        "  # Converts the 'value' column from its original data type to a float data type"
      ]
    },
    {
      "cell_type": "code",
      "execution_count": 216,
      "metadata": {
        "colab": {
          "base_uri": "https://localhost:8080/"
        },
        "id": "ULkLe3PG0SND",
        "outputId": "a35b5137-8633-4848-da82-ecd1e7b7591a"
      },
      "outputs": [
        {
          "data": {
            "text/plain": [
              "Infant mortality rate              2223\n",
              "LE Females at birth                2152\n",
              "LE Males at birth                  2149\n",
              "Alcohol consumption                2135\n",
              "LE Total population at birth       2117\n",
              "LE Females at 65                   2054\n",
              "LE Males at 65                     2051\n",
              "PYLL, All causes, Females          1961\n",
              "PYLL, All causes, Males            1961\n",
              "Suicides, deaths per 100000 pop    1956\n",
              "Current expenditure, % GDP         1598\n",
              "Curr exp, per capita US$PPP        1556\n",
              "GovtCompIns, % curr exp            1530\n",
              "GovtCompIns, per capita US$PPP     1503\n",
              "Physicians                         1389\n",
              "Medical graduates                  1340\n",
              "ALOS, inpatient care               1270\n",
              "Pharma exp, per capita US$PPP      1252\n",
              "Pharmaceutical exp, % curr exp     1228\n",
              "OOP payments, % curr exp           1197\n",
              "OOP payments, per capita US$PPP    1190\n",
              "Inpatient care discharges          1185\n",
              "Nursing graduates                  1138\n",
              "Hospital beds                      1100\n",
              "Doctor consultations                999\n",
              "Nurses                              921\n",
              "Psychiatric care beds               909\n",
              "ALOS, AMI                           829\n",
              "Tobacco consumption, females        813\n",
              "Tobacco consumption, males          809\n",
              "Tobacco consumption, total          806\n",
              "C-sections                          782\n",
              "ALOS, delivery                      769\n",
              "CT scanners                         763\n",
              "MRI                                 735\n",
              "GovtCompIns, per capita, growth     569\n",
              "Current exp, per capita, growth     531\n",
              "Antibiotics                         526\n",
              "CT exams                            456\n",
              "MRI exams                           424\n",
              "Obesity, total (SR)                 375\n",
              "Obesity, females (SR)               374\n",
              "Obesity, males (SR)                 374\n",
              "Obesity, females (M)                182\n",
              "Obesity, males (M)                  182\n",
              "Obesity, total (M)                  181\n",
              "Name: variable, dtype: int64"
            ]
          },
          "execution_count": 216,
          "metadata": {},
          "output_type": "execute_result"
        }
      ],
      "source": [
        "data_long['variable'].value_counts()"
      ]
    },
    {
      "cell_type": "code",
      "execution_count": 217,
      "metadata": {
        "id": "lvcbiH2YPf8k"
      },
      "outputs": [],
      "source": [
        "def prepare_2d_data(df, years, columns):\n",
        "    output=df.loc[(df['year'].isin(years)) & df['variable'].isin(columns)]\n",
        "      # Subsets the original dataframe df to keep only the rows where the year and variable columns are in the lists years and columns respectively, using the .loc indexing method and the isin function.\n",
        "    output=output.pivot(index=['country', 'year'], columns='variable')\n",
        "      # Pivots the resulting dataframe so that the variables in the list columns become columns, the country and year columns become the index, and the values in the 'value' column become the values in the cells of the resulting dataframe. The pivot method accomplishes this by grouping the rows by the index specified in the index parameter, and reshaping the values in the specified columns into separate columns.\n",
        "    output=output.droplevel(0, axis=1)\n",
        "      # Drops the first level of the columns, which is created after pivoting, using the droplevel method.\n",
        "    output=output.reset_index()\n",
        "      # Resets the index of the dataframe using the reset_index method and returns the resulting dataframe as output.\n",
        "    return output"
      ]
    },
    {
      "cell_type": "markdown",
      "metadata": {
        "id": "VQ76pOx_sPld"
      },
      "source": [
        "## Country Income Classifications Dataset"
      ]
    },
    {
      "cell_type": "code",
      "execution_count": 218,
      "metadata": {
        "colab": {
          "base_uri": "https://localhost:8080/",
          "height": 112
        },
        "id": "zSzQ3ezrtH_f",
        "outputId": "1d2a4962-e13c-492a-d9db-f0bb9baffd04"
      },
      "outputs": [
        {
          "data": {
            "text/html": [
              "<div>\n",
              "<style scoped>\n",
              "    .dataframe tbody tr th:only-of-type {\n",
              "        vertical-align: middle;\n",
              "    }\n",
              "\n",
              "    .dataframe tbody tr th {\n",
              "        vertical-align: top;\n",
              "    }\n",
              "\n",
              "    .dataframe thead th {\n",
              "        text-align: right;\n",
              "    }\n",
              "</style>\n",
              "<table border=\"1\" class=\"dataframe\">\n",
              "  <thead>\n",
              "    <tr style=\"text-align: right;\">\n",
              "      <th></th>\n",
              "      <th>Economy</th>\n",
              "      <th>Code</th>\n",
              "      <th>Region</th>\n",
              "      <th>Income group</th>\n",
              "      <th>Lending category</th>\n",
              "      <th>Other (EMU or HIPC)</th>\n",
              "    </tr>\n",
              "  </thead>\n",
              "  <tbody>\n",
              "    <tr>\n",
              "      <th>0</th>\n",
              "      <td>Aruba</td>\n",
              "      <td>ABW</td>\n",
              "      <td>Latin America &amp; Caribbean</td>\n",
              "      <td>High income</td>\n",
              "      <td>NaN</td>\n",
              "      <td>NaN</td>\n",
              "    </tr>\n",
              "    <tr>\n",
              "      <th>1</th>\n",
              "      <td>Afghanistan</td>\n",
              "      <td>AFG</td>\n",
              "      <td>South Asia</td>\n",
              "      <td>Low income</td>\n",
              "      <td>IDA</td>\n",
              "      <td>HIPC</td>\n",
              "    </tr>\n",
              "  </tbody>\n",
              "</table>\n",
              "</div>"
            ],
            "text/plain": [
              "       Economy Code                     Region Income group Lending category  \\\n",
              "0        Aruba  ABW  Latin America & Caribbean  High income              NaN   \n",
              "1  Afghanistan  AFG                 South Asia   Low income              IDA   \n",
              "\n",
              "  Other (EMU or HIPC)  \n",
              "0                 NaN  \n",
              "1                HIPC  "
            ]
          },
          "execution_count": 218,
          "metadata": {},
          "output_type": "execute_result"
        }
      ],
      "source": [
        "country_classifications.head(2)"
      ]
    },
    {
      "cell_type": "code",
      "execution_count": 219,
      "metadata": {
        "id": "JqYg1ux5scsm"
      },
      "outputs": [],
      "source": [
        "# Dropped all columns except 'Economy' and 'Income group'\n",
        "country_income_groups = country_classifications[['Economy','Income group']]"
      ]
    },
    {
      "cell_type": "code",
      "execution_count": 220,
      "metadata": {
        "colab": {
          "base_uri": "https://localhost:8080/",
          "height": 112
        },
        "id": "0JKKYkQRs5TI",
        "outputId": "58be4f08-36ad-464c-b47e-274b1ef2dd11"
      },
      "outputs": [
        {
          "data": {
            "text/html": [
              "<div>\n",
              "<style scoped>\n",
              "    .dataframe tbody tr th:only-of-type {\n",
              "        vertical-align: middle;\n",
              "    }\n",
              "\n",
              "    .dataframe tbody tr th {\n",
              "        vertical-align: top;\n",
              "    }\n",
              "\n",
              "    .dataframe thead th {\n",
              "        text-align: right;\n",
              "    }\n",
              "</style>\n",
              "<table border=\"1\" class=\"dataframe\">\n",
              "  <thead>\n",
              "    <tr style=\"text-align: right;\">\n",
              "      <th></th>\n",
              "      <th>country</th>\n",
              "      <th>income_group</th>\n",
              "    </tr>\n",
              "  </thead>\n",
              "  <tbody>\n",
              "    <tr>\n",
              "      <th>0</th>\n",
              "      <td>Aruba</td>\n",
              "      <td>High income</td>\n",
              "    </tr>\n",
              "    <tr>\n",
              "      <th>1</th>\n",
              "      <td>Afghanistan</td>\n",
              "      <td>Low income</td>\n",
              "    </tr>\n",
              "  </tbody>\n",
              "</table>\n",
              "</div>"
            ],
            "text/plain": [
              "       country income_group\n",
              "0        Aruba  High income\n",
              "1  Afghanistan   Low income"
            ]
          },
          "execution_count": 220,
          "metadata": {},
          "output_type": "execute_result"
        }
      ],
      "source": [
        "# Renamed column 'Economy' to 'country' and 'Income group' to 'income_group'\n",
        "country_income_groups = country_income_groups.rename(columns={'Economy':'country'})\n",
        "country_income_groups = country_income_groups.rename(columns={'Income group':'income_group'})\n",
        "country_income_groups.head(2)"
      ]
    },
    {
      "cell_type": "code",
      "execution_count": 221,
      "metadata": {
        "colab": {
          "base_uri": "https://localhost:8080/",
          "height": 423
        },
        "id": "wJNjjMrhtagl",
        "outputId": "28337fb4-707b-45f1-ece9-8f7c61332ef4"
      },
      "outputs": [
        {
          "data": {
            "text/plain": [
              "country         217\n",
              "income_group    217\n",
              "dtype: int64"
            ]
          },
          "execution_count": 221,
          "metadata": {},
          "output_type": "execute_result"
        }
      ],
      "source": [
        "# Kept rows where value in the 'Income group' column was not missing\n",
        "country_income_groups = country_income_groups[country_income_groups['income_group'].notna()]\n",
        "country_income_groups.count()"
      ]
    },
    {
      "cell_type": "markdown",
      "metadata": {
        "id": "MZx_IrGVug6v"
      },
      "source": [
        "## Merging the OECD Health Statistics and Country Income Classification Datasets"
      ]
    },
    {
      "cell_type": "code",
      "execution_count": 222,
      "metadata": {
        "id": "BwIwwYi5yhtf"
      },
      "outputs": [],
      "source": [
        "# Created a list of unique entries in the 'country' column in data_long\n",
        "data_long_unique_countries = list((data_long['country'].unique()))\n",
        "# data_long_unique_countries"
      ]
    },
    {
      "cell_type": "code",
      "execution_count": 223,
      "metadata": {
        "id": "uADMySjeyr8K"
      },
      "outputs": [],
      "source": [
        "# Created a list of unique entries in the 'country' column in country_income_groups\n",
        "country_income_groups_unique_countries = list((country_income_groups['country'].unique()))\n",
        "#country_income_groups_unique_countries"
      ]
    },
    {
      "cell_type": "code",
      "execution_count": 224,
      "metadata": {
        "id": "eDCUjSoGy3pX"
      },
      "outputs": [],
      "source": [
        "# Checked which countries were in data_long but not in country_income_groups then alphebetized the output\n",
        "dl_butnot_cig_countries = list(set(data_long_unique_countries) - set(country_income_groups_unique_countries))\n",
        "list.sort(dl_butnot_cig_countries)\n",
        "#sorted(dl_butnot_cig_countries)"
      ]
    },
    {
      "cell_type": "code",
      "execution_count": 225,
      "metadata": {
        "id": "P3ke2TMwzX9m"
      },
      "outputs": [],
      "source": [
        "# Checked which countries were in country_income_groups but not in data_long then alphebetized the output\n",
        "cig_countries_butnot_dl = list(set(country_income_groups_unique_countries) - set(data_long_unique_countries))\n",
        "list.sort(cig_countries_butnot_dl)\n",
        "#sorted(cig_countries_butnot_dl)"
      ]
    },
    {
      "cell_type": "code",
      "execution_count": 226,
      "metadata": {
        "id": "Cx_0jHy-4Nqd"
      },
      "outputs": [],
      "source": [
        "# Created a dataframe from dl_butnot_cig_countries and cig_countries_butnot_dl to more easily compare the countries in both lists\n",
        "countries_in_one_dataset_but_not_other = pd.DataFrame({'OECD':pd.Series(dl_butnot_cig_countries),'Country Income Groups':pd.Series(cig_countries_butnot_dl)})\n",
        "  # Used https://stackoverflow.com/questions/49891200/generate-a-dataframe-from-list-with-different-length"
      ]
    },
    {
      "cell_type": "code",
      "execution_count": 227,
      "metadata": {
        "colab": {
          "base_uri": "https://localhost:8080/"
        },
        "id": "AY0V9X6c7ZpX",
        "outputId": "d60e174d-03ff-4f3f-fbab-5c674cc3fcaf"
      },
      "outputs": [
        {
          "name": "stdout",
          "output_type": "stream",
          "text": [
            "|     | OECD         | Country Income Groups          |\n",
            "|----:|:-------------|:-------------------------------|\n",
            "|   0 | Korea        | Afghanistan                    |\n",
            "|   1 | OECD AVERAGE | Albania                        |\n",
            "|   2 | nan          | Algeria                        |\n",
            "|   3 | nan          | American Samoa                 |\n",
            "|   4 | nan          | Andorra                        |\n",
            "|   5 | nan          | Angola                         |\n",
            "|   6 | nan          | Antigua and Barbuda            |\n",
            "|   7 | nan          | Argentina                      |\n",
            "|   8 | nan          | Armenia                        |\n",
            "|   9 | nan          | Aruba                          |\n",
            "|  10 | nan          | Azerbaijan                     |\n",
            "|  11 | nan          | Bahamas, The                   |\n",
            "|  12 | nan          | Bahrain                        |\n",
            "|  13 | nan          | Bangladesh                     |\n",
            "|  14 | nan          | Barbados                       |\n",
            "|  15 | nan          | Belarus                        |\n",
            "|  16 | nan          | Belize                         |\n",
            "|  17 | nan          | Benin                          |\n",
            "|  18 | nan          | Bermuda                        |\n",
            "|  19 | nan          | Bhutan                         |\n",
            "|  20 | nan          | Bolivia                        |\n",
            "|  21 | nan          | Bosnia and Herzegovina         |\n",
            "|  22 | nan          | Botswana                       |\n",
            "|  23 | nan          | Brazil                         |\n",
            "|  24 | nan          | British Virgin Islands         |\n",
            "|  25 | nan          | Brunei Darussalam              |\n",
            "|  26 | nan          | Bulgaria                       |\n",
            "|  27 | nan          | Burkina Faso                   |\n",
            "|  28 | nan          | Burundi                        |\n",
            "|  29 | nan          | Cabo Verde                     |\n",
            "|  30 | nan          | Cambodia                       |\n",
            "|  31 | nan          | Cameroon                       |\n",
            "|  32 | nan          | Cayman Islands                 |\n",
            "|  33 | nan          | Central African Republic       |\n",
            "|  34 | nan          | Chad                           |\n",
            "|  35 | nan          | Channel Islands                |\n",
            "|  36 | nan          | China                          |\n",
            "|  37 | nan          | Comoros                        |\n",
            "|  38 | nan          | Congo, Dem. Rep.               |\n",
            "|  39 | nan          | Congo, Rep.                    |\n",
            "|  40 | nan          | Croatia                        |\n",
            "|  41 | nan          | Cuba                           |\n",
            "|  42 | nan          | Curaçao                        |\n",
            "|  43 | nan          | Cyprus                         |\n",
            "|  44 | nan          | Côte d’Ivoire                  |\n",
            "|  45 | nan          | Djibouti                       |\n",
            "|  46 | nan          | Dominica                       |\n",
            "|  47 | nan          | Dominican Republic             |\n",
            "|  48 | nan          | Ecuador                        |\n",
            "|  49 | nan          | Egypt, Arab Rep.               |\n",
            "|  50 | nan          | El Salvador                    |\n",
            "|  51 | nan          | Equatorial Guinea              |\n",
            "|  52 | nan          | Eritrea                        |\n",
            "|  53 | nan          | Eswatini                       |\n",
            "|  54 | nan          | Ethiopia                       |\n",
            "|  55 | nan          | Faroe Islands                  |\n",
            "|  56 | nan          | Fiji                           |\n",
            "|  57 | nan          | French Polynesia               |\n",
            "|  58 | nan          | Gabon                          |\n",
            "|  59 | nan          | Gambia, The                    |\n",
            "|  60 | nan          | Georgia                        |\n",
            "|  61 | nan          | Ghana                          |\n",
            "|  62 | nan          | Gibraltar                      |\n",
            "|  63 | nan          | Greenland                      |\n",
            "|  64 | nan          | Grenada                        |\n",
            "|  65 | nan          | Guam                           |\n",
            "|  66 | nan          | Guatemala                      |\n",
            "|  67 | nan          | Guinea                         |\n",
            "|  68 | nan          | Guinea-Bissau                  |\n",
            "|  69 | nan          | Guyana                         |\n",
            "|  70 | nan          | Haiti                          |\n",
            "|  71 | nan          | Honduras                       |\n",
            "|  72 | nan          | Hong Kong SAR, China           |\n",
            "|  73 | nan          | India                          |\n",
            "|  74 | nan          | Indonesia                      |\n",
            "|  75 | nan          | Iran, Islamic Rep.             |\n",
            "|  76 | nan          | Iraq                           |\n",
            "|  77 | nan          | Isle of Man                    |\n",
            "|  78 | nan          | Jamaica                        |\n",
            "|  79 | nan          | Jordan                         |\n",
            "|  80 | nan          | Kazakhstan                     |\n",
            "|  81 | nan          | Kenya                          |\n",
            "|  82 | nan          | Kiribati                       |\n",
            "|  83 | nan          | Korea, Dem. People's Rep.      |\n",
            "|  84 | nan          | Korea, Rep.                    |\n",
            "|  85 | nan          | Kosovo                         |\n",
            "|  86 | nan          | Kuwait                         |\n",
            "|  87 | nan          | Kyrgyz Republic                |\n",
            "|  88 | nan          | Lao PDR                        |\n",
            "|  89 | nan          | Lebanon                        |\n",
            "|  90 | nan          | Lesotho                        |\n",
            "|  91 | nan          | Liberia                        |\n",
            "|  92 | nan          | Libya                          |\n",
            "|  93 | nan          | Liechtenstein                  |\n",
            "|  94 | nan          | Macao SAR, China               |\n",
            "|  95 | nan          | Madagascar                     |\n",
            "|  96 | nan          | Malawi                         |\n",
            "|  97 | nan          | Malaysia                       |\n",
            "|  98 | nan          | Maldives                       |\n",
            "|  99 | nan          | Mali                           |\n",
            "| 100 | nan          | Malta                          |\n",
            "| 101 | nan          | Marshall Islands               |\n",
            "| 102 | nan          | Mauritania                     |\n",
            "| 103 | nan          | Mauritius                      |\n",
            "| 104 | nan          | Micronesia, Fed. Sts.          |\n",
            "| 105 | nan          | Moldova                        |\n",
            "| 106 | nan          | Monaco                         |\n",
            "| 107 | nan          | Mongolia                       |\n",
            "| 108 | nan          | Montenegro                     |\n",
            "| 109 | nan          | Morocco                        |\n",
            "| 110 | nan          | Mozambique                     |\n",
            "| 111 | nan          | Myanmar                        |\n",
            "| 112 | nan          | Namibia                        |\n",
            "| 113 | nan          | Nauru                          |\n",
            "| 114 | nan          | Nepal                          |\n",
            "| 115 | nan          | New Caledonia                  |\n",
            "| 116 | nan          | Nicaragua                      |\n",
            "| 117 | nan          | Niger                          |\n",
            "| 118 | nan          | Nigeria                        |\n",
            "| 119 | nan          | North Macedonia                |\n",
            "| 120 | nan          | Northern Mariana Islands       |\n",
            "| 121 | nan          | Oman                           |\n",
            "| 122 | nan          | Pakistan                       |\n",
            "| 123 | nan          | Palau                          |\n",
            "| 124 | nan          | Panama                         |\n",
            "| 125 | nan          | Papua New Guinea               |\n",
            "| 126 | nan          | Paraguay                       |\n",
            "| 127 | nan          | Peru                           |\n",
            "| 128 | nan          | Philippines                    |\n",
            "| 129 | nan          | Puerto Rico                    |\n",
            "| 130 | nan          | Qatar                          |\n",
            "| 131 | nan          | Romania                        |\n",
            "| 132 | nan          | Russian Federation             |\n",
            "| 133 | nan          | Rwanda                         |\n",
            "| 134 | nan          | Samoa                          |\n",
            "| 135 | nan          | San Marino                     |\n",
            "| 136 | nan          | Saudi Arabia                   |\n",
            "| 137 | nan          | Senegal                        |\n",
            "| 138 | nan          | Serbia                         |\n",
            "| 139 | nan          | Seychelles                     |\n",
            "| 140 | nan          | Sierra Leone                   |\n",
            "| 141 | nan          | Singapore                      |\n",
            "| 142 | nan          | Sint Maarten (Dutch part)      |\n",
            "| 143 | nan          | Solomon Islands                |\n",
            "| 144 | nan          | Somalia                        |\n",
            "| 145 | nan          | South Africa                   |\n",
            "| 146 | nan          | South Sudan                    |\n",
            "| 147 | nan          | Sri Lanka                      |\n",
            "| 148 | nan          | St. Kitts and Nevis            |\n",
            "| 149 | nan          | St. Lucia                      |\n",
            "| 150 | nan          | St. Martin (French part)       |\n",
            "| 151 | nan          | St. Vincent and the Grenadines |\n",
            "| 152 | nan          | Sudan                          |\n",
            "| 153 | nan          | Suriname                       |\n",
            "| 154 | nan          | Syrian Arab Republic           |\n",
            "| 155 | nan          | São Tomé and Príncipe          |\n",
            "| 156 | nan          | Taiwan, China                  |\n",
            "| 157 | nan          | Tajikistan                     |\n",
            "| 158 | nan          | Tanzania                       |\n",
            "| 159 | nan          | Thailand                       |\n",
            "| 160 | nan          | Timor-Leste                    |\n",
            "| 161 | nan          | Togo                           |\n",
            "| 162 | nan          | Tonga                          |\n",
            "| 163 | nan          | Trinidad and Tobago            |\n",
            "| 164 | nan          | Tunisia                        |\n",
            "| 165 | nan          | Turkmenistan                   |\n",
            "| 166 | nan          | Turks and Caicos Islands       |\n",
            "| 167 | nan          | Tuvalu                         |\n",
            "| 168 | nan          | Uganda                         |\n",
            "| 169 | nan          | Ukraine                        |\n",
            "| 170 | nan          | United Arab Emirates           |\n",
            "| 171 | nan          | Uruguay                        |\n",
            "| 172 | nan          | Uzbekistan                     |\n",
            "| 173 | nan          | Vanuatu                        |\n",
            "| 174 | nan          | Vietnam                        |\n",
            "| 175 | nan          | Virgin Islands (U.S.)          |\n",
            "| 176 | nan          | West Bank and Gaza             |\n",
            "| 177 | nan          | Yemen, Rep.                    |\n",
            "| 178 | nan          | Zambia                         |\n",
            "| 179 | nan          | Zimbabwe                       |\n"
          ]
        }
      ],
      "source": [
        "# Converted the dataframe \"countries_in_one_dataset_but_not_other\" into str object with formatting (so as to display the entire dataframe)\n",
        "print(countries_in_one_dataset_but_not_other.to_markdown())"
      ]
    },
    {
      "cell_type": "code",
      "execution_count": 228,
      "metadata": {
        "id": "kI9Uwo0p_S81"
      },
      "outputs": [],
      "source": [
        "# Replaced 'Korea, Rep.' in the dataframe \"country_income_groups\" to 'Korea' to match the \"data_long\" dataframe\n",
        "country_income_groups = country_income_groups.replace('Korea, Rep.','Korea')\n",
        "\n",
        "# Checked that the replacements were successsful\n",
        "# country_income_groups_unique_countries_v2 = list((country_income_groups['country'].unique()))\n",
        "# list.sort(country_income_groups_unique_countries_v2)\n",
        "# print(country_income_groups_unique_countries_v2)"
      ]
    },
    {
      "cell_type": "code",
      "execution_count": 229,
      "metadata": {
        "colab": {
          "base_uri": "https://localhost:8080/",
          "height": 423
        },
        "id": "t9CwhlCkwACN",
        "outputId": "c4cf4fdf-8e60-402d-e6af-24752577bbc4"
      },
      "outputs": [
        {
          "data": {
            "text/html": [
              "<div>\n",
              "<style scoped>\n",
              "    .dataframe tbody tr th:only-of-type {\n",
              "        vertical-align: middle;\n",
              "    }\n",
              "\n",
              "    .dataframe tbody tr th {\n",
              "        vertical-align: top;\n",
              "    }\n",
              "\n",
              "    .dataframe thead th {\n",
              "        text-align: right;\n",
              "    }\n",
              "</style>\n",
              "<table border=\"1\" class=\"dataframe\">\n",
              "  <thead>\n",
              "    <tr style=\"text-align: right;\">\n",
              "      <th></th>\n",
              "      <th>country</th>\n",
              "      <th>year</th>\n",
              "      <th>variable</th>\n",
              "      <th>value</th>\n",
              "      <th>income_group</th>\n",
              "    </tr>\n",
              "  </thead>\n",
              "  <tbody>\n",
              "    <tr>\n",
              "      <th>0</th>\n",
              "      <td>Austria</td>\n",
              "      <td>1970</td>\n",
              "      <td>Current expenditure, % GDP</td>\n",
              "      <td>4.838</td>\n",
              "      <td>High income</td>\n",
              "    </tr>\n",
              "    <tr>\n",
              "      <th>1</th>\n",
              "      <td>Belgium</td>\n",
              "      <td>1970</td>\n",
              "      <td>Current expenditure, % GDP</td>\n",
              "      <td>3.856</td>\n",
              "      <td>High income</td>\n",
              "    </tr>\n",
              "    <tr>\n",
              "      <th>2</th>\n",
              "      <td>Canada</td>\n",
              "      <td>1970</td>\n",
              "      <td>Current expenditure, % GDP</td>\n",
              "      <td>6.353</td>\n",
              "      <td>High income</td>\n",
              "    </tr>\n",
              "    <tr>\n",
              "      <th>3</th>\n",
              "      <td>Finland</td>\n",
              "      <td>1970</td>\n",
              "      <td>Current expenditure, % GDP</td>\n",
              "      <td>4.989</td>\n",
              "      <td>High income</td>\n",
              "    </tr>\n",
              "    <tr>\n",
              "      <th>4</th>\n",
              "      <td>France</td>\n",
              "      <td>1970</td>\n",
              "      <td>Current expenditure, % GDP</td>\n",
              "      <td>5.201</td>\n",
              "      <td>High income</td>\n",
              "    </tr>\n",
              "    <tr>\n",
              "      <th>...</th>\n",
              "      <td>...</td>\n",
              "      <td>...</td>\n",
              "      <td>...</td>\n",
              "      <td>...</td>\n",
              "      <td>...</td>\n",
              "    </tr>\n",
              "    <tr>\n",
              "      <th>52539</th>\n",
              "      <td>Korea</td>\n",
              "      <td>2020</td>\n",
              "      <td>Obesity, total (M)</td>\n",
              "      <td>7.400</td>\n",
              "      <td>High income</td>\n",
              "    </tr>\n",
              "    <tr>\n",
              "      <th>52540</th>\n",
              "      <td>Latvia</td>\n",
              "      <td>2020</td>\n",
              "      <td>Obesity, total (M)</td>\n",
              "      <td>23.900</td>\n",
              "      <td>High income</td>\n",
              "    </tr>\n",
              "    <tr>\n",
              "      <th>52541</th>\n",
              "      <td>Mexico</td>\n",
              "      <td>2020</td>\n",
              "      <td>Obesity, total (M)</td>\n",
              "      <td>36.000</td>\n",
              "      <td>Upper middle income</td>\n",
              "    </tr>\n",
              "    <tr>\n",
              "      <th>52542</th>\n",
              "      <td>New Zealand</td>\n",
              "      <td>2020</td>\n",
              "      <td>Obesity, total (M)</td>\n",
              "      <td>31.200</td>\n",
              "      <td>High income</td>\n",
              "    </tr>\n",
              "    <tr>\n",
              "      <th>52543</th>\n",
              "      <td>New Zealand</td>\n",
              "      <td>2021</td>\n",
              "      <td>Obesity, total (M)</td>\n",
              "      <td>34.300</td>\n",
              "      <td>High income</td>\n",
              "    </tr>\n",
              "  </tbody>\n",
              "</table>\n",
              "<p>52544 rows × 5 columns</p>\n",
              "</div>"
            ],
            "text/plain": [
              "           country  year                    variable   value  \\\n",
              "0          Austria  1970  Current expenditure, % GDP   4.838   \n",
              "1          Belgium  1970  Current expenditure, % GDP   3.856   \n",
              "2           Canada  1970  Current expenditure, % GDP   6.353   \n",
              "3          Finland  1970  Current expenditure, % GDP   4.989   \n",
              "4           France  1970  Current expenditure, % GDP   5.201   \n",
              "...            ...   ...                         ...     ...   \n",
              "52539        Korea  2020          Obesity, total (M)   7.400   \n",
              "52540       Latvia  2020          Obesity, total (M)  23.900   \n",
              "52541       Mexico  2020          Obesity, total (M)  36.000   \n",
              "52542  New Zealand  2020          Obesity, total (M)  31.200   \n",
              "52543  New Zealand  2021          Obesity, total (M)  34.300   \n",
              "\n",
              "              income_group  \n",
              "0              High income  \n",
              "1              High income  \n",
              "2              High income  \n",
              "3              High income  \n",
              "4              High income  \n",
              "...                    ...  \n",
              "52539          High income  \n",
              "52540          High income  \n",
              "52541  Upper middle income  \n",
              "52542          High income  \n",
              "52543          High income  \n",
              "\n",
              "[52544 rows x 5 columns]"
            ]
          },
          "execution_count": 229,
          "metadata": {},
          "output_type": "execute_result"
        }
      ],
      "source": [
        "# Performed an left join on data_long and country_income_groups\n",
        "data_long_country_income_groups = pd.merge(data_long,country_income_groups,on='country',how='left')\n",
        "data_long_country_income_groups"
      ]
    },
    {
      "cell_type": "markdown",
      "metadata": {
        "id": "M4x6e-sUz8Vy"
      },
      "source": [
        "# Generating Visualizations"
      ]
    },
    {
      "cell_type": "markdown",
      "metadata": {
        "id": "Fu8DGporz-c8"
      },
      "source": [
        "## **Figure 1**. Out-of-Pocket Healthcare Expenditure per Capita vs. Current Healthcare Expenditure per Capita Across Countries in 2018 and 2020. "
      ]
    },
    {
      "cell_type": "code",
      "execution_count": 230,
      "metadata": {
        "id": "UDTWUaV50HY1"
      },
      "outputs": [],
      "source": [
        "# figure1_2018_2020=prepare_2d_data(data_long, [2018,2020], ['Curr exp, per capita US$PPP', 'OOP payments, per capita US$PPP'])\n",
        "  # When I tried to run the above line of code, I got the following error, \"ValueError: Index contains duplicate entries, cannot reshape\"\n",
        "  # Therefore, I tried to figure out where the duplicate entries were using the code below\n",
        "# figure1_2018=prepare_2d_data(data_long, [2018], ['Curr exp, per capita US$PPP', 'OOP payments, per capita US$PPP'])\n",
        "  # I did not get an error with the above line of code\n",
        "# figure1_2020_currexp=prepare_2d_data(data_long, [2020], ['Curr exp, per capita US$PPP'])\n",
        "  # I got the same error with the above line of code\n",
        "# figure1_2020_oop=prepare_2d_data(data_long, [2020], ['OOP payments, per capita US$PPP'])\n",
        "  # I did not get an error with the above line of code, therefore the duplicated entries are in 'Curr exp, per capita US$PPP'"
      ]
    },
    {
      "cell_type": "code",
      "execution_count": 231,
      "metadata": {
        "colab": {
          "base_uri": "https://localhost:8080/"
        },
        "id": "PG8LjHzU0cvT",
        "outputId": "fe0e7e7b-0f27-426d-a973-e35e4571a932"
      },
      "outputs": [
        {
          "name": "stdout",
          "output_type": "stream",
          "text": [
            "             country         income_group  year                     variable  \\\n",
            "3057       Australia          High income  2020  Curr exp, per capita US$PPP   \n",
            "3058         Austria          High income  2020  Curr exp, per capita US$PPP   \n",
            "3059         Belgium          High income  2020  Curr exp, per capita US$PPP   \n",
            "3060          Canada          High income  2020  Curr exp, per capita US$PPP   \n",
            "3061           Chile          High income  2020  Curr exp, per capita US$PPP   \n",
            "...              ...                  ...   ...                          ...   \n",
            "3149     Switzerland          High income  2020  Curr exp, per capita US$PPP   \n",
            "3150         Türkiye  Upper middle income  2020  Curr exp, per capita US$PPP   \n",
            "3151  United Kingdom          High income  2020  Curr exp, per capita US$PPP   \n",
            "3152   United States          High income  2020  Curr exp, per capita US$PPP   \n",
            "3153    OECD AVERAGE                  NaN  2020  Curr exp, per capita US$PPP   \n",
            "\n",
            "             value  \n",
            "3057   5627.315000  \n",
            "3058   5882.745000  \n",
            "3059   5406.979000  \n",
            "3060   5828.324000  \n",
            "3061   2412.752000  \n",
            "...            ...  \n",
            "3149   7178.560000  \n",
            "3150   1304.709000  \n",
            "3151   5018.700000  \n",
            "3152  11859.179000  \n",
            "3153   4277.686132  \n",
            "\n",
            "[77 rows x 5 columns]\n"
          ]
        }
      ],
      "source": [
        "# Previewed the 2020 entries in 'Curr exp, per capita US$PPP'\n",
        "mask = (data_long_country_income_groups['year'] == 2020) & (data_long_country_income_groups['variable'] == 'Curr exp, per capita US$PPP')\n",
        "preview_2020_currexp = data_long_country_income_groups[mask]\n",
        "preview_2020_currexp = preview_2020_currexp.loc[:, ['country', 'income_group', 'year','variable', 'value']]\n",
        "print(preview_2020_currexp)"
      ]
    },
    {
      "cell_type": "code",
      "execution_count": 232,
      "metadata": {
        "colab": {
          "base_uri": "https://localhost:8080/"
        },
        "id": "FmI6NvRC3V_j",
        "outputId": "61ad9216-ee96-4b06-d6c7-dbc6f619f59f"
      },
      "outputs": [
        {
          "name": "stdout",
          "output_type": "stream",
          "text": [
            "              country         income_group  year                     variable  \\\n",
            "3115        Australia          High income  2020  Curr exp, per capita US$PPP   \n",
            "3116          Austria          High income  2020  Curr exp, per capita US$PPP   \n",
            "3117          Belgium          High income  2020  Curr exp, per capita US$PPP   \n",
            "3118           Canada          High income  2020  Curr exp, per capita US$PPP   \n",
            "3119            Chile          High income  2020  Curr exp, per capita US$PPP   \n",
            "3120         Colombia  Upper middle income  2020  Curr exp, per capita US$PPP   \n",
            "3121       Costa Rica  Upper middle income  2020  Curr exp, per capita US$PPP   \n",
            "3122   Czech Republic          High income  2020  Curr exp, per capita US$PPP   \n",
            "3123          Denmark          High income  2020  Curr exp, per capita US$PPP   \n",
            "3124          Estonia          High income  2020  Curr exp, per capita US$PPP   \n",
            "3125          Finland          High income  2020  Curr exp, per capita US$PPP   \n",
            "3126           France          High income  2020  Curr exp, per capita US$PPP   \n",
            "3127          Germany          High income  2020  Curr exp, per capita US$PPP   \n",
            "3128           Greece          High income  2020  Curr exp, per capita US$PPP   \n",
            "3129          Hungary          High income  2020  Curr exp, per capita US$PPP   \n",
            "3130          Iceland          High income  2020  Curr exp, per capita US$PPP   \n",
            "3131          Ireland          High income  2020  Curr exp, per capita US$PPP   \n",
            "3132           Israel          High income  2020  Curr exp, per capita US$PPP   \n",
            "3133            Italy          High income  2020  Curr exp, per capita US$PPP   \n",
            "3134            Japan          High income  2020  Curr exp, per capita US$PPP   \n",
            "3135            Korea          High income  2020  Curr exp, per capita US$PPP   \n",
            "3136           Latvia          High income  2020  Curr exp, per capita US$PPP   \n",
            "3137        Lithuania          High income  2020  Curr exp, per capita US$PPP   \n",
            "3138       Luxembourg          High income  2020  Curr exp, per capita US$PPP   \n",
            "3139           Mexico  Upper middle income  2020  Curr exp, per capita US$PPP   \n",
            "3140      Netherlands          High income  2020  Curr exp, per capita US$PPP   \n",
            "3141      New Zealand          High income  2020  Curr exp, per capita US$PPP   \n",
            "3142           Norway          High income  2020  Curr exp, per capita US$PPP   \n",
            "3143           Poland          High income  2020  Curr exp, per capita US$PPP   \n",
            "3144         Portugal          High income  2020  Curr exp, per capita US$PPP   \n",
            "3145  Slovak Republic          High income  2020  Curr exp, per capita US$PPP   \n",
            "3146         Slovenia          High income  2020  Curr exp, per capita US$PPP   \n",
            "3147            Spain          High income  2020  Curr exp, per capita US$PPP   \n",
            "3148           Sweden          High income  2020  Curr exp, per capita US$PPP   \n",
            "3149      Switzerland          High income  2020  Curr exp, per capita US$PPP   \n",
            "3150          Türkiye  Upper middle income  2020  Curr exp, per capita US$PPP   \n",
            "3151   United Kingdom          High income  2020  Curr exp, per capita US$PPP   \n",
            "3152    United States          High income  2020  Curr exp, per capita US$PPP   \n",
            "\n",
            "          value  \n",
            "3115   5627.315  \n",
            "3116   5882.745  \n",
            "3117   5406.979  \n",
            "3118   5828.324  \n",
            "3119   2412.752  \n",
            "3120   1335.877  \n",
            "3121   1617.823  \n",
            "3122   3805.143  \n",
            "3123   5693.651  \n",
            "3124   2729.229  \n",
            "3125   4604.622  \n",
            "3126   5468.418  \n",
            "3127   6938.983  \n",
            "3128   2486.091  \n",
            "3129   2401.999  \n",
            "3130   4620.158  \n",
            "3131   5372.814  \n",
            "3132   3057.408  \n",
            "3133   3747.172  \n",
            "3134   4665.641  \n",
            "3135   3582.313  \n",
            "3136   2227.896  \n",
            "3137   2881.844  \n",
            "3138   5628.497  \n",
            "3139   1226.736  \n",
            "3140   6180.011  \n",
            "3141   4469.383  \n",
            "3142   6581.629  \n",
            "3143   2286.111  \n",
            "3144   3348.203  \n",
            "3145   2125.666  \n",
            "3146   3474.147  \n",
            "3147   3718.054  \n",
            "3148   5757.291  \n",
            "3149   7178.560  \n",
            "3150   1304.709  \n",
            "3151   5018.700  \n",
            "3152  11859.179  \n"
          ]
        }
      ],
      "source": [
        "# Displayed duplicated entries in preview_2020_currexp\n",
        "duplicated_2020_currexp = preview_2020_currexp[preview_2020_currexp.duplicated()]\n",
        "print(duplicated_2020_currexp)"
      ]
    },
    {
      "cell_type": "code",
      "execution_count": 233,
      "metadata": {
        "id": "r7dpGK56366-"
      },
      "outputs": [],
      "source": [
        "# Deleted duplicated 2020 entries in 'Curr exp, per capita US$PPP' from data_long then created fig1_2018_2020 dataframe\n",
        "fig1_2018_2020_deleting_duplicates = data_long.loc[(data_long['year'].isin([2018, 2020])) & (data_long['variable'].isin(['Curr exp, per capita US$PPP', 'OOP payments, per capita US$PPP']))]\n",
        "fig1_2018_2020_deleting_duplicates = fig1_2018_2020_deleting_duplicates.drop_duplicates()\n",
        "fig1_2018_2020 = prepare_2d_data(fig1_2018_2020_deleting_duplicates, [2018, 2020], ['Curr exp, per capita US$PPP', 'OOP payments, per capita US$PPP'])"
      ]
    },
    {
      "cell_type": "code",
      "execution_count": 234,
      "metadata": {
        "colab": {
          "base_uri": "https://localhost:8080/",
          "height": 423
        },
        "id": "9MI6Uf234idd",
        "outputId": "d51276bb-4e06-4a2c-ba3e-a272f8fb7356"
      },
      "outputs": [
        {
          "data": {
            "text/html": [
              "<div>\n",
              "<style scoped>\n",
              "    .dataframe tbody tr th:only-of-type {\n",
              "        vertical-align: middle;\n",
              "    }\n",
              "\n",
              "    .dataframe tbody tr th {\n",
              "        vertical-align: top;\n",
              "    }\n",
              "\n",
              "    .dataframe thead th {\n",
              "        text-align: right;\n",
              "    }\n",
              "</style>\n",
              "<table border=\"1\" class=\"dataframe\">\n",
              "  <thead>\n",
              "    <tr style=\"text-align: right;\">\n",
              "      <th>variable</th>\n",
              "      <th>country</th>\n",
              "      <th>year</th>\n",
              "      <th>Curr exp, per capita US$PPP</th>\n",
              "      <th>OOP payments, per capita US$PPP</th>\n",
              "    </tr>\n",
              "  </thead>\n",
              "  <tbody>\n",
              "    <tr>\n",
              "      <th>0</th>\n",
              "      <td>Australia</td>\n",
              "      <td>2018</td>\n",
              "      <td>5193.845</td>\n",
              "      <td>842.565</td>\n",
              "    </tr>\n",
              "    <tr>\n",
              "      <th>1</th>\n",
              "      <td>Australia</td>\n",
              "      <td>2020</td>\n",
              "      <td>5627.315</td>\n",
              "      <td>NaN</td>\n",
              "    </tr>\n",
              "    <tr>\n",
              "      <th>2</th>\n",
              "      <td>Austria</td>\n",
              "      <td>2018</td>\n",
              "      <td>5518.538</td>\n",
              "      <td>1016.810</td>\n",
              "    </tr>\n",
              "    <tr>\n",
              "      <th>3</th>\n",
              "      <td>Austria</td>\n",
              "      <td>2020</td>\n",
              "      <td>5882.745</td>\n",
              "      <td>988.544</td>\n",
              "    </tr>\n",
              "    <tr>\n",
              "      <th>4</th>\n",
              "      <td>Belgium</td>\n",
              "      <td>2018</td>\n",
              "      <td>5315.194</td>\n",
              "      <td>946.897</td>\n",
              "    </tr>\n",
              "    <tr>\n",
              "      <th>...</th>\n",
              "      <td>...</td>\n",
              "      <td>...</td>\n",
              "      <td>...</td>\n",
              "      <td>...</td>\n",
              "    </tr>\n",
              "    <tr>\n",
              "      <th>72</th>\n",
              "      <td>Türkiye</td>\n",
              "      <td>2020</td>\n",
              "      <td>1304.709</td>\n",
              "      <td>214.372</td>\n",
              "    </tr>\n",
              "    <tr>\n",
              "      <th>73</th>\n",
              "      <td>United Kingdom</td>\n",
              "      <td>2018</td>\n",
              "      <td>4189.708</td>\n",
              "      <td>641.852</td>\n",
              "    </tr>\n",
              "    <tr>\n",
              "      <th>74</th>\n",
              "      <td>United Kingdom</td>\n",
              "      <td>2020</td>\n",
              "      <td>5018.700</td>\n",
              "      <td>629.229</td>\n",
              "    </tr>\n",
              "    <tr>\n",
              "      <th>75</th>\n",
              "      <td>United States</td>\n",
              "      <td>2018</td>\n",
              "      <td>10451.386</td>\n",
              "      <td>1182.653</td>\n",
              "    </tr>\n",
              "    <tr>\n",
              "      <th>76</th>\n",
              "      <td>United States</td>\n",
              "      <td>2020</td>\n",
              "      <td>11859.179</td>\n",
              "      <td>1172.382</td>\n",
              "    </tr>\n",
              "  </tbody>\n",
              "</table>\n",
              "<p>77 rows × 4 columns</p>\n",
              "</div>"
            ],
            "text/plain": [
              "variable         country  year  Curr exp, per capita US$PPP  \\\n",
              "0              Australia  2018                     5193.845   \n",
              "1              Australia  2020                     5627.315   \n",
              "2                Austria  2018                     5518.538   \n",
              "3                Austria  2020                     5882.745   \n",
              "4                Belgium  2018                     5315.194   \n",
              "..                   ...   ...                          ...   \n",
              "72               Türkiye  2020                     1304.709   \n",
              "73        United Kingdom  2018                     4189.708   \n",
              "74        United Kingdom  2020                     5018.700   \n",
              "75         United States  2018                    10451.386   \n",
              "76         United States  2020                    11859.179   \n",
              "\n",
              "variable  OOP payments, per capita US$PPP  \n",
              "0                                 842.565  \n",
              "1                                     NaN  \n",
              "2                                1016.810  \n",
              "3                                 988.544  \n",
              "4                                 946.897  \n",
              "..                                    ...  \n",
              "72                                214.372  \n",
              "73                                641.852  \n",
              "74                                629.229  \n",
              "75                               1182.653  \n",
              "76                               1172.382  \n",
              "\n",
              "[77 rows x 4 columns]"
            ]
          },
          "execution_count": 234,
          "metadata": {},
          "output_type": "execute_result"
        }
      ],
      "source": [
        "# Previewed fig1_2018_2020\n",
        "fig1_2018_2020"
      ]
    },
    {
      "cell_type": "code",
      "execution_count": 235,
      "metadata": {
        "colab": {
          "base_uri": "https://localhost:8080/",
          "height": 206
        },
        "id": "aXidXiFCP_8f",
        "outputId": "b1a1c6db-d97b-4d0c-e424-3cf815008051"
      },
      "outputs": [
        {
          "data": {
            "text/html": [
              "<div>\n",
              "<style scoped>\n",
              "    .dataframe tbody tr th:only-of-type {\n",
              "        vertical-align: middle;\n",
              "    }\n",
              "\n",
              "    .dataframe tbody tr th {\n",
              "        vertical-align: top;\n",
              "    }\n",
              "\n",
              "    .dataframe thead th {\n",
              "        text-align: right;\n",
              "    }\n",
              "</style>\n",
              "<table border=\"1\" class=\"dataframe\">\n",
              "  <thead>\n",
              "    <tr style=\"text-align: right;\">\n",
              "      <th></th>\n",
              "      <th>country</th>\n",
              "      <th>year</th>\n",
              "      <th>Curr exp, per capita US$PPP</th>\n",
              "      <th>OOP payments, per capita US$PPP</th>\n",
              "      <th>income_group</th>\n",
              "    </tr>\n",
              "  </thead>\n",
              "  <tbody>\n",
              "    <tr>\n",
              "      <th>0</th>\n",
              "      <td>Australia</td>\n",
              "      <td>2018</td>\n",
              "      <td>5193.845</td>\n",
              "      <td>842.565</td>\n",
              "      <td>High income</td>\n",
              "    </tr>\n",
              "    <tr>\n",
              "      <th>1</th>\n",
              "      <td>Australia</td>\n",
              "      <td>2020</td>\n",
              "      <td>5627.315</td>\n",
              "      <td>NaN</td>\n",
              "      <td>High income</td>\n",
              "    </tr>\n",
              "    <tr>\n",
              "      <th>2</th>\n",
              "      <td>Austria</td>\n",
              "      <td>2018</td>\n",
              "      <td>5518.538</td>\n",
              "      <td>1016.810</td>\n",
              "      <td>High income</td>\n",
              "    </tr>\n",
              "    <tr>\n",
              "      <th>3</th>\n",
              "      <td>Austria</td>\n",
              "      <td>2020</td>\n",
              "      <td>5882.745</td>\n",
              "      <td>988.544</td>\n",
              "      <td>High income</td>\n",
              "    </tr>\n",
              "    <tr>\n",
              "      <th>4</th>\n",
              "      <td>Belgium</td>\n",
              "      <td>2018</td>\n",
              "      <td>5315.194</td>\n",
              "      <td>946.897</td>\n",
              "      <td>High income</td>\n",
              "    </tr>\n",
              "  </tbody>\n",
              "</table>\n",
              "</div>"
            ],
            "text/plain": [
              "     country  year  Curr exp, per capita US$PPP  \\\n",
              "0  Australia  2018                     5193.845   \n",
              "1  Australia  2020                     5627.315   \n",
              "2    Austria  2018                     5518.538   \n",
              "3    Austria  2020                     5882.745   \n",
              "4    Belgium  2018                     5315.194   \n",
              "\n",
              "   OOP payments, per capita US$PPP income_group  \n",
              "0                          842.565  High income  \n",
              "1                              NaN  High income  \n",
              "2                         1016.810  High income  \n",
              "3                          988.544  High income  \n",
              "4                          946.897  High income  "
            ]
          },
          "execution_count": 235,
          "metadata": {},
          "output_type": "execute_result"
        }
      ],
      "source": [
        "# Performed an left join on fig1_2018_2020 and country_income_groups\n",
        "fig1_2018_2020_v2= pd.merge(fig1_2018_2020,country_income_groups,on='country',how='left')\n",
        "fig1_2018_2020_v2.head(5)"
      ]
    },
    {
      "cell_type": "code",
      "execution_count": 236,
      "metadata": {
        "id": "NnrMhQWK46kg"
      },
      "outputs": [],
      "source": [
        "# Created fig1_2018\n",
        "fig1_2018=prepare_2d_data(data_long, [2018], ['Curr exp, per capita US$PPP', 'OOP payments, per capita US$PPP'])"
      ]
    },
    {
      "cell_type": "code",
      "execution_count": 237,
      "metadata": {
        "colab": {
          "base_uri": "https://localhost:8080/",
          "height": 206
        },
        "id": "VUFwE9VqQRCh",
        "outputId": "32f63048-8ad4-4a4f-a353-1e4265ccdd23"
      },
      "outputs": [
        {
          "data": {
            "text/html": [
              "<div>\n",
              "<style scoped>\n",
              "    .dataframe tbody tr th:only-of-type {\n",
              "        vertical-align: middle;\n",
              "    }\n",
              "\n",
              "    .dataframe tbody tr th {\n",
              "        vertical-align: top;\n",
              "    }\n",
              "\n",
              "    .dataframe thead th {\n",
              "        text-align: right;\n",
              "    }\n",
              "</style>\n",
              "<table border=\"1\" class=\"dataframe\">\n",
              "  <thead>\n",
              "    <tr style=\"text-align: right;\">\n",
              "      <th></th>\n",
              "      <th>country</th>\n",
              "      <th>year</th>\n",
              "      <th>Curr exp, per capita US$PPP</th>\n",
              "      <th>OOP payments, per capita US$PPP</th>\n",
              "      <th>income_group</th>\n",
              "    </tr>\n",
              "  </thead>\n",
              "  <tbody>\n",
              "    <tr>\n",
              "      <th>0</th>\n",
              "      <td>Australia</td>\n",
              "      <td>2018</td>\n",
              "      <td>5193.845</td>\n",
              "      <td>842.565</td>\n",
              "      <td>High income</td>\n",
              "    </tr>\n",
              "    <tr>\n",
              "      <th>1</th>\n",
              "      <td>Austria</td>\n",
              "      <td>2018</td>\n",
              "      <td>5518.538</td>\n",
              "      <td>1016.810</td>\n",
              "      <td>High income</td>\n",
              "    </tr>\n",
              "    <tr>\n",
              "      <th>2</th>\n",
              "      <td>Belgium</td>\n",
              "      <td>2018</td>\n",
              "      <td>5315.194</td>\n",
              "      <td>946.897</td>\n",
              "      <td>High income</td>\n",
              "    </tr>\n",
              "    <tr>\n",
              "      <th>3</th>\n",
              "      <td>Canada</td>\n",
              "      <td>2018</td>\n",
              "      <td>5308.356</td>\n",
              "      <td>807.080</td>\n",
              "      <td>High income</td>\n",
              "    </tr>\n",
              "    <tr>\n",
              "      <th>4</th>\n",
              "      <td>Chile</td>\n",
              "      <td>2018</td>\n",
              "      <td>2281.148</td>\n",
              "      <td>758.407</td>\n",
              "      <td>High income</td>\n",
              "    </tr>\n",
              "  </tbody>\n",
              "</table>\n",
              "</div>"
            ],
            "text/plain": [
              "     country  year  Curr exp, per capita US$PPP  \\\n",
              "0  Australia  2018                     5193.845   \n",
              "1    Austria  2018                     5518.538   \n",
              "2    Belgium  2018                     5315.194   \n",
              "3     Canada  2018                     5308.356   \n",
              "4      Chile  2018                     2281.148   \n",
              "\n",
              "   OOP payments, per capita US$PPP income_group  \n",
              "0                          842.565  High income  \n",
              "1                         1016.810  High income  \n",
              "2                          946.897  High income  \n",
              "3                          807.080  High income  \n",
              "4                          758.407  High income  "
            ]
          },
          "execution_count": 237,
          "metadata": {},
          "output_type": "execute_result"
        }
      ],
      "source": [
        "# Performed an left join on fig1_2018 and country_income_groups\n",
        "fig1_2018_v2= pd.merge(fig1_2018,country_income_groups,on='country',how='left')\n",
        "# Drop rows with NaN values in fig1_2018_v2\n",
        "fig1_2018_v2 = fig1_2018_v2.dropna()\n",
        "fig1_2018_v2.head(5)"
      ]
    },
    {
      "cell_type": "code",
      "execution_count": 238,
      "metadata": {
        "id": "NWQGB5Gn5WeB"
      },
      "outputs": [],
      "source": [
        "# Deleted duplicated 2020 entries in 'Curr exp, per capita US$PPP' from data_long then created fig1_2020 dataframe\n",
        "fig1_2020_deleting_duplicates = data_long.loc[(data_long['year'].isin([2020])) & (data_long['variable'].isin(['Curr exp, per capita US$PPP', 'OOP payments, per capita US$PPP']))]\n",
        "fig1_2020_deleting_duplicates = fig1_2020_deleting_duplicates.drop_duplicates()\n",
        "fig1_2020 = prepare_2d_data(fig1_2020_deleting_duplicates, [2020], ['Curr exp, per capita US$PPP', 'OOP payments, per capita US$PPP'])"
      ]
    },
    {
      "cell_type": "code",
      "execution_count": 239,
      "metadata": {
        "colab": {
          "base_uri": "https://localhost:8080/",
          "height": 206
        },
        "id": "6ana4_cRQbvL",
        "outputId": "c9ed6f2a-705b-4dfc-992e-7c2a5fed00eb"
      },
      "outputs": [
        {
          "data": {
            "text/html": [
              "<div>\n",
              "<style scoped>\n",
              "    .dataframe tbody tr th:only-of-type {\n",
              "        vertical-align: middle;\n",
              "    }\n",
              "\n",
              "    .dataframe tbody tr th {\n",
              "        vertical-align: top;\n",
              "    }\n",
              "\n",
              "    .dataframe thead th {\n",
              "        text-align: right;\n",
              "    }\n",
              "</style>\n",
              "<table border=\"1\" class=\"dataframe\">\n",
              "  <thead>\n",
              "    <tr style=\"text-align: right;\">\n",
              "      <th></th>\n",
              "      <th>country</th>\n",
              "      <th>year</th>\n",
              "      <th>Curr exp, per capita US$PPP</th>\n",
              "      <th>OOP payments, per capita US$PPP</th>\n",
              "      <th>income_group</th>\n",
              "    </tr>\n",
              "  </thead>\n",
              "  <tbody>\n",
              "    <tr>\n",
              "      <th>1</th>\n",
              "      <td>Austria</td>\n",
              "      <td>2020</td>\n",
              "      <td>5882.745</td>\n",
              "      <td>988.544</td>\n",
              "      <td>High income</td>\n",
              "    </tr>\n",
              "    <tr>\n",
              "      <th>2</th>\n",
              "      <td>Belgium</td>\n",
              "      <td>2020</td>\n",
              "      <td>5406.979</td>\n",
              "      <td>867.304</td>\n",
              "      <td>High income</td>\n",
              "    </tr>\n",
              "    <tr>\n",
              "      <th>3</th>\n",
              "      <td>Canada</td>\n",
              "      <td>2020</td>\n",
              "      <td>5828.324</td>\n",
              "      <td>724.500</td>\n",
              "      <td>High income</td>\n",
              "    </tr>\n",
              "    <tr>\n",
              "      <th>4</th>\n",
              "      <td>Chile</td>\n",
              "      <td>2020</td>\n",
              "      <td>2412.752</td>\n",
              "      <td>708.795</td>\n",
              "      <td>High income</td>\n",
              "    </tr>\n",
              "    <tr>\n",
              "      <th>5</th>\n",
              "      <td>Colombia</td>\n",
              "      <td>2020</td>\n",
              "      <td>1335.877</td>\n",
              "      <td>181.512</td>\n",
              "      <td>Upper middle income</td>\n",
              "    </tr>\n",
              "  </tbody>\n",
              "</table>\n",
              "</div>"
            ],
            "text/plain": [
              "    country  year  Curr exp, per capita US$PPP  \\\n",
              "1   Austria  2020                     5882.745   \n",
              "2   Belgium  2020                     5406.979   \n",
              "3    Canada  2020                     5828.324   \n",
              "4     Chile  2020                     2412.752   \n",
              "5  Colombia  2020                     1335.877   \n",
              "\n",
              "   OOP payments, per capita US$PPP         income_group  \n",
              "1                          988.544          High income  \n",
              "2                          867.304          High income  \n",
              "3                          724.500          High income  \n",
              "4                          708.795          High income  \n",
              "5                          181.512  Upper middle income  "
            ]
          },
          "execution_count": 239,
          "metadata": {},
          "output_type": "execute_result"
        }
      ],
      "source": [
        "# Performed an left join on fig1_2020 and country_income_groups\n",
        "fig1_2020_v2= pd.merge(fig1_2020,country_income_groups,on='country',how='left')\n",
        "# Drop rows with NaN values in fig1_2020_v2\n",
        "fig1_2020_v2 = fig1_2020_v2.dropna()\n",
        "fig1_2020_v2.head(5)"
      ]
    },
    {
      "cell_type": "code",
      "execution_count": 240,
      "metadata": {
        "colab": {
          "base_uri": "https://localhost:8080/",
          "height": 542
        },
        "id": "tSiqVDap5lLr",
        "outputId": "059fb2cc-de62-44bd-b9d6-4b626fcabcae"
      },
      "outputs": [
        {
          "data": {
            "application/vnd.plotly.v1+json": {
              "config": {
                "plotlyServerURL": "https://plot.ly"
              },
              "data": [
                {
                  "hovertemplate": "income_group=High income<br>Curr exp, per capita US$PPP=%{x}<br>OOP payments, per capita US$PPP=%{y}<extra></extra>",
                  "legendgroup": "High income",
                  "marker": {
                    "color": "#636efa",
                    "symbol": "circle"
                  },
                  "mode": "markers",
                  "name": "High income",
                  "orientation": "v",
                  "showlegend": true,
                  "type": "scatter",
                  "x": [
                    5193.845,
                    5518.538,
                    5315.194,
                    5308.356,
                    2281.148,
                    3128.523,
                    5306.704,
                    2364.073,
                    4330.443,
                    5099.306,
                    6281.84,
                    2314.696,
                    2105.71,
                    4235.661,
                    4870.689,
                    2748.975,
                    3495.868,
                    4554.276,
                    3078.831,
                    1860.969,
                    2396.809,
                    5292.055,
                    5482.27,
                    3913.078,
                    6495.078,
                    2106.662,
                    3134.128,
                    2008.975,
                    3045.106,
                    3427.341,
                    5419.273,
                    6930.7,
                    4189.708,
                    10451.386
                  ],
                  "xaxis": "x",
                  "y": [
                    842.565,
                    1016.81,
                    946.897,
                    807.08,
                    758.407,
                    443.834,
                    733.603,
                    579.508,
                    795.477,
                    484.791,
                    820.913,
                    835.144,
                    564.415,
                    675.04,
                    585.584,
                    600.292,
                    823.31,
                    591.808,
                    992.747,
                    729.121,
                    755.371,
                    552.262,
                    591.61,
                    505.245,
                    907.274,
                    430.187,
                    937.648,
                    379.853,
                    364.851,
                    762.388,
                    756.467,
                    1837.962,
                    641.852,
                    1182.653
                  ],
                  "yaxis": "y"
                },
                {
                  "hovertemplate": "income_group=Upper middle income<br>Curr exp, per capita US$PPP=%{x}<br>OOP payments, per capita US$PPP=%{y}<extra></extra>",
                  "legendgroup": "Upper middle income",
                  "marker": {
                    "color": "#EF553B",
                    "symbol": "circle"
                  },
                  "mode": "markers",
                  "name": "Upper middle income",
                  "orientation": "v",
                  "showlegend": true,
                  "type": "scatter",
                  "x": [
                    1191.885,
                    1529.721,
                    1122.178,
                    1205.305
                  ],
                  "xaxis": "x",
                  "y": [
                    180.341,
                    342.909,
                    474.787,
                    210.825
                  ],
                  "yaxis": "y"
                }
              ],
              "layout": {
                "legend": {
                  "title": {
                    "text": "income_group"
                  },
                  "tracegroupgap": 0
                },
                "margin": {
                  "t": 60
                },
                "template": {
                  "data": {
                    "bar": [
                      {
                        "error_x": {
                          "color": "#2a3f5f"
                        },
                        "error_y": {
                          "color": "#2a3f5f"
                        },
                        "marker": {
                          "line": {
                            "color": "#E5ECF6",
                            "width": 0.5
                          },
                          "pattern": {
                            "fillmode": "overlay",
                            "size": 10,
                            "solidity": 0.2
                          }
                        },
                        "type": "bar"
                      }
                    ],
                    "barpolar": [
                      {
                        "marker": {
                          "line": {
                            "color": "#E5ECF6",
                            "width": 0.5
                          },
                          "pattern": {
                            "fillmode": "overlay",
                            "size": 10,
                            "solidity": 0.2
                          }
                        },
                        "type": "barpolar"
                      }
                    ],
                    "carpet": [
                      {
                        "aaxis": {
                          "endlinecolor": "#2a3f5f",
                          "gridcolor": "white",
                          "linecolor": "white",
                          "minorgridcolor": "white",
                          "startlinecolor": "#2a3f5f"
                        },
                        "baxis": {
                          "endlinecolor": "#2a3f5f",
                          "gridcolor": "white",
                          "linecolor": "white",
                          "minorgridcolor": "white",
                          "startlinecolor": "#2a3f5f"
                        },
                        "type": "carpet"
                      }
                    ],
                    "choropleth": [
                      {
                        "colorbar": {
                          "outlinewidth": 0,
                          "ticks": ""
                        },
                        "type": "choropleth"
                      }
                    ],
                    "contour": [
                      {
                        "colorbar": {
                          "outlinewidth": 0,
                          "ticks": ""
                        },
                        "colorscale": [
                          [
                            0,
                            "#0d0887"
                          ],
                          [
                            0.1111111111111111,
                            "#46039f"
                          ],
                          [
                            0.2222222222222222,
                            "#7201a8"
                          ],
                          [
                            0.3333333333333333,
                            "#9c179e"
                          ],
                          [
                            0.4444444444444444,
                            "#bd3786"
                          ],
                          [
                            0.5555555555555556,
                            "#d8576b"
                          ],
                          [
                            0.6666666666666666,
                            "#ed7953"
                          ],
                          [
                            0.7777777777777778,
                            "#fb9f3a"
                          ],
                          [
                            0.8888888888888888,
                            "#fdca26"
                          ],
                          [
                            1,
                            "#f0f921"
                          ]
                        ],
                        "type": "contour"
                      }
                    ],
                    "contourcarpet": [
                      {
                        "colorbar": {
                          "outlinewidth": 0,
                          "ticks": ""
                        },
                        "type": "contourcarpet"
                      }
                    ],
                    "heatmap": [
                      {
                        "colorbar": {
                          "outlinewidth": 0,
                          "ticks": ""
                        },
                        "colorscale": [
                          [
                            0,
                            "#0d0887"
                          ],
                          [
                            0.1111111111111111,
                            "#46039f"
                          ],
                          [
                            0.2222222222222222,
                            "#7201a8"
                          ],
                          [
                            0.3333333333333333,
                            "#9c179e"
                          ],
                          [
                            0.4444444444444444,
                            "#bd3786"
                          ],
                          [
                            0.5555555555555556,
                            "#d8576b"
                          ],
                          [
                            0.6666666666666666,
                            "#ed7953"
                          ],
                          [
                            0.7777777777777778,
                            "#fb9f3a"
                          ],
                          [
                            0.8888888888888888,
                            "#fdca26"
                          ],
                          [
                            1,
                            "#f0f921"
                          ]
                        ],
                        "type": "heatmap"
                      }
                    ],
                    "heatmapgl": [
                      {
                        "colorbar": {
                          "outlinewidth": 0,
                          "ticks": ""
                        },
                        "colorscale": [
                          [
                            0,
                            "#0d0887"
                          ],
                          [
                            0.1111111111111111,
                            "#46039f"
                          ],
                          [
                            0.2222222222222222,
                            "#7201a8"
                          ],
                          [
                            0.3333333333333333,
                            "#9c179e"
                          ],
                          [
                            0.4444444444444444,
                            "#bd3786"
                          ],
                          [
                            0.5555555555555556,
                            "#d8576b"
                          ],
                          [
                            0.6666666666666666,
                            "#ed7953"
                          ],
                          [
                            0.7777777777777778,
                            "#fb9f3a"
                          ],
                          [
                            0.8888888888888888,
                            "#fdca26"
                          ],
                          [
                            1,
                            "#f0f921"
                          ]
                        ],
                        "type": "heatmapgl"
                      }
                    ],
                    "histogram": [
                      {
                        "marker": {
                          "pattern": {
                            "fillmode": "overlay",
                            "size": 10,
                            "solidity": 0.2
                          }
                        },
                        "type": "histogram"
                      }
                    ],
                    "histogram2d": [
                      {
                        "colorbar": {
                          "outlinewidth": 0,
                          "ticks": ""
                        },
                        "colorscale": [
                          [
                            0,
                            "#0d0887"
                          ],
                          [
                            0.1111111111111111,
                            "#46039f"
                          ],
                          [
                            0.2222222222222222,
                            "#7201a8"
                          ],
                          [
                            0.3333333333333333,
                            "#9c179e"
                          ],
                          [
                            0.4444444444444444,
                            "#bd3786"
                          ],
                          [
                            0.5555555555555556,
                            "#d8576b"
                          ],
                          [
                            0.6666666666666666,
                            "#ed7953"
                          ],
                          [
                            0.7777777777777778,
                            "#fb9f3a"
                          ],
                          [
                            0.8888888888888888,
                            "#fdca26"
                          ],
                          [
                            1,
                            "#f0f921"
                          ]
                        ],
                        "type": "histogram2d"
                      }
                    ],
                    "histogram2dcontour": [
                      {
                        "colorbar": {
                          "outlinewidth": 0,
                          "ticks": ""
                        },
                        "colorscale": [
                          [
                            0,
                            "#0d0887"
                          ],
                          [
                            0.1111111111111111,
                            "#46039f"
                          ],
                          [
                            0.2222222222222222,
                            "#7201a8"
                          ],
                          [
                            0.3333333333333333,
                            "#9c179e"
                          ],
                          [
                            0.4444444444444444,
                            "#bd3786"
                          ],
                          [
                            0.5555555555555556,
                            "#d8576b"
                          ],
                          [
                            0.6666666666666666,
                            "#ed7953"
                          ],
                          [
                            0.7777777777777778,
                            "#fb9f3a"
                          ],
                          [
                            0.8888888888888888,
                            "#fdca26"
                          ],
                          [
                            1,
                            "#f0f921"
                          ]
                        ],
                        "type": "histogram2dcontour"
                      }
                    ],
                    "mesh3d": [
                      {
                        "colorbar": {
                          "outlinewidth": 0,
                          "ticks": ""
                        },
                        "type": "mesh3d"
                      }
                    ],
                    "parcoords": [
                      {
                        "line": {
                          "colorbar": {
                            "outlinewidth": 0,
                            "ticks": ""
                          }
                        },
                        "type": "parcoords"
                      }
                    ],
                    "pie": [
                      {
                        "automargin": true,
                        "type": "pie"
                      }
                    ],
                    "scatter": [
                      {
                        "fillpattern": {
                          "fillmode": "overlay",
                          "size": 10,
                          "solidity": 0.2
                        },
                        "type": "scatter"
                      }
                    ],
                    "scatter3d": [
                      {
                        "line": {
                          "colorbar": {
                            "outlinewidth": 0,
                            "ticks": ""
                          }
                        },
                        "marker": {
                          "colorbar": {
                            "outlinewidth": 0,
                            "ticks": ""
                          }
                        },
                        "type": "scatter3d"
                      }
                    ],
                    "scattercarpet": [
                      {
                        "marker": {
                          "colorbar": {
                            "outlinewidth": 0,
                            "ticks": ""
                          }
                        },
                        "type": "scattercarpet"
                      }
                    ],
                    "scattergeo": [
                      {
                        "marker": {
                          "colorbar": {
                            "outlinewidth": 0,
                            "ticks": ""
                          }
                        },
                        "type": "scattergeo"
                      }
                    ],
                    "scattergl": [
                      {
                        "marker": {
                          "colorbar": {
                            "outlinewidth": 0,
                            "ticks": ""
                          }
                        },
                        "type": "scattergl"
                      }
                    ],
                    "scattermapbox": [
                      {
                        "marker": {
                          "colorbar": {
                            "outlinewidth": 0,
                            "ticks": ""
                          }
                        },
                        "type": "scattermapbox"
                      }
                    ],
                    "scatterpolar": [
                      {
                        "marker": {
                          "colorbar": {
                            "outlinewidth": 0,
                            "ticks": ""
                          }
                        },
                        "type": "scatterpolar"
                      }
                    ],
                    "scatterpolargl": [
                      {
                        "marker": {
                          "colorbar": {
                            "outlinewidth": 0,
                            "ticks": ""
                          }
                        },
                        "type": "scatterpolargl"
                      }
                    ],
                    "scatterternary": [
                      {
                        "marker": {
                          "colorbar": {
                            "outlinewidth": 0,
                            "ticks": ""
                          }
                        },
                        "type": "scatterternary"
                      }
                    ],
                    "surface": [
                      {
                        "colorbar": {
                          "outlinewidth": 0,
                          "ticks": ""
                        },
                        "colorscale": [
                          [
                            0,
                            "#0d0887"
                          ],
                          [
                            0.1111111111111111,
                            "#46039f"
                          ],
                          [
                            0.2222222222222222,
                            "#7201a8"
                          ],
                          [
                            0.3333333333333333,
                            "#9c179e"
                          ],
                          [
                            0.4444444444444444,
                            "#bd3786"
                          ],
                          [
                            0.5555555555555556,
                            "#d8576b"
                          ],
                          [
                            0.6666666666666666,
                            "#ed7953"
                          ],
                          [
                            0.7777777777777778,
                            "#fb9f3a"
                          ],
                          [
                            0.8888888888888888,
                            "#fdca26"
                          ],
                          [
                            1,
                            "#f0f921"
                          ]
                        ],
                        "type": "surface"
                      }
                    ],
                    "table": [
                      {
                        "cells": {
                          "fill": {
                            "color": "#EBF0F8"
                          },
                          "line": {
                            "color": "white"
                          }
                        },
                        "header": {
                          "fill": {
                            "color": "#C8D4E3"
                          },
                          "line": {
                            "color": "white"
                          }
                        },
                        "type": "table"
                      }
                    ]
                  },
                  "layout": {
                    "annotationdefaults": {
                      "arrowcolor": "#2a3f5f",
                      "arrowhead": 0,
                      "arrowwidth": 1
                    },
                    "autotypenumbers": "strict",
                    "coloraxis": {
                      "colorbar": {
                        "outlinewidth": 0,
                        "ticks": ""
                      }
                    },
                    "colorscale": {
                      "diverging": [
                        [
                          0,
                          "#8e0152"
                        ],
                        [
                          0.1,
                          "#c51b7d"
                        ],
                        [
                          0.2,
                          "#de77ae"
                        ],
                        [
                          0.3,
                          "#f1b6da"
                        ],
                        [
                          0.4,
                          "#fde0ef"
                        ],
                        [
                          0.5,
                          "#f7f7f7"
                        ],
                        [
                          0.6,
                          "#e6f5d0"
                        ],
                        [
                          0.7,
                          "#b8e186"
                        ],
                        [
                          0.8,
                          "#7fbc41"
                        ],
                        [
                          0.9,
                          "#4d9221"
                        ],
                        [
                          1,
                          "#276419"
                        ]
                      ],
                      "sequential": [
                        [
                          0,
                          "#0d0887"
                        ],
                        [
                          0.1111111111111111,
                          "#46039f"
                        ],
                        [
                          0.2222222222222222,
                          "#7201a8"
                        ],
                        [
                          0.3333333333333333,
                          "#9c179e"
                        ],
                        [
                          0.4444444444444444,
                          "#bd3786"
                        ],
                        [
                          0.5555555555555556,
                          "#d8576b"
                        ],
                        [
                          0.6666666666666666,
                          "#ed7953"
                        ],
                        [
                          0.7777777777777778,
                          "#fb9f3a"
                        ],
                        [
                          0.8888888888888888,
                          "#fdca26"
                        ],
                        [
                          1,
                          "#f0f921"
                        ]
                      ],
                      "sequentialminus": [
                        [
                          0,
                          "#0d0887"
                        ],
                        [
                          0.1111111111111111,
                          "#46039f"
                        ],
                        [
                          0.2222222222222222,
                          "#7201a8"
                        ],
                        [
                          0.3333333333333333,
                          "#9c179e"
                        ],
                        [
                          0.4444444444444444,
                          "#bd3786"
                        ],
                        [
                          0.5555555555555556,
                          "#d8576b"
                        ],
                        [
                          0.6666666666666666,
                          "#ed7953"
                        ],
                        [
                          0.7777777777777778,
                          "#fb9f3a"
                        ],
                        [
                          0.8888888888888888,
                          "#fdca26"
                        ],
                        [
                          1,
                          "#f0f921"
                        ]
                      ]
                    },
                    "colorway": [
                      "#636efa",
                      "#EF553B",
                      "#00cc96",
                      "#ab63fa",
                      "#FFA15A",
                      "#19d3f3",
                      "#FF6692",
                      "#B6E880",
                      "#FF97FF",
                      "#FECB52"
                    ],
                    "font": {
                      "color": "#2a3f5f"
                    },
                    "geo": {
                      "bgcolor": "white",
                      "lakecolor": "white",
                      "landcolor": "#E5ECF6",
                      "showlakes": true,
                      "showland": true,
                      "subunitcolor": "white"
                    },
                    "hoverlabel": {
                      "align": "left"
                    },
                    "hovermode": "closest",
                    "mapbox": {
                      "style": "light"
                    },
                    "paper_bgcolor": "white",
                    "plot_bgcolor": "#E5ECF6",
                    "polar": {
                      "angularaxis": {
                        "gridcolor": "white",
                        "linecolor": "white",
                        "ticks": ""
                      },
                      "bgcolor": "#E5ECF6",
                      "radialaxis": {
                        "gridcolor": "white",
                        "linecolor": "white",
                        "ticks": ""
                      }
                    },
                    "scene": {
                      "xaxis": {
                        "backgroundcolor": "#E5ECF6",
                        "gridcolor": "white",
                        "gridwidth": 2,
                        "linecolor": "white",
                        "showbackground": true,
                        "ticks": "",
                        "zerolinecolor": "white"
                      },
                      "yaxis": {
                        "backgroundcolor": "#E5ECF6",
                        "gridcolor": "white",
                        "gridwidth": 2,
                        "linecolor": "white",
                        "showbackground": true,
                        "ticks": "",
                        "zerolinecolor": "white"
                      },
                      "zaxis": {
                        "backgroundcolor": "#E5ECF6",
                        "gridcolor": "white",
                        "gridwidth": 2,
                        "linecolor": "white",
                        "showbackground": true,
                        "ticks": "",
                        "zerolinecolor": "white"
                      }
                    },
                    "shapedefaults": {
                      "line": {
                        "color": "#2a3f5f"
                      }
                    },
                    "ternary": {
                      "aaxis": {
                        "gridcolor": "white",
                        "linecolor": "white",
                        "ticks": ""
                      },
                      "baxis": {
                        "gridcolor": "white",
                        "linecolor": "white",
                        "ticks": ""
                      },
                      "bgcolor": "#E5ECF6",
                      "caxis": {
                        "gridcolor": "white",
                        "linecolor": "white",
                        "ticks": ""
                      }
                    },
                    "title": {
                      "x": 0.05
                    },
                    "xaxis": {
                      "automargin": true,
                      "gridcolor": "white",
                      "linecolor": "white",
                      "ticks": "",
                      "title": {
                        "standoff": 15
                      },
                      "zerolinecolor": "white",
                      "zerolinewidth": 2
                    },
                    "yaxis": {
                      "automargin": true,
                      "gridcolor": "white",
                      "linecolor": "white",
                      "ticks": "",
                      "title": {
                        "standoff": 15
                      },
                      "zerolinecolor": "white",
                      "zerolinewidth": 2
                    }
                  }
                },
                "xaxis": {
                  "anchor": "y",
                  "domain": [
                    0,
                    1
                  ],
                  "title": {
                    "text": "Curr exp, per capita US$PPP"
                  }
                },
                "yaxis": {
                  "anchor": "x",
                  "domain": [
                    0,
                    1
                  ],
                  "title": {
                    "text": "OOP payments, per capita US$PPP"
                  }
                }
              }
            }
          },
          "metadata": {},
          "output_type": "display_data"
        }
      ],
      "source": [
        "# Created scatterplot with fig1_2018\n",
        "px.scatter(fig1_2018_v2, x='Curr exp, per capita US$PPP', y='OOP payments, per capita US$PPP', color='income_group')"
      ]
    },
    {
      "cell_type": "code",
      "execution_count": 241,
      "metadata": {
        "colab": {
          "base_uri": "https://localhost:8080/",
          "height": 542
        },
        "id": "fFChNejD5n5H",
        "outputId": "0d83e829-f3f0-4e7f-df32-ffff8010048e"
      },
      "outputs": [
        {
          "data": {
            "application/vnd.plotly.v1+json": {
              "config": {
                "plotlyServerURL": "https://plot.ly"
              },
              "data": [
                {
                  "hovertemplate": "income_group=High income<br>Curr exp, per capita US$PPP=%{x}<br>OOP payments, per capita US$PPP=%{y}<extra></extra>",
                  "legendgroup": "High income",
                  "marker": {
                    "color": "#636efa",
                    "symbol": "circle"
                  },
                  "mode": "markers",
                  "name": "High income",
                  "orientation": "v",
                  "showlegend": true,
                  "type": "scatter",
                  "x": [
                    5882.745,
                    5406.979,
                    5828.324,
                    2412.752,
                    3805.143,
                    5693.651,
                    2729.229,
                    4604.622,
                    5468.418,
                    6938.983,
                    2486.091,
                    2401.999,
                    4620.158,
                    5372.814,
                    3057.408,
                    3747.172,
                    4665.641,
                    3582.313,
                    2227.896,
                    2881.844,
                    5628.497,
                    6180.011,
                    6581.629,
                    2286.111,
                    3348.203,
                    2125.666,
                    3474.147,
                    3718.054,
                    5757.291,
                    7178.56,
                    5018.7,
                    11859.179
                  ],
                  "xaxis": "x",
                  "y": [
                    988.544,
                    867.304,
                    724.5,
                    708.795,
                    438.546,
                    730.47,
                    585.209,
                    755.611,
                    488.895,
                    862.928,
                    831.311,
                    613.075,
                    693.759,
                    564.337,
                    524.052,
                    797.308,
                    621.042,
                    994.077,
                    710.118,
                    826.908,
                    474.095,
                    575.982,
                    914.739,
                    446.591,
                    930.684,
                    398.598,
                    433.37,
                    729.646,
                    750.269,
                    1576.985,
                    629.229,
                    1172.382
                  ],
                  "yaxis": "y"
                },
                {
                  "hovertemplate": "income_group=Upper middle income<br>Curr exp, per capita US$PPP=%{x}<br>OOP payments, per capita US$PPP=%{y}<extra></extra>",
                  "legendgroup": "Upper middle income",
                  "marker": {
                    "color": "#EF553B",
                    "symbol": "circle"
                  },
                  "mode": "markers",
                  "name": "Upper middle income",
                  "orientation": "v",
                  "showlegend": true,
                  "type": "scatter",
                  "x": [
                    1335.877,
                    1617.823,
                    1226.736,
                    1304.709
                  ],
                  "xaxis": "x",
                  "y": [
                    181.512,
                    328.204,
                    475.567,
                    214.372
                  ],
                  "yaxis": "y"
                }
              ],
              "layout": {
                "legend": {
                  "title": {
                    "text": "income_group"
                  },
                  "tracegroupgap": 0
                },
                "margin": {
                  "t": 60
                },
                "template": {
                  "data": {
                    "bar": [
                      {
                        "error_x": {
                          "color": "#2a3f5f"
                        },
                        "error_y": {
                          "color": "#2a3f5f"
                        },
                        "marker": {
                          "line": {
                            "color": "#E5ECF6",
                            "width": 0.5
                          },
                          "pattern": {
                            "fillmode": "overlay",
                            "size": 10,
                            "solidity": 0.2
                          }
                        },
                        "type": "bar"
                      }
                    ],
                    "barpolar": [
                      {
                        "marker": {
                          "line": {
                            "color": "#E5ECF6",
                            "width": 0.5
                          },
                          "pattern": {
                            "fillmode": "overlay",
                            "size": 10,
                            "solidity": 0.2
                          }
                        },
                        "type": "barpolar"
                      }
                    ],
                    "carpet": [
                      {
                        "aaxis": {
                          "endlinecolor": "#2a3f5f",
                          "gridcolor": "white",
                          "linecolor": "white",
                          "minorgridcolor": "white",
                          "startlinecolor": "#2a3f5f"
                        },
                        "baxis": {
                          "endlinecolor": "#2a3f5f",
                          "gridcolor": "white",
                          "linecolor": "white",
                          "minorgridcolor": "white",
                          "startlinecolor": "#2a3f5f"
                        },
                        "type": "carpet"
                      }
                    ],
                    "choropleth": [
                      {
                        "colorbar": {
                          "outlinewidth": 0,
                          "ticks": ""
                        },
                        "type": "choropleth"
                      }
                    ],
                    "contour": [
                      {
                        "colorbar": {
                          "outlinewidth": 0,
                          "ticks": ""
                        },
                        "colorscale": [
                          [
                            0,
                            "#0d0887"
                          ],
                          [
                            0.1111111111111111,
                            "#46039f"
                          ],
                          [
                            0.2222222222222222,
                            "#7201a8"
                          ],
                          [
                            0.3333333333333333,
                            "#9c179e"
                          ],
                          [
                            0.4444444444444444,
                            "#bd3786"
                          ],
                          [
                            0.5555555555555556,
                            "#d8576b"
                          ],
                          [
                            0.6666666666666666,
                            "#ed7953"
                          ],
                          [
                            0.7777777777777778,
                            "#fb9f3a"
                          ],
                          [
                            0.8888888888888888,
                            "#fdca26"
                          ],
                          [
                            1,
                            "#f0f921"
                          ]
                        ],
                        "type": "contour"
                      }
                    ],
                    "contourcarpet": [
                      {
                        "colorbar": {
                          "outlinewidth": 0,
                          "ticks": ""
                        },
                        "type": "contourcarpet"
                      }
                    ],
                    "heatmap": [
                      {
                        "colorbar": {
                          "outlinewidth": 0,
                          "ticks": ""
                        },
                        "colorscale": [
                          [
                            0,
                            "#0d0887"
                          ],
                          [
                            0.1111111111111111,
                            "#46039f"
                          ],
                          [
                            0.2222222222222222,
                            "#7201a8"
                          ],
                          [
                            0.3333333333333333,
                            "#9c179e"
                          ],
                          [
                            0.4444444444444444,
                            "#bd3786"
                          ],
                          [
                            0.5555555555555556,
                            "#d8576b"
                          ],
                          [
                            0.6666666666666666,
                            "#ed7953"
                          ],
                          [
                            0.7777777777777778,
                            "#fb9f3a"
                          ],
                          [
                            0.8888888888888888,
                            "#fdca26"
                          ],
                          [
                            1,
                            "#f0f921"
                          ]
                        ],
                        "type": "heatmap"
                      }
                    ],
                    "heatmapgl": [
                      {
                        "colorbar": {
                          "outlinewidth": 0,
                          "ticks": ""
                        },
                        "colorscale": [
                          [
                            0,
                            "#0d0887"
                          ],
                          [
                            0.1111111111111111,
                            "#46039f"
                          ],
                          [
                            0.2222222222222222,
                            "#7201a8"
                          ],
                          [
                            0.3333333333333333,
                            "#9c179e"
                          ],
                          [
                            0.4444444444444444,
                            "#bd3786"
                          ],
                          [
                            0.5555555555555556,
                            "#d8576b"
                          ],
                          [
                            0.6666666666666666,
                            "#ed7953"
                          ],
                          [
                            0.7777777777777778,
                            "#fb9f3a"
                          ],
                          [
                            0.8888888888888888,
                            "#fdca26"
                          ],
                          [
                            1,
                            "#f0f921"
                          ]
                        ],
                        "type": "heatmapgl"
                      }
                    ],
                    "histogram": [
                      {
                        "marker": {
                          "pattern": {
                            "fillmode": "overlay",
                            "size": 10,
                            "solidity": 0.2
                          }
                        },
                        "type": "histogram"
                      }
                    ],
                    "histogram2d": [
                      {
                        "colorbar": {
                          "outlinewidth": 0,
                          "ticks": ""
                        },
                        "colorscale": [
                          [
                            0,
                            "#0d0887"
                          ],
                          [
                            0.1111111111111111,
                            "#46039f"
                          ],
                          [
                            0.2222222222222222,
                            "#7201a8"
                          ],
                          [
                            0.3333333333333333,
                            "#9c179e"
                          ],
                          [
                            0.4444444444444444,
                            "#bd3786"
                          ],
                          [
                            0.5555555555555556,
                            "#d8576b"
                          ],
                          [
                            0.6666666666666666,
                            "#ed7953"
                          ],
                          [
                            0.7777777777777778,
                            "#fb9f3a"
                          ],
                          [
                            0.8888888888888888,
                            "#fdca26"
                          ],
                          [
                            1,
                            "#f0f921"
                          ]
                        ],
                        "type": "histogram2d"
                      }
                    ],
                    "histogram2dcontour": [
                      {
                        "colorbar": {
                          "outlinewidth": 0,
                          "ticks": ""
                        },
                        "colorscale": [
                          [
                            0,
                            "#0d0887"
                          ],
                          [
                            0.1111111111111111,
                            "#46039f"
                          ],
                          [
                            0.2222222222222222,
                            "#7201a8"
                          ],
                          [
                            0.3333333333333333,
                            "#9c179e"
                          ],
                          [
                            0.4444444444444444,
                            "#bd3786"
                          ],
                          [
                            0.5555555555555556,
                            "#d8576b"
                          ],
                          [
                            0.6666666666666666,
                            "#ed7953"
                          ],
                          [
                            0.7777777777777778,
                            "#fb9f3a"
                          ],
                          [
                            0.8888888888888888,
                            "#fdca26"
                          ],
                          [
                            1,
                            "#f0f921"
                          ]
                        ],
                        "type": "histogram2dcontour"
                      }
                    ],
                    "mesh3d": [
                      {
                        "colorbar": {
                          "outlinewidth": 0,
                          "ticks": ""
                        },
                        "type": "mesh3d"
                      }
                    ],
                    "parcoords": [
                      {
                        "line": {
                          "colorbar": {
                            "outlinewidth": 0,
                            "ticks": ""
                          }
                        },
                        "type": "parcoords"
                      }
                    ],
                    "pie": [
                      {
                        "automargin": true,
                        "type": "pie"
                      }
                    ],
                    "scatter": [
                      {
                        "fillpattern": {
                          "fillmode": "overlay",
                          "size": 10,
                          "solidity": 0.2
                        },
                        "type": "scatter"
                      }
                    ],
                    "scatter3d": [
                      {
                        "line": {
                          "colorbar": {
                            "outlinewidth": 0,
                            "ticks": ""
                          }
                        },
                        "marker": {
                          "colorbar": {
                            "outlinewidth": 0,
                            "ticks": ""
                          }
                        },
                        "type": "scatter3d"
                      }
                    ],
                    "scattercarpet": [
                      {
                        "marker": {
                          "colorbar": {
                            "outlinewidth": 0,
                            "ticks": ""
                          }
                        },
                        "type": "scattercarpet"
                      }
                    ],
                    "scattergeo": [
                      {
                        "marker": {
                          "colorbar": {
                            "outlinewidth": 0,
                            "ticks": ""
                          }
                        },
                        "type": "scattergeo"
                      }
                    ],
                    "scattergl": [
                      {
                        "marker": {
                          "colorbar": {
                            "outlinewidth": 0,
                            "ticks": ""
                          }
                        },
                        "type": "scattergl"
                      }
                    ],
                    "scattermapbox": [
                      {
                        "marker": {
                          "colorbar": {
                            "outlinewidth": 0,
                            "ticks": ""
                          }
                        },
                        "type": "scattermapbox"
                      }
                    ],
                    "scatterpolar": [
                      {
                        "marker": {
                          "colorbar": {
                            "outlinewidth": 0,
                            "ticks": ""
                          }
                        },
                        "type": "scatterpolar"
                      }
                    ],
                    "scatterpolargl": [
                      {
                        "marker": {
                          "colorbar": {
                            "outlinewidth": 0,
                            "ticks": ""
                          }
                        },
                        "type": "scatterpolargl"
                      }
                    ],
                    "scatterternary": [
                      {
                        "marker": {
                          "colorbar": {
                            "outlinewidth": 0,
                            "ticks": ""
                          }
                        },
                        "type": "scatterternary"
                      }
                    ],
                    "surface": [
                      {
                        "colorbar": {
                          "outlinewidth": 0,
                          "ticks": ""
                        },
                        "colorscale": [
                          [
                            0,
                            "#0d0887"
                          ],
                          [
                            0.1111111111111111,
                            "#46039f"
                          ],
                          [
                            0.2222222222222222,
                            "#7201a8"
                          ],
                          [
                            0.3333333333333333,
                            "#9c179e"
                          ],
                          [
                            0.4444444444444444,
                            "#bd3786"
                          ],
                          [
                            0.5555555555555556,
                            "#d8576b"
                          ],
                          [
                            0.6666666666666666,
                            "#ed7953"
                          ],
                          [
                            0.7777777777777778,
                            "#fb9f3a"
                          ],
                          [
                            0.8888888888888888,
                            "#fdca26"
                          ],
                          [
                            1,
                            "#f0f921"
                          ]
                        ],
                        "type": "surface"
                      }
                    ],
                    "table": [
                      {
                        "cells": {
                          "fill": {
                            "color": "#EBF0F8"
                          },
                          "line": {
                            "color": "white"
                          }
                        },
                        "header": {
                          "fill": {
                            "color": "#C8D4E3"
                          },
                          "line": {
                            "color": "white"
                          }
                        },
                        "type": "table"
                      }
                    ]
                  },
                  "layout": {
                    "annotationdefaults": {
                      "arrowcolor": "#2a3f5f",
                      "arrowhead": 0,
                      "arrowwidth": 1
                    },
                    "autotypenumbers": "strict",
                    "coloraxis": {
                      "colorbar": {
                        "outlinewidth": 0,
                        "ticks": ""
                      }
                    },
                    "colorscale": {
                      "diverging": [
                        [
                          0,
                          "#8e0152"
                        ],
                        [
                          0.1,
                          "#c51b7d"
                        ],
                        [
                          0.2,
                          "#de77ae"
                        ],
                        [
                          0.3,
                          "#f1b6da"
                        ],
                        [
                          0.4,
                          "#fde0ef"
                        ],
                        [
                          0.5,
                          "#f7f7f7"
                        ],
                        [
                          0.6,
                          "#e6f5d0"
                        ],
                        [
                          0.7,
                          "#b8e186"
                        ],
                        [
                          0.8,
                          "#7fbc41"
                        ],
                        [
                          0.9,
                          "#4d9221"
                        ],
                        [
                          1,
                          "#276419"
                        ]
                      ],
                      "sequential": [
                        [
                          0,
                          "#0d0887"
                        ],
                        [
                          0.1111111111111111,
                          "#46039f"
                        ],
                        [
                          0.2222222222222222,
                          "#7201a8"
                        ],
                        [
                          0.3333333333333333,
                          "#9c179e"
                        ],
                        [
                          0.4444444444444444,
                          "#bd3786"
                        ],
                        [
                          0.5555555555555556,
                          "#d8576b"
                        ],
                        [
                          0.6666666666666666,
                          "#ed7953"
                        ],
                        [
                          0.7777777777777778,
                          "#fb9f3a"
                        ],
                        [
                          0.8888888888888888,
                          "#fdca26"
                        ],
                        [
                          1,
                          "#f0f921"
                        ]
                      ],
                      "sequentialminus": [
                        [
                          0,
                          "#0d0887"
                        ],
                        [
                          0.1111111111111111,
                          "#46039f"
                        ],
                        [
                          0.2222222222222222,
                          "#7201a8"
                        ],
                        [
                          0.3333333333333333,
                          "#9c179e"
                        ],
                        [
                          0.4444444444444444,
                          "#bd3786"
                        ],
                        [
                          0.5555555555555556,
                          "#d8576b"
                        ],
                        [
                          0.6666666666666666,
                          "#ed7953"
                        ],
                        [
                          0.7777777777777778,
                          "#fb9f3a"
                        ],
                        [
                          0.8888888888888888,
                          "#fdca26"
                        ],
                        [
                          1,
                          "#f0f921"
                        ]
                      ]
                    },
                    "colorway": [
                      "#636efa",
                      "#EF553B",
                      "#00cc96",
                      "#ab63fa",
                      "#FFA15A",
                      "#19d3f3",
                      "#FF6692",
                      "#B6E880",
                      "#FF97FF",
                      "#FECB52"
                    ],
                    "font": {
                      "color": "#2a3f5f"
                    },
                    "geo": {
                      "bgcolor": "white",
                      "lakecolor": "white",
                      "landcolor": "#E5ECF6",
                      "showlakes": true,
                      "showland": true,
                      "subunitcolor": "white"
                    },
                    "hoverlabel": {
                      "align": "left"
                    },
                    "hovermode": "closest",
                    "mapbox": {
                      "style": "light"
                    },
                    "paper_bgcolor": "white",
                    "plot_bgcolor": "#E5ECF6",
                    "polar": {
                      "angularaxis": {
                        "gridcolor": "white",
                        "linecolor": "white",
                        "ticks": ""
                      },
                      "bgcolor": "#E5ECF6",
                      "radialaxis": {
                        "gridcolor": "white",
                        "linecolor": "white",
                        "ticks": ""
                      }
                    },
                    "scene": {
                      "xaxis": {
                        "backgroundcolor": "#E5ECF6",
                        "gridcolor": "white",
                        "gridwidth": 2,
                        "linecolor": "white",
                        "showbackground": true,
                        "ticks": "",
                        "zerolinecolor": "white"
                      },
                      "yaxis": {
                        "backgroundcolor": "#E5ECF6",
                        "gridcolor": "white",
                        "gridwidth": 2,
                        "linecolor": "white",
                        "showbackground": true,
                        "ticks": "",
                        "zerolinecolor": "white"
                      },
                      "zaxis": {
                        "backgroundcolor": "#E5ECF6",
                        "gridcolor": "white",
                        "gridwidth": 2,
                        "linecolor": "white",
                        "showbackground": true,
                        "ticks": "",
                        "zerolinecolor": "white"
                      }
                    },
                    "shapedefaults": {
                      "line": {
                        "color": "#2a3f5f"
                      }
                    },
                    "ternary": {
                      "aaxis": {
                        "gridcolor": "white",
                        "linecolor": "white",
                        "ticks": ""
                      },
                      "baxis": {
                        "gridcolor": "white",
                        "linecolor": "white",
                        "ticks": ""
                      },
                      "bgcolor": "#E5ECF6",
                      "caxis": {
                        "gridcolor": "white",
                        "linecolor": "white",
                        "ticks": ""
                      }
                    },
                    "title": {
                      "x": 0.05
                    },
                    "xaxis": {
                      "automargin": true,
                      "gridcolor": "white",
                      "linecolor": "white",
                      "ticks": "",
                      "title": {
                        "standoff": 15
                      },
                      "zerolinecolor": "white",
                      "zerolinewidth": 2
                    },
                    "yaxis": {
                      "automargin": true,
                      "gridcolor": "white",
                      "linecolor": "white",
                      "ticks": "",
                      "title": {
                        "standoff": 15
                      },
                      "zerolinecolor": "white",
                      "zerolinewidth": 2
                    }
                  }
                },
                "xaxis": {
                  "anchor": "y",
                  "domain": [
                    0,
                    1
                  ],
                  "title": {
                    "text": "Curr exp, per capita US$PPP"
                  }
                },
                "yaxis": {
                  "anchor": "x",
                  "domain": [
                    0,
                    1
                  ],
                  "title": {
                    "text": "OOP payments, per capita US$PPP"
                  }
                }
              }
            }
          },
          "metadata": {},
          "output_type": "display_data"
        }
      ],
      "source": [
        "# Created scatterplot with fig1_2020\n",
        "px.scatter(fig1_2020_v2, x='Curr exp, per capita US$PPP', y='OOP payments, per capita US$PPP', color='income_group')"
      ]
    },
    {
      "cell_type": "code",
      "execution_count": 242,
      "metadata": {
        "colab": {
          "base_uri": "https://localhost:8080/",
          "height": 637
        },
        "id": "hvAbjzHA6CYw",
        "outputId": "c20d3b11-a5e4-4fe5-830b-c2f0e000a80b"
      },
      "outputs": [
        {
          "data": {
            "application/vnd.plotly.v1+json": {
              "config": {
                "plotlyServerURL": "https://plot.ly"
              },
              "data": [
                {
                  "marker": {
                    "color": [
                      "#636EFA",
                      "#636EFA",
                      "#636EFA",
                      "#636EFA",
                      "#636EFA",
                      "#EF553B",
                      "#EF553B",
                      "#636EFA",
                      "#636EFA",
                      "#636EFA",
                      "#636EFA",
                      "#636EFA",
                      "#636EFA",
                      "#636EFA",
                      "#636EFA",
                      "#636EFA",
                      "#636EFA",
                      "#636EFA",
                      "#636EFA",
                      "#636EFA",
                      "#636EFA",
                      "#636EFA",
                      "#636EFA",
                      "#636EFA",
                      "#EF553B",
                      "#636EFA",
                      "#636EFA",
                      "#636EFA",
                      "#636EFA",
                      "#636EFA",
                      "#636EFA",
                      "#636EFA",
                      "#636EFA",
                      "#636EFA",
                      "#636EFA",
                      "#EF553B",
                      "#636EFA",
                      "#636EFA"
                    ]
                  },
                  "mode": "markers",
                  "type": "scatter",
                  "x": [
                    5193.845,
                    5518.538,
                    5315.194,
                    5308.356,
                    2281.148,
                    1191.885,
                    1529.721,
                    3128.523,
                    5306.704,
                    2364.073,
                    4330.443,
                    5099.306,
                    6281.84,
                    2314.696,
                    2105.71,
                    4235.661,
                    4870.689,
                    2748.975,
                    3495.868,
                    4554.276,
                    3078.831,
                    1860.969,
                    2396.809,
                    5292.055,
                    1122.178,
                    5482.27,
                    3913.078,
                    6495.078,
                    2106.662,
                    3134.128,
                    2008.975,
                    3045.106,
                    3427.341,
                    5419.273,
                    6930.7,
                    1205.305,
                    4189.708,
                    10451.386
                  ],
                  "xaxis": "x",
                  "y": [
                    842.565,
                    1016.81,
                    946.897,
                    807.08,
                    758.407,
                    180.341,
                    342.909,
                    443.834,
                    733.603,
                    579.508,
                    795.477,
                    484.791,
                    820.913,
                    835.144,
                    564.415,
                    675.04,
                    585.584,
                    600.292,
                    823.31,
                    591.808,
                    992.747,
                    729.121,
                    755.371,
                    552.262,
                    474.787,
                    591.61,
                    505.245,
                    907.274,
                    430.187,
                    937.648,
                    379.853,
                    364.851,
                    762.388,
                    756.467,
                    1837.962,
                    210.825,
                    641.852,
                    1182.653
                  ],
                  "yaxis": "y"
                },
                {
                  "marker": {
                    "color": [
                      "#636EFA",
                      "#636EFA",
                      "#636EFA",
                      "#636EFA",
                      "#EF553B",
                      "#EF553B",
                      "#636EFA",
                      "#636EFA",
                      "#636EFA",
                      "#636EFA",
                      "#636EFA",
                      "#636EFA",
                      "#636EFA",
                      "#636EFA",
                      "#636EFA",
                      "#636EFA",
                      "#636EFA",
                      "#636EFA",
                      "#636EFA",
                      "#636EFA",
                      "#636EFA",
                      "#636EFA",
                      "#636EFA",
                      "#EF553B",
                      "#636EFA",
                      "#636EFA",
                      "#636EFA",
                      "#636EFA",
                      "#636EFA",
                      "#636EFA",
                      "#636EFA",
                      "#636EFA",
                      "#636EFA",
                      "#EF553B",
                      "#636EFA",
                      "#636EFA"
                    ]
                  },
                  "mode": "markers",
                  "type": "scatter",
                  "x": [
                    5882.745,
                    5406.979,
                    5828.324,
                    2412.752,
                    1335.877,
                    1617.823,
                    3805.143,
                    5693.651,
                    2729.229,
                    4604.622,
                    5468.418,
                    6938.983,
                    2486.091,
                    2401.999,
                    4620.158,
                    5372.814,
                    3057.408,
                    3747.172,
                    4665.641,
                    3582.313,
                    2227.896,
                    2881.844,
                    5628.497,
                    1226.736,
                    6180.011,
                    6581.629,
                    2286.111,
                    3348.203,
                    2125.666,
                    3474.147,
                    3718.054,
                    5757.291,
                    7178.56,
                    1304.709,
                    5018.7,
                    11859.179
                  ],
                  "xaxis": "x2",
                  "y": [
                    988.544,
                    867.304,
                    724.5,
                    708.795,
                    181.512,
                    328.204,
                    438.546,
                    730.47,
                    585.209,
                    755.611,
                    488.895,
                    862.928,
                    831.311,
                    613.075,
                    693.759,
                    564.337,
                    524.052,
                    797.308,
                    621.042,
                    994.077,
                    710.118,
                    826.908,
                    474.095,
                    475.567,
                    575.982,
                    914.739,
                    446.591,
                    930.684,
                    398.598,
                    433.37,
                    729.646,
                    750.269,
                    1576.985,
                    214.372,
                    629.229,
                    1172.382
                  ],
                  "yaxis": "y2"
                }
              ],
              "layout": {
                "height": 600,
                "template": {
                  "data": {
                    "bar": [
                      {
                        "error_x": {
                          "color": "#2a3f5f"
                        },
                        "error_y": {
                          "color": "#2a3f5f"
                        },
                        "marker": {
                          "line": {
                            "color": "#E5ECF6",
                            "width": 0.5
                          },
                          "pattern": {
                            "fillmode": "overlay",
                            "size": 10,
                            "solidity": 0.2
                          }
                        },
                        "type": "bar"
                      }
                    ],
                    "barpolar": [
                      {
                        "marker": {
                          "line": {
                            "color": "#E5ECF6",
                            "width": 0.5
                          },
                          "pattern": {
                            "fillmode": "overlay",
                            "size": 10,
                            "solidity": 0.2
                          }
                        },
                        "type": "barpolar"
                      }
                    ],
                    "carpet": [
                      {
                        "aaxis": {
                          "endlinecolor": "#2a3f5f",
                          "gridcolor": "white",
                          "linecolor": "white",
                          "minorgridcolor": "white",
                          "startlinecolor": "#2a3f5f"
                        },
                        "baxis": {
                          "endlinecolor": "#2a3f5f",
                          "gridcolor": "white",
                          "linecolor": "white",
                          "minorgridcolor": "white",
                          "startlinecolor": "#2a3f5f"
                        },
                        "type": "carpet"
                      }
                    ],
                    "choropleth": [
                      {
                        "colorbar": {
                          "outlinewidth": 0,
                          "ticks": ""
                        },
                        "type": "choropleth"
                      }
                    ],
                    "contour": [
                      {
                        "colorbar": {
                          "outlinewidth": 0,
                          "ticks": ""
                        },
                        "colorscale": [
                          [
                            0,
                            "#0d0887"
                          ],
                          [
                            0.1111111111111111,
                            "#46039f"
                          ],
                          [
                            0.2222222222222222,
                            "#7201a8"
                          ],
                          [
                            0.3333333333333333,
                            "#9c179e"
                          ],
                          [
                            0.4444444444444444,
                            "#bd3786"
                          ],
                          [
                            0.5555555555555556,
                            "#d8576b"
                          ],
                          [
                            0.6666666666666666,
                            "#ed7953"
                          ],
                          [
                            0.7777777777777778,
                            "#fb9f3a"
                          ],
                          [
                            0.8888888888888888,
                            "#fdca26"
                          ],
                          [
                            1,
                            "#f0f921"
                          ]
                        ],
                        "type": "contour"
                      }
                    ],
                    "contourcarpet": [
                      {
                        "colorbar": {
                          "outlinewidth": 0,
                          "ticks": ""
                        },
                        "type": "contourcarpet"
                      }
                    ],
                    "heatmap": [
                      {
                        "colorbar": {
                          "outlinewidth": 0,
                          "ticks": ""
                        },
                        "colorscale": [
                          [
                            0,
                            "#0d0887"
                          ],
                          [
                            0.1111111111111111,
                            "#46039f"
                          ],
                          [
                            0.2222222222222222,
                            "#7201a8"
                          ],
                          [
                            0.3333333333333333,
                            "#9c179e"
                          ],
                          [
                            0.4444444444444444,
                            "#bd3786"
                          ],
                          [
                            0.5555555555555556,
                            "#d8576b"
                          ],
                          [
                            0.6666666666666666,
                            "#ed7953"
                          ],
                          [
                            0.7777777777777778,
                            "#fb9f3a"
                          ],
                          [
                            0.8888888888888888,
                            "#fdca26"
                          ],
                          [
                            1,
                            "#f0f921"
                          ]
                        ],
                        "type": "heatmap"
                      }
                    ],
                    "heatmapgl": [
                      {
                        "colorbar": {
                          "outlinewidth": 0,
                          "ticks": ""
                        },
                        "colorscale": [
                          [
                            0,
                            "#0d0887"
                          ],
                          [
                            0.1111111111111111,
                            "#46039f"
                          ],
                          [
                            0.2222222222222222,
                            "#7201a8"
                          ],
                          [
                            0.3333333333333333,
                            "#9c179e"
                          ],
                          [
                            0.4444444444444444,
                            "#bd3786"
                          ],
                          [
                            0.5555555555555556,
                            "#d8576b"
                          ],
                          [
                            0.6666666666666666,
                            "#ed7953"
                          ],
                          [
                            0.7777777777777778,
                            "#fb9f3a"
                          ],
                          [
                            0.8888888888888888,
                            "#fdca26"
                          ],
                          [
                            1,
                            "#f0f921"
                          ]
                        ],
                        "type": "heatmapgl"
                      }
                    ],
                    "histogram": [
                      {
                        "marker": {
                          "pattern": {
                            "fillmode": "overlay",
                            "size": 10,
                            "solidity": 0.2
                          }
                        },
                        "type": "histogram"
                      }
                    ],
                    "histogram2d": [
                      {
                        "colorbar": {
                          "outlinewidth": 0,
                          "ticks": ""
                        },
                        "colorscale": [
                          [
                            0,
                            "#0d0887"
                          ],
                          [
                            0.1111111111111111,
                            "#46039f"
                          ],
                          [
                            0.2222222222222222,
                            "#7201a8"
                          ],
                          [
                            0.3333333333333333,
                            "#9c179e"
                          ],
                          [
                            0.4444444444444444,
                            "#bd3786"
                          ],
                          [
                            0.5555555555555556,
                            "#d8576b"
                          ],
                          [
                            0.6666666666666666,
                            "#ed7953"
                          ],
                          [
                            0.7777777777777778,
                            "#fb9f3a"
                          ],
                          [
                            0.8888888888888888,
                            "#fdca26"
                          ],
                          [
                            1,
                            "#f0f921"
                          ]
                        ],
                        "type": "histogram2d"
                      }
                    ],
                    "histogram2dcontour": [
                      {
                        "colorbar": {
                          "outlinewidth": 0,
                          "ticks": ""
                        },
                        "colorscale": [
                          [
                            0,
                            "#0d0887"
                          ],
                          [
                            0.1111111111111111,
                            "#46039f"
                          ],
                          [
                            0.2222222222222222,
                            "#7201a8"
                          ],
                          [
                            0.3333333333333333,
                            "#9c179e"
                          ],
                          [
                            0.4444444444444444,
                            "#bd3786"
                          ],
                          [
                            0.5555555555555556,
                            "#d8576b"
                          ],
                          [
                            0.6666666666666666,
                            "#ed7953"
                          ],
                          [
                            0.7777777777777778,
                            "#fb9f3a"
                          ],
                          [
                            0.8888888888888888,
                            "#fdca26"
                          ],
                          [
                            1,
                            "#f0f921"
                          ]
                        ],
                        "type": "histogram2dcontour"
                      }
                    ],
                    "mesh3d": [
                      {
                        "colorbar": {
                          "outlinewidth": 0,
                          "ticks": ""
                        },
                        "type": "mesh3d"
                      }
                    ],
                    "parcoords": [
                      {
                        "line": {
                          "colorbar": {
                            "outlinewidth": 0,
                            "ticks": ""
                          }
                        },
                        "type": "parcoords"
                      }
                    ],
                    "pie": [
                      {
                        "automargin": true,
                        "type": "pie"
                      }
                    ],
                    "scatter": [
                      {
                        "fillpattern": {
                          "fillmode": "overlay",
                          "size": 10,
                          "solidity": 0.2
                        },
                        "type": "scatter"
                      }
                    ],
                    "scatter3d": [
                      {
                        "line": {
                          "colorbar": {
                            "outlinewidth": 0,
                            "ticks": ""
                          }
                        },
                        "marker": {
                          "colorbar": {
                            "outlinewidth": 0,
                            "ticks": ""
                          }
                        },
                        "type": "scatter3d"
                      }
                    ],
                    "scattercarpet": [
                      {
                        "marker": {
                          "colorbar": {
                            "outlinewidth": 0,
                            "ticks": ""
                          }
                        },
                        "type": "scattercarpet"
                      }
                    ],
                    "scattergeo": [
                      {
                        "marker": {
                          "colorbar": {
                            "outlinewidth": 0,
                            "ticks": ""
                          }
                        },
                        "type": "scattergeo"
                      }
                    ],
                    "scattergl": [
                      {
                        "marker": {
                          "colorbar": {
                            "outlinewidth": 0,
                            "ticks": ""
                          }
                        },
                        "type": "scattergl"
                      }
                    ],
                    "scattermapbox": [
                      {
                        "marker": {
                          "colorbar": {
                            "outlinewidth": 0,
                            "ticks": ""
                          }
                        },
                        "type": "scattermapbox"
                      }
                    ],
                    "scatterpolar": [
                      {
                        "marker": {
                          "colorbar": {
                            "outlinewidth": 0,
                            "ticks": ""
                          }
                        },
                        "type": "scatterpolar"
                      }
                    ],
                    "scatterpolargl": [
                      {
                        "marker": {
                          "colorbar": {
                            "outlinewidth": 0,
                            "ticks": ""
                          }
                        },
                        "type": "scatterpolargl"
                      }
                    ],
                    "scatterternary": [
                      {
                        "marker": {
                          "colorbar": {
                            "outlinewidth": 0,
                            "ticks": ""
                          }
                        },
                        "type": "scatterternary"
                      }
                    ],
                    "surface": [
                      {
                        "colorbar": {
                          "outlinewidth": 0,
                          "ticks": ""
                        },
                        "colorscale": [
                          [
                            0,
                            "#0d0887"
                          ],
                          [
                            0.1111111111111111,
                            "#46039f"
                          ],
                          [
                            0.2222222222222222,
                            "#7201a8"
                          ],
                          [
                            0.3333333333333333,
                            "#9c179e"
                          ],
                          [
                            0.4444444444444444,
                            "#bd3786"
                          ],
                          [
                            0.5555555555555556,
                            "#d8576b"
                          ],
                          [
                            0.6666666666666666,
                            "#ed7953"
                          ],
                          [
                            0.7777777777777778,
                            "#fb9f3a"
                          ],
                          [
                            0.8888888888888888,
                            "#fdca26"
                          ],
                          [
                            1,
                            "#f0f921"
                          ]
                        ],
                        "type": "surface"
                      }
                    ],
                    "table": [
                      {
                        "cells": {
                          "fill": {
                            "color": "#EBF0F8"
                          },
                          "line": {
                            "color": "white"
                          }
                        },
                        "header": {
                          "fill": {
                            "color": "#C8D4E3"
                          },
                          "line": {
                            "color": "white"
                          }
                        },
                        "type": "table"
                      }
                    ]
                  },
                  "layout": {
                    "annotationdefaults": {
                      "arrowcolor": "#2a3f5f",
                      "arrowhead": 0,
                      "arrowwidth": 1
                    },
                    "autotypenumbers": "strict",
                    "coloraxis": {
                      "colorbar": {
                        "outlinewidth": 0,
                        "ticks": ""
                      }
                    },
                    "colorscale": {
                      "diverging": [
                        [
                          0,
                          "#8e0152"
                        ],
                        [
                          0.1,
                          "#c51b7d"
                        ],
                        [
                          0.2,
                          "#de77ae"
                        ],
                        [
                          0.3,
                          "#f1b6da"
                        ],
                        [
                          0.4,
                          "#fde0ef"
                        ],
                        [
                          0.5,
                          "#f7f7f7"
                        ],
                        [
                          0.6,
                          "#e6f5d0"
                        ],
                        [
                          0.7,
                          "#b8e186"
                        ],
                        [
                          0.8,
                          "#7fbc41"
                        ],
                        [
                          0.9,
                          "#4d9221"
                        ],
                        [
                          1,
                          "#276419"
                        ]
                      ],
                      "sequential": [
                        [
                          0,
                          "#0d0887"
                        ],
                        [
                          0.1111111111111111,
                          "#46039f"
                        ],
                        [
                          0.2222222222222222,
                          "#7201a8"
                        ],
                        [
                          0.3333333333333333,
                          "#9c179e"
                        ],
                        [
                          0.4444444444444444,
                          "#bd3786"
                        ],
                        [
                          0.5555555555555556,
                          "#d8576b"
                        ],
                        [
                          0.6666666666666666,
                          "#ed7953"
                        ],
                        [
                          0.7777777777777778,
                          "#fb9f3a"
                        ],
                        [
                          0.8888888888888888,
                          "#fdca26"
                        ],
                        [
                          1,
                          "#f0f921"
                        ]
                      ],
                      "sequentialminus": [
                        [
                          0,
                          "#0d0887"
                        ],
                        [
                          0.1111111111111111,
                          "#46039f"
                        ],
                        [
                          0.2222222222222222,
                          "#7201a8"
                        ],
                        [
                          0.3333333333333333,
                          "#9c179e"
                        ],
                        [
                          0.4444444444444444,
                          "#bd3786"
                        ],
                        [
                          0.5555555555555556,
                          "#d8576b"
                        ],
                        [
                          0.6666666666666666,
                          "#ed7953"
                        ],
                        [
                          0.7777777777777778,
                          "#fb9f3a"
                        ],
                        [
                          0.8888888888888888,
                          "#fdca26"
                        ],
                        [
                          1,
                          "#f0f921"
                        ]
                      ]
                    },
                    "colorway": [
                      "#636efa",
                      "#EF553B",
                      "#00cc96",
                      "#ab63fa",
                      "#FFA15A",
                      "#19d3f3",
                      "#FF6692",
                      "#B6E880",
                      "#FF97FF",
                      "#FECB52"
                    ],
                    "font": {
                      "color": "#2a3f5f"
                    },
                    "geo": {
                      "bgcolor": "white",
                      "lakecolor": "white",
                      "landcolor": "#E5ECF6",
                      "showlakes": true,
                      "showland": true,
                      "subunitcolor": "white"
                    },
                    "hoverlabel": {
                      "align": "left"
                    },
                    "hovermode": "closest",
                    "mapbox": {
                      "style": "light"
                    },
                    "paper_bgcolor": "white",
                    "plot_bgcolor": "#E5ECF6",
                    "polar": {
                      "angularaxis": {
                        "gridcolor": "white",
                        "linecolor": "white",
                        "ticks": ""
                      },
                      "bgcolor": "#E5ECF6",
                      "radialaxis": {
                        "gridcolor": "white",
                        "linecolor": "white",
                        "ticks": ""
                      }
                    },
                    "scene": {
                      "xaxis": {
                        "backgroundcolor": "#E5ECF6",
                        "gridcolor": "white",
                        "gridwidth": 2,
                        "linecolor": "white",
                        "showbackground": true,
                        "ticks": "",
                        "zerolinecolor": "white"
                      },
                      "yaxis": {
                        "backgroundcolor": "#E5ECF6",
                        "gridcolor": "white",
                        "gridwidth": 2,
                        "linecolor": "white",
                        "showbackground": true,
                        "ticks": "",
                        "zerolinecolor": "white"
                      },
                      "zaxis": {
                        "backgroundcolor": "#E5ECF6",
                        "gridcolor": "white",
                        "gridwidth": 2,
                        "linecolor": "white",
                        "showbackground": true,
                        "ticks": "",
                        "zerolinecolor": "white"
                      }
                    },
                    "shapedefaults": {
                      "line": {
                        "color": "#2a3f5f"
                      }
                    },
                    "ternary": {
                      "aaxis": {
                        "gridcolor": "white",
                        "linecolor": "white",
                        "ticks": ""
                      },
                      "baxis": {
                        "gridcolor": "white",
                        "linecolor": "white",
                        "ticks": ""
                      },
                      "bgcolor": "#E5ECF6",
                      "caxis": {
                        "gridcolor": "white",
                        "linecolor": "white",
                        "ticks": ""
                      }
                    },
                    "title": {
                      "x": 0.05
                    },
                    "xaxis": {
                      "automargin": true,
                      "gridcolor": "white",
                      "linecolor": "white",
                      "ticks": "",
                      "title": {
                        "standoff": 15
                      },
                      "zerolinecolor": "white",
                      "zerolinewidth": 2
                    },
                    "yaxis": {
                      "automargin": true,
                      "gridcolor": "white",
                      "linecolor": "white",
                      "ticks": "",
                      "title": {
                        "standoff": 15
                      },
                      "zerolinecolor": "white",
                      "zerolinewidth": 2
                    }
                  }
                },
                "title": {
                  "text": "Out-of-Pocket Healthcare Expenditure per Capita vs. Current Healthcare Expenditure per Capita Across Countries in 2018 and 2020"
                },
                "width": 1000,
                "xaxis": {
                  "anchor": "y",
                  "domain": [
                    0,
                    0.45
                  ]
                },
                "xaxis2": {
                  "anchor": "y2",
                  "domain": [
                    0.55,
                    1
                  ]
                },
                "yaxis": {
                  "anchor": "x",
                  "domain": [
                    0,
                    1
                  ]
                },
                "yaxis2": {
                  "anchor": "x2",
                  "domain": [
                    0,
                    1
                  ]
                }
              }
            }
          },
          "metadata": {},
          "output_type": "display_data"
        }
      ],
      "source": [
        "# Created side by side subplots with fig1_2018 and fig1_2020\n",
        "from plotly.subplots import make_subplots\n",
        "import plotly.graph_objects as go\n",
        "\n",
        "income_groups = fig1_2018_v2['income_group'].unique()\n",
        "marker_colors = {group: color for group, color in zip(income_groups, ['#636EFA','#EF553B'])}\n",
        "                                                                      \n",
        "fig = make_subplots(rows=1, cols=2)\n",
        "\n",
        "fig.add_trace(\n",
        "    go.Scatter(x=fig1_2018_v2['Curr exp, per capita US$PPP'], y=fig1_2018_v2['OOP payments, per capita US$PPP'], mode='markers', marker=dict(color=[marker_colors[group] for group in fig1_2018_v2['income_group']])),\n",
        "    row=1, col=1\n",
        ")\n",
        "\n",
        "fig.add_trace(\n",
        "    go.Scatter(x=fig1_2020_v2['Curr exp, per capita US$PPP'], y=fig1_2020_v2['OOP payments, per capita US$PPP'], mode='markers', marker=dict(color=[marker_colors[group] for group in fig1_2020_v2['income_group']])),\n",
        "    row=1, col=2\n",
        ")\n",
        "\n",
        "fig.update_layout(height=600, width=1000, title_text=\"Out-of-Pocket Healthcare Expenditure per Capita vs. Current Healthcare Expenditure per Capita Across Countries in 2018 and 2020\")\n",
        "fig.show()"
      ]
    },
    {
      "cell_type": "markdown",
      "metadata": {},
      "source": [
        "# Figure 2 Life Expectancy VS Current Healthcare Expenditure per Capita and Alcohol Consumption per Population 15+ by Country in 2018 and 2020 "
      ]
    },
    {
      "cell_type": "code",
      "execution_count": 243,
      "metadata": {},
      "outputs": [],
      "source": [
        "continents={'Austria' : 'Europe', 'Belgium': 'Europe', 'Canada': 'N. America', 'Finland': 'Europe', \n",
        "            'France': 'Europe', 'Germany': 'Europe', 'Iceland': 'Europe', 'Ireland': 'Europe', 'Japan': 'Asia', \n",
        "            'Korea': 'Asia', 'New Zealand': 'Oceania', 'Norway': 'Europe', 'Portugal': 'Europe', 'Spain': 'Europe', \n",
        "            'Sweden': 'Europe', 'Switzerland': 'Europe', 'United Kingdom': 'Europe', 'United States': 'N. America',\n",
        "            'Australia': 'Oceania', 'Denmark': 'Europe', 'Netherlands': 'Europe', 'Israel': 'Asia', 'Türkiye': 'Asia',\n",
        "            'Luxembourg': 'Europe', 'Greece': 'Europe', 'Italy': 'Europe', 'Czech Republic': 'Europe', \n",
        "            'Poland': 'Europe', 'Hungary': 'Europe', 'Slovak Republic': 'Europe', 'Estonia': 'Europe', \n",
        "            'Mexico': 'N. America', 'Chile': 'S. America', 'Colombia': 'S. America', 'Costa Rica': 'N. America', \n",
        "            'Latvia': 'Europe', 'Lithuania': 'Europe', 'Slovenia': 'Europe', 'OECD AVERAGE': 'OECD'}\n",
        "\n",
        "regions={'Austria' : 'W. Europe', 'Belgium': 'W. Europe', 'Canada': 'N. America', 'Finland': 'N. Europe', \n",
        "            'France': 'W. Europe', 'Germany': 'W. Europe', 'Iceland': 'N. Europe', 'Ireland': 'N. Europe', 'Japan': 'E.  Asia', \n",
        "            'Korea': 'E.  Asia', 'New Zealand': 'Oceania', 'Norway': 'N. Europe', 'Portugal': 'S. Europe', 'Spain': 'S. Europe', \n",
        "            'Sweden': 'N. Europe', 'Switzerland': 'W. Europe', 'United Kingdom': 'N. Europe', 'United States': 'N. America',\n",
        "            'Australia': 'Oceania', 'Denmark': 'N. Europe', 'Netherlands': 'W. Europe', 'Israel': 'W. Asia', 'Türkiye': 'W. Asia',\n",
        "            'Luxembourg': 'W. Europe', 'Greece': 'S. Europe', 'Italy': 'S. Europe', 'Czech Republic': 'E.  Europe', \n",
        "            'Poland': 'E.  Europe', 'Hungary': 'E.  Europe', 'Slovak Republic': 'E.  Europe', 'Estonia': 'E.  Europe', \n",
        "            'Mexico': 'Latin America', 'Chile': 'Latin America', 'Colombia': 'Latin America', 'Costa Rica': 'Latin America', \n",
        "            'Latvia': 'E.  Europe', 'Lithuania': 'E.  Europe', 'Slovenia': 'E.  Europe', 'OECD AVERAGE': 'OECD'}"
      ]
    },
    {
      "cell_type": "code",
      "execution_count": 244,
      "metadata": {},
      "outputs": [
        {
          "data": {
            "text/html": [
              "<div>\n",
              "<style scoped>\n",
              "    .dataframe tbody tr th:only-of-type {\n",
              "        vertical-align: middle;\n",
              "    }\n",
              "\n",
              "    .dataframe tbody tr th {\n",
              "        vertical-align: top;\n",
              "    }\n",
              "\n",
              "    .dataframe thead th {\n",
              "        text-align: right;\n",
              "    }\n",
              "</style>\n",
              "<table border=\"1\" class=\"dataframe\">\n",
              "  <thead>\n",
              "    <tr style=\"text-align: right;\">\n",
              "      <th></th>\n",
              "      <th>country</th>\n",
              "      <th>year</th>\n",
              "      <th>variable</th>\n",
              "      <th>value</th>\n",
              "      <th>region</th>\n",
              "      <th>income_group</th>\n",
              "    </tr>\n",
              "  </thead>\n",
              "  <tbody>\n",
              "    <tr>\n",
              "      <th>0</th>\n",
              "      <td>Australia</td>\n",
              "      <td>2018</td>\n",
              "      <td>Current expenditure, % GDP</td>\n",
              "      <td>10.074</td>\n",
              "      <td>Oceania</td>\n",
              "      <td>High income</td>\n",
              "    </tr>\n",
              "    <tr>\n",
              "      <th>1</th>\n",
              "      <td>Austria</td>\n",
              "      <td>2018</td>\n",
              "      <td>Current expenditure, % GDP</td>\n",
              "      <td>10.345</td>\n",
              "      <td>Europe</td>\n",
              "      <td>High income</td>\n",
              "    </tr>\n",
              "    <tr>\n",
              "      <th>2</th>\n",
              "      <td>Belgium</td>\n",
              "      <td>2018</td>\n",
              "      <td>Current expenditure, % GDP</td>\n",
              "      <td>10.788</td>\n",
              "      <td>Europe</td>\n",
              "      <td>High income</td>\n",
              "    </tr>\n",
              "    <tr>\n",
              "      <th>3</th>\n",
              "      <td>Canada</td>\n",
              "      <td>2018</td>\n",
              "      <td>Current expenditure, % GDP</td>\n",
              "      <td>10.846</td>\n",
              "      <td>N. America</td>\n",
              "      <td>High income</td>\n",
              "    </tr>\n",
              "    <tr>\n",
              "      <th>4</th>\n",
              "      <td>Chile</td>\n",
              "      <td>2018</td>\n",
              "      <td>Current expenditure, % GDP</td>\n",
              "      <td>9.159</td>\n",
              "      <td>S. America</td>\n",
              "      <td>High income</td>\n",
              "    </tr>\n",
              "    <tr>\n",
              "      <th>...</th>\n",
              "      <td>...</td>\n",
              "      <td>...</td>\n",
              "      <td>...</td>\n",
              "      <td>...</td>\n",
              "      <td>...</td>\n",
              "      <td>...</td>\n",
              "    </tr>\n",
              "    <tr>\n",
              "      <th>1411</th>\n",
              "      <td>Korea</td>\n",
              "      <td>2018</td>\n",
              "      <td>Obesity, total (M)</td>\n",
              "      <td>5.900</td>\n",
              "      <td>Asia</td>\n",
              "      <td>High income</td>\n",
              "    </tr>\n",
              "    <tr>\n",
              "      <th>1412</th>\n",
              "      <td>Latvia</td>\n",
              "      <td>2018</td>\n",
              "      <td>Obesity, total (M)</td>\n",
              "      <td>24.100</td>\n",
              "      <td>Europe</td>\n",
              "      <td>High income</td>\n",
              "    </tr>\n",
              "    <tr>\n",
              "      <th>1413</th>\n",
              "      <td>Mexico</td>\n",
              "      <td>2018</td>\n",
              "      <td>Obesity, total (M)</td>\n",
              "      <td>36.100</td>\n",
              "      <td>N. America</td>\n",
              "      <td>Upper middle income</td>\n",
              "    </tr>\n",
              "    <tr>\n",
              "      <th>1414</th>\n",
              "      <td>New Zealand</td>\n",
              "      <td>2018</td>\n",
              "      <td>Obesity, total (M)</td>\n",
              "      <td>32.500</td>\n",
              "      <td>Oceania</td>\n",
              "      <td>High income</td>\n",
              "    </tr>\n",
              "    <tr>\n",
              "      <th>1415</th>\n",
              "      <td>United Kingdom</td>\n",
              "      <td>2018</td>\n",
              "      <td>Obesity, total (M)</td>\n",
              "      <td>27.700</td>\n",
              "      <td>Europe</td>\n",
              "      <td>High income</td>\n",
              "    </tr>\n",
              "  </tbody>\n",
              "</table>\n",
              "<p>1416 rows × 6 columns</p>\n",
              "</div>"
            ],
            "text/plain": [
              "             country  year                    variable   value      region  \\\n",
              "0          Australia  2018  Current expenditure, % GDP  10.074     Oceania   \n",
              "1            Austria  2018  Current expenditure, % GDP  10.345      Europe   \n",
              "2            Belgium  2018  Current expenditure, % GDP  10.788      Europe   \n",
              "3             Canada  2018  Current expenditure, % GDP  10.846  N. America   \n",
              "4              Chile  2018  Current expenditure, % GDP   9.159  S. America   \n",
              "...              ...   ...                         ...     ...         ...   \n",
              "1411           Korea  2018          Obesity, total (M)   5.900        Asia   \n",
              "1412          Latvia  2018          Obesity, total (M)  24.100      Europe   \n",
              "1413          Mexico  2018          Obesity, total (M)  36.100  N. America   \n",
              "1414     New Zealand  2018          Obesity, total (M)  32.500     Oceania   \n",
              "1415  United Kingdom  2018          Obesity, total (M)  27.700      Europe   \n",
              "\n",
              "             income_group  \n",
              "0             High income  \n",
              "1             High income  \n",
              "2             High income  \n",
              "3             High income  \n",
              "4             High income  \n",
              "...                   ...  \n",
              "1411          High income  \n",
              "1412          High income  \n",
              "1413  Upper middle income  \n",
              "1414          High income  \n",
              "1415          High income  \n",
              "\n",
              "[1416 rows x 6 columns]"
            ]
          },
          "execution_count": 244,
          "metadata": {},
          "output_type": "execute_result"
        }
      ],
      "source": [
        "# data_long['region']=data_long['country'].replace(continents)\n",
        "data_long_f2 = data_long.copy()\n",
        "data_long_f2['region']=data_long_f2['country'].replace(continents)\n",
        "data_long_2018 = data_long_f2[data_long_f2[\"year\"] == 2018 ]\n",
        "data_long_2018= pd.merge(data_long_2018,country_income_groups,on='country',how='left')\n",
        "data_long_2018\n"
      ]
    },
    {
      "cell_type": "code",
      "execution_count": 245,
      "metadata": {},
      "outputs": [
        {
          "data": {
            "text/html": [
              "<div>\n",
              "<style scoped>\n",
              "    .dataframe tbody tr th:only-of-type {\n",
              "        vertical-align: middle;\n",
              "    }\n",
              "\n",
              "    .dataframe tbody tr th {\n",
              "        vertical-align: top;\n",
              "    }\n",
              "\n",
              "    .dataframe thead th {\n",
              "        text-align: right;\n",
              "    }\n",
              "</style>\n",
              "<table border=\"1\" class=\"dataframe\">\n",
              "  <thead>\n",
              "    <tr style=\"text-align: right;\">\n",
              "      <th></th>\n",
              "      <th>country</th>\n",
              "      <th>year</th>\n",
              "      <th>variable</th>\n",
              "      <th>value</th>\n",
              "      <th>region</th>\n",
              "      <th>income_group</th>\n",
              "    </tr>\n",
              "  </thead>\n",
              "  <tbody>\n",
              "    <tr>\n",
              "      <th>266</th>\n",
              "      <td>Australia</td>\n",
              "      <td>2018</td>\n",
              "      <td>OOP payments, per capita US$PPP</td>\n",
              "      <td>842.565</td>\n",
              "      <td>Oceania</td>\n",
              "      <td>High income</td>\n",
              "    </tr>\n",
              "    <tr>\n",
              "      <th>267</th>\n",
              "      <td>Austria</td>\n",
              "      <td>2018</td>\n",
              "      <td>OOP payments, per capita US$PPP</td>\n",
              "      <td>1016.810</td>\n",
              "      <td>Europe</td>\n",
              "      <td>High income</td>\n",
              "    </tr>\n",
              "    <tr>\n",
              "      <th>268</th>\n",
              "      <td>Belgium</td>\n",
              "      <td>2018</td>\n",
              "      <td>OOP payments, per capita US$PPP</td>\n",
              "      <td>946.897</td>\n",
              "      <td>Europe</td>\n",
              "      <td>High income</td>\n",
              "    </tr>\n",
              "    <tr>\n",
              "      <th>269</th>\n",
              "      <td>Canada</td>\n",
              "      <td>2018</td>\n",
              "      <td>OOP payments, per capita US$PPP</td>\n",
              "      <td>807.080</td>\n",
              "      <td>N. America</td>\n",
              "      <td>High income</td>\n",
              "    </tr>\n",
              "    <tr>\n",
              "      <th>270</th>\n",
              "      <td>Chile</td>\n",
              "      <td>2018</td>\n",
              "      <td>OOP payments, per capita US$PPP</td>\n",
              "      <td>758.407</td>\n",
              "      <td>S. America</td>\n",
              "      <td>High income</td>\n",
              "    </tr>\n",
              "    <tr>\n",
              "      <th>271</th>\n",
              "      <td>Colombia</td>\n",
              "      <td>2018</td>\n",
              "      <td>OOP payments, per capita US$PPP</td>\n",
              "      <td>180.341</td>\n",
              "      <td>S. America</td>\n",
              "      <td>Upper middle income</td>\n",
              "    </tr>\n",
              "    <tr>\n",
              "      <th>272</th>\n",
              "      <td>Costa Rica</td>\n",
              "      <td>2018</td>\n",
              "      <td>OOP payments, per capita US$PPP</td>\n",
              "      <td>342.909</td>\n",
              "      <td>N. America</td>\n",
              "      <td>Upper middle income</td>\n",
              "    </tr>\n",
              "    <tr>\n",
              "      <th>273</th>\n",
              "      <td>Czech Republic</td>\n",
              "      <td>2018</td>\n",
              "      <td>OOP payments, per capita US$PPP</td>\n",
              "      <td>443.834</td>\n",
              "      <td>Europe</td>\n",
              "      <td>High income</td>\n",
              "    </tr>\n",
              "    <tr>\n",
              "      <th>274</th>\n",
              "      <td>Denmark</td>\n",
              "      <td>2018</td>\n",
              "      <td>OOP payments, per capita US$PPP</td>\n",
              "      <td>733.603</td>\n",
              "      <td>Europe</td>\n",
              "      <td>High income</td>\n",
              "    </tr>\n",
              "    <tr>\n",
              "      <th>275</th>\n",
              "      <td>Estonia</td>\n",
              "      <td>2018</td>\n",
              "      <td>OOP payments, per capita US$PPP</td>\n",
              "      <td>579.508</td>\n",
              "      <td>Europe</td>\n",
              "      <td>High income</td>\n",
              "    </tr>\n",
              "    <tr>\n",
              "      <th>276</th>\n",
              "      <td>Finland</td>\n",
              "      <td>2018</td>\n",
              "      <td>OOP payments, per capita US$PPP</td>\n",
              "      <td>795.477</td>\n",
              "      <td>Europe</td>\n",
              "      <td>High income</td>\n",
              "    </tr>\n",
              "    <tr>\n",
              "      <th>277</th>\n",
              "      <td>France</td>\n",
              "      <td>2018</td>\n",
              "      <td>OOP payments, per capita US$PPP</td>\n",
              "      <td>484.791</td>\n",
              "      <td>Europe</td>\n",
              "      <td>High income</td>\n",
              "    </tr>\n",
              "    <tr>\n",
              "      <th>278</th>\n",
              "      <td>Germany</td>\n",
              "      <td>2018</td>\n",
              "      <td>OOP payments, per capita US$PPP</td>\n",
              "      <td>820.913</td>\n",
              "      <td>Europe</td>\n",
              "      <td>High income</td>\n",
              "    </tr>\n",
              "    <tr>\n",
              "      <th>279</th>\n",
              "      <td>Greece</td>\n",
              "      <td>2018</td>\n",
              "      <td>OOP payments, per capita US$PPP</td>\n",
              "      <td>835.144</td>\n",
              "      <td>Europe</td>\n",
              "      <td>High income</td>\n",
              "    </tr>\n",
              "    <tr>\n",
              "      <th>280</th>\n",
              "      <td>Hungary</td>\n",
              "      <td>2018</td>\n",
              "      <td>OOP payments, per capita US$PPP</td>\n",
              "      <td>564.415</td>\n",
              "      <td>Europe</td>\n",
              "      <td>High income</td>\n",
              "    </tr>\n",
              "    <tr>\n",
              "      <th>281</th>\n",
              "      <td>Iceland</td>\n",
              "      <td>2018</td>\n",
              "      <td>OOP payments, per capita US$PPP</td>\n",
              "      <td>675.040</td>\n",
              "      <td>Europe</td>\n",
              "      <td>High income</td>\n",
              "    </tr>\n",
              "    <tr>\n",
              "      <th>282</th>\n",
              "      <td>Ireland</td>\n",
              "      <td>2018</td>\n",
              "      <td>OOP payments, per capita US$PPP</td>\n",
              "      <td>585.584</td>\n",
              "      <td>Europe</td>\n",
              "      <td>High income</td>\n",
              "    </tr>\n",
              "    <tr>\n",
              "      <th>283</th>\n",
              "      <td>Israel</td>\n",
              "      <td>2018</td>\n",
              "      <td>OOP payments, per capita US$PPP</td>\n",
              "      <td>600.292</td>\n",
              "      <td>Asia</td>\n",
              "      <td>High income</td>\n",
              "    </tr>\n",
              "    <tr>\n",
              "      <th>284</th>\n",
              "      <td>Italy</td>\n",
              "      <td>2018</td>\n",
              "      <td>OOP payments, per capita US$PPP</td>\n",
              "      <td>823.310</td>\n",
              "      <td>Europe</td>\n",
              "      <td>High income</td>\n",
              "    </tr>\n",
              "    <tr>\n",
              "      <th>285</th>\n",
              "      <td>Japan</td>\n",
              "      <td>2018</td>\n",
              "      <td>OOP payments, per capita US$PPP</td>\n",
              "      <td>591.808</td>\n",
              "      <td>Asia</td>\n",
              "      <td>High income</td>\n",
              "    </tr>\n",
              "    <tr>\n",
              "      <th>286</th>\n",
              "      <td>Korea</td>\n",
              "      <td>2018</td>\n",
              "      <td>OOP payments, per capita US$PPP</td>\n",
              "      <td>992.747</td>\n",
              "      <td>Asia</td>\n",
              "      <td>High income</td>\n",
              "    </tr>\n",
              "    <tr>\n",
              "      <th>287</th>\n",
              "      <td>Latvia</td>\n",
              "      <td>2018</td>\n",
              "      <td>OOP payments, per capita US$PPP</td>\n",
              "      <td>729.121</td>\n",
              "      <td>Europe</td>\n",
              "      <td>High income</td>\n",
              "    </tr>\n",
              "    <tr>\n",
              "      <th>288</th>\n",
              "      <td>Lithuania</td>\n",
              "      <td>2018</td>\n",
              "      <td>OOP payments, per capita US$PPP</td>\n",
              "      <td>755.371</td>\n",
              "      <td>Europe</td>\n",
              "      <td>High income</td>\n",
              "    </tr>\n",
              "    <tr>\n",
              "      <th>289</th>\n",
              "      <td>Luxembourg</td>\n",
              "      <td>2018</td>\n",
              "      <td>OOP payments, per capita US$PPP</td>\n",
              "      <td>552.262</td>\n",
              "      <td>Europe</td>\n",
              "      <td>High income</td>\n",
              "    </tr>\n",
              "    <tr>\n",
              "      <th>290</th>\n",
              "      <td>Mexico</td>\n",
              "      <td>2018</td>\n",
              "      <td>OOP payments, per capita US$PPP</td>\n",
              "      <td>474.787</td>\n",
              "      <td>N. America</td>\n",
              "      <td>Upper middle income</td>\n",
              "    </tr>\n",
              "    <tr>\n",
              "      <th>291</th>\n",
              "      <td>Netherlands</td>\n",
              "      <td>2018</td>\n",
              "      <td>OOP payments, per capita US$PPP</td>\n",
              "      <td>591.610</td>\n",
              "      <td>Europe</td>\n",
              "      <td>High income</td>\n",
              "    </tr>\n",
              "    <tr>\n",
              "      <th>292</th>\n",
              "      <td>New Zealand</td>\n",
              "      <td>2018</td>\n",
              "      <td>OOP payments, per capita US$PPP</td>\n",
              "      <td>505.245</td>\n",
              "      <td>Oceania</td>\n",
              "      <td>High income</td>\n",
              "    </tr>\n",
              "    <tr>\n",
              "      <th>293</th>\n",
              "      <td>Norway</td>\n",
              "      <td>2018</td>\n",
              "      <td>OOP payments, per capita US$PPP</td>\n",
              "      <td>907.274</td>\n",
              "      <td>Europe</td>\n",
              "      <td>High income</td>\n",
              "    </tr>\n",
              "    <tr>\n",
              "      <th>294</th>\n",
              "      <td>Poland</td>\n",
              "      <td>2018</td>\n",
              "      <td>OOP payments, per capita US$PPP</td>\n",
              "      <td>430.187</td>\n",
              "      <td>Europe</td>\n",
              "      <td>High income</td>\n",
              "    </tr>\n",
              "    <tr>\n",
              "      <th>295</th>\n",
              "      <td>Portugal</td>\n",
              "      <td>2018</td>\n",
              "      <td>OOP payments, per capita US$PPP</td>\n",
              "      <td>937.648</td>\n",
              "      <td>Europe</td>\n",
              "      <td>High income</td>\n",
              "    </tr>\n",
              "    <tr>\n",
              "      <th>296</th>\n",
              "      <td>Slovak Republic</td>\n",
              "      <td>2018</td>\n",
              "      <td>OOP payments, per capita US$PPP</td>\n",
              "      <td>379.853</td>\n",
              "      <td>Europe</td>\n",
              "      <td>High income</td>\n",
              "    </tr>\n",
              "    <tr>\n",
              "      <th>297</th>\n",
              "      <td>Slovenia</td>\n",
              "      <td>2018</td>\n",
              "      <td>OOP payments, per capita US$PPP</td>\n",
              "      <td>364.851</td>\n",
              "      <td>Europe</td>\n",
              "      <td>High income</td>\n",
              "    </tr>\n",
              "    <tr>\n",
              "      <th>298</th>\n",
              "      <td>Spain</td>\n",
              "      <td>2018</td>\n",
              "      <td>OOP payments, per capita US$PPP</td>\n",
              "      <td>762.388</td>\n",
              "      <td>Europe</td>\n",
              "      <td>High income</td>\n",
              "    </tr>\n",
              "    <tr>\n",
              "      <th>299</th>\n",
              "      <td>Sweden</td>\n",
              "      <td>2018</td>\n",
              "      <td>OOP payments, per capita US$PPP</td>\n",
              "      <td>756.467</td>\n",
              "      <td>Europe</td>\n",
              "      <td>High income</td>\n",
              "    </tr>\n",
              "    <tr>\n",
              "      <th>300</th>\n",
              "      <td>Switzerland</td>\n",
              "      <td>2018</td>\n",
              "      <td>OOP payments, per capita US$PPP</td>\n",
              "      <td>1837.962</td>\n",
              "      <td>Europe</td>\n",
              "      <td>High income</td>\n",
              "    </tr>\n",
              "    <tr>\n",
              "      <th>301</th>\n",
              "      <td>Türkiye</td>\n",
              "      <td>2018</td>\n",
              "      <td>OOP payments, per capita US$PPP</td>\n",
              "      <td>210.825</td>\n",
              "      <td>Asia</td>\n",
              "      <td>Upper middle income</td>\n",
              "    </tr>\n",
              "    <tr>\n",
              "      <th>302</th>\n",
              "      <td>United Kingdom</td>\n",
              "      <td>2018</td>\n",
              "      <td>OOP payments, per capita US$PPP</td>\n",
              "      <td>641.852</td>\n",
              "      <td>Europe</td>\n",
              "      <td>High income</td>\n",
              "    </tr>\n",
              "    <tr>\n",
              "      <th>303</th>\n",
              "      <td>United States</td>\n",
              "      <td>2018</td>\n",
              "      <td>OOP payments, per capita US$PPP</td>\n",
              "      <td>1182.653</td>\n",
              "      <td>N. America</td>\n",
              "      <td>High income</td>\n",
              "    </tr>\n",
              "  </tbody>\n",
              "</table>\n",
              "</div>"
            ],
            "text/plain": [
              "             country  year                         variable     value  \\\n",
              "266        Australia  2018  OOP payments, per capita US$PPP   842.565   \n",
              "267          Austria  2018  OOP payments, per capita US$PPP  1016.810   \n",
              "268          Belgium  2018  OOP payments, per capita US$PPP   946.897   \n",
              "269           Canada  2018  OOP payments, per capita US$PPP   807.080   \n",
              "270            Chile  2018  OOP payments, per capita US$PPP   758.407   \n",
              "271         Colombia  2018  OOP payments, per capita US$PPP   180.341   \n",
              "272       Costa Rica  2018  OOP payments, per capita US$PPP   342.909   \n",
              "273   Czech Republic  2018  OOP payments, per capita US$PPP   443.834   \n",
              "274          Denmark  2018  OOP payments, per capita US$PPP   733.603   \n",
              "275          Estonia  2018  OOP payments, per capita US$PPP   579.508   \n",
              "276          Finland  2018  OOP payments, per capita US$PPP   795.477   \n",
              "277           France  2018  OOP payments, per capita US$PPP   484.791   \n",
              "278          Germany  2018  OOP payments, per capita US$PPP   820.913   \n",
              "279           Greece  2018  OOP payments, per capita US$PPP   835.144   \n",
              "280          Hungary  2018  OOP payments, per capita US$PPP   564.415   \n",
              "281          Iceland  2018  OOP payments, per capita US$PPP   675.040   \n",
              "282          Ireland  2018  OOP payments, per capita US$PPP   585.584   \n",
              "283           Israel  2018  OOP payments, per capita US$PPP   600.292   \n",
              "284            Italy  2018  OOP payments, per capita US$PPP   823.310   \n",
              "285            Japan  2018  OOP payments, per capita US$PPP   591.808   \n",
              "286            Korea  2018  OOP payments, per capita US$PPP   992.747   \n",
              "287           Latvia  2018  OOP payments, per capita US$PPP   729.121   \n",
              "288        Lithuania  2018  OOP payments, per capita US$PPP   755.371   \n",
              "289       Luxembourg  2018  OOP payments, per capita US$PPP   552.262   \n",
              "290           Mexico  2018  OOP payments, per capita US$PPP   474.787   \n",
              "291      Netherlands  2018  OOP payments, per capita US$PPP   591.610   \n",
              "292      New Zealand  2018  OOP payments, per capita US$PPP   505.245   \n",
              "293           Norway  2018  OOP payments, per capita US$PPP   907.274   \n",
              "294           Poland  2018  OOP payments, per capita US$PPP   430.187   \n",
              "295         Portugal  2018  OOP payments, per capita US$PPP   937.648   \n",
              "296  Slovak Republic  2018  OOP payments, per capita US$PPP   379.853   \n",
              "297         Slovenia  2018  OOP payments, per capita US$PPP   364.851   \n",
              "298            Spain  2018  OOP payments, per capita US$PPP   762.388   \n",
              "299           Sweden  2018  OOP payments, per capita US$PPP   756.467   \n",
              "300      Switzerland  2018  OOP payments, per capita US$PPP  1837.962   \n",
              "301          Türkiye  2018  OOP payments, per capita US$PPP   210.825   \n",
              "302   United Kingdom  2018  OOP payments, per capita US$PPP   641.852   \n",
              "303    United States  2018  OOP payments, per capita US$PPP  1182.653   \n",
              "\n",
              "         region         income_group  \n",
              "266     Oceania          High income  \n",
              "267      Europe          High income  \n",
              "268      Europe          High income  \n",
              "269  N. America          High income  \n",
              "270  S. America          High income  \n",
              "271  S. America  Upper middle income  \n",
              "272  N. America  Upper middle income  \n",
              "273      Europe          High income  \n",
              "274      Europe          High income  \n",
              "275      Europe          High income  \n",
              "276      Europe          High income  \n",
              "277      Europe          High income  \n",
              "278      Europe          High income  \n",
              "279      Europe          High income  \n",
              "280      Europe          High income  \n",
              "281      Europe          High income  \n",
              "282      Europe          High income  \n",
              "283        Asia          High income  \n",
              "284      Europe          High income  \n",
              "285        Asia          High income  \n",
              "286        Asia          High income  \n",
              "287      Europe          High income  \n",
              "288      Europe          High income  \n",
              "289      Europe          High income  \n",
              "290  N. America  Upper middle income  \n",
              "291      Europe          High income  \n",
              "292     Oceania          High income  \n",
              "293      Europe          High income  \n",
              "294      Europe          High income  \n",
              "295      Europe          High income  \n",
              "296      Europe          High income  \n",
              "297      Europe          High income  \n",
              "298      Europe          High income  \n",
              "299      Europe          High income  \n",
              "300      Europe          High income  \n",
              "301        Asia  Upper middle income  \n",
              "302      Europe          High income  \n",
              "303  N. America          High income  "
            ]
          },
          "execution_count": 245,
          "metadata": {},
          "output_type": "execute_result"
        }
      ],
      "source": [
        "data_long_2018_healthExpenditure = data_long_2018[data_long_2018[\"variable\"] == \"OOP payments, per capita US$PPP\"]\n",
        "data_long_2018_AlcoholConsumption = data_long_2018[data_long_2018[\"variable\"] == \"Alcohol consumption\"]\n",
        "data_long_2018_LE = data_long_2018[data_long_2018[\"variable\"] == \"LE Total population at birth\"]\n",
        "\n",
        "data_long_2018_healthExpenditure"
      ]
    },
    {
      "cell_type": "code",
      "execution_count": 246,
      "metadata": {},
      "outputs": [
        {
          "data": {
            "text/html": [
              "<div>\n",
              "<style scoped>\n",
              "    .dataframe tbody tr th:only-of-type {\n",
              "        vertical-align: middle;\n",
              "    }\n",
              "\n",
              "    .dataframe tbody tr th {\n",
              "        vertical-align: top;\n",
              "    }\n",
              "\n",
              "    .dataframe thead th {\n",
              "        text-align: right;\n",
              "    }\n",
              "</style>\n",
              "<table border=\"1\" class=\"dataframe\">\n",
              "  <thead>\n",
              "    <tr style=\"text-align: right;\">\n",
              "      <th></th>\n",
              "      <th>country</th>\n",
              "      <th>year</th>\n",
              "      <th>LE Total population at birth</th>\n",
              "      <th>region</th>\n",
              "      <th>income_group</th>\n",
              "      <th>Alcohol consumption</th>\n",
              "      <th>OOP payments, per capita US$PPP</th>\n",
              "    </tr>\n",
              "  </thead>\n",
              "  <tbody>\n",
              "    <tr>\n",
              "      <th>0</th>\n",
              "      <td>Austria</td>\n",
              "      <td>2018</td>\n",
              "      <td>81.800000</td>\n",
              "      <td>Europe</td>\n",
              "      <td>High income</td>\n",
              "      <td>11.3</td>\n",
              "      <td>1016.810</td>\n",
              "    </tr>\n",
              "    <tr>\n",
              "      <th>1</th>\n",
              "      <td>Belgium</td>\n",
              "      <td>2018</td>\n",
              "      <td>81.700000</td>\n",
              "      <td>Europe</td>\n",
              "      <td>High income</td>\n",
              "      <td>9.2</td>\n",
              "      <td>946.897</td>\n",
              "    </tr>\n",
              "    <tr>\n",
              "      <th>2</th>\n",
              "      <td>Canada</td>\n",
              "      <td>2018</td>\n",
              "      <td>81.900000</td>\n",
              "      <td>N. America</td>\n",
              "      <td>High income</td>\n",
              "      <td>8.2</td>\n",
              "      <td>807.080</td>\n",
              "    </tr>\n",
              "    <tr>\n",
              "      <th>3</th>\n",
              "      <td>Chile</td>\n",
              "      <td>2018</td>\n",
              "      <td>80.400000</td>\n",
              "      <td>S. America</td>\n",
              "      <td>High income</td>\n",
              "      <td>6.3</td>\n",
              "      <td>758.407</td>\n",
              "    </tr>\n",
              "    <tr>\n",
              "      <th>4</th>\n",
              "      <td>Colombia</td>\n",
              "      <td>2018</td>\n",
              "      <td>76.500000</td>\n",
              "      <td>S. America</td>\n",
              "      <td>Upper middle income</td>\n",
              "      <td>4.2</td>\n",
              "      <td>180.341</td>\n",
              "    </tr>\n",
              "    <tr>\n",
              "      <th>5</th>\n",
              "      <td>Costa Rica</td>\n",
              "      <td>2018</td>\n",
              "      <td>80.300000</td>\n",
              "      <td>N. America</td>\n",
              "      <td>Upper middle income</td>\n",
              "      <td>3.3</td>\n",
              "      <td>342.909</td>\n",
              "    </tr>\n",
              "    <tr>\n",
              "      <th>6</th>\n",
              "      <td>Czech Republic</td>\n",
              "      <td>2018</td>\n",
              "      <td>79.100000</td>\n",
              "      <td>Europe</td>\n",
              "      <td>High income</td>\n",
              "      <td>11.8</td>\n",
              "      <td>443.834</td>\n",
              "    </tr>\n",
              "    <tr>\n",
              "      <th>7</th>\n",
              "      <td>Denmark</td>\n",
              "      <td>2018</td>\n",
              "      <td>81.000000</td>\n",
              "      <td>Europe</td>\n",
              "      <td>High income</td>\n",
              "      <td>9.7</td>\n",
              "      <td>733.603</td>\n",
              "    </tr>\n",
              "    <tr>\n",
              "      <th>8</th>\n",
              "      <td>Estonia</td>\n",
              "      <td>2018</td>\n",
              "      <td>78.500000</td>\n",
              "      <td>Europe</td>\n",
              "      <td>High income</td>\n",
              "      <td>10.0</td>\n",
              "      <td>579.508</td>\n",
              "    </tr>\n",
              "    <tr>\n",
              "      <th>9</th>\n",
              "      <td>Finland</td>\n",
              "      <td>2018</td>\n",
              "      <td>81.800000</td>\n",
              "      <td>Europe</td>\n",
              "      <td>High income</td>\n",
              "      <td>8.4</td>\n",
              "      <td>795.477</td>\n",
              "    </tr>\n",
              "    <tr>\n",
              "      <th>10</th>\n",
              "      <td>France</td>\n",
              "      <td>2018</td>\n",
              "      <td>82.800000</td>\n",
              "      <td>Europe</td>\n",
              "      <td>High income</td>\n",
              "      <td>11.6</td>\n",
              "      <td>484.791</td>\n",
              "    </tr>\n",
              "    <tr>\n",
              "      <th>11</th>\n",
              "      <td>Germany</td>\n",
              "      <td>2018</td>\n",
              "      <td>81.000000</td>\n",
              "      <td>Europe</td>\n",
              "      <td>High income</td>\n",
              "      <td>10.9</td>\n",
              "      <td>820.913</td>\n",
              "    </tr>\n",
              "    <tr>\n",
              "      <th>12</th>\n",
              "      <td>Greece</td>\n",
              "      <td>2018</td>\n",
              "      <td>81.900000</td>\n",
              "      <td>Europe</td>\n",
              "      <td>High income</td>\n",
              "      <td>6.5</td>\n",
              "      <td>835.144</td>\n",
              "    </tr>\n",
              "    <tr>\n",
              "      <th>13</th>\n",
              "      <td>Hungary</td>\n",
              "      <td>2018</td>\n",
              "      <td>76.200000</td>\n",
              "      <td>Europe</td>\n",
              "      <td>High income</td>\n",
              "      <td>11.4</td>\n",
              "      <td>564.415</td>\n",
              "    </tr>\n",
              "    <tr>\n",
              "      <th>14</th>\n",
              "      <td>Iceland</td>\n",
              "      <td>2018</td>\n",
              "      <td>82.900000</td>\n",
              "      <td>Europe</td>\n",
              "      <td>High income</td>\n",
              "      <td>7.7</td>\n",
              "      <td>675.040</td>\n",
              "    </tr>\n",
              "    <tr>\n",
              "      <th>15</th>\n",
              "      <td>Ireland</td>\n",
              "      <td>2018</td>\n",
              "      <td>82.200000</td>\n",
              "      <td>Europe</td>\n",
              "      <td>High income</td>\n",
              "      <td>11.0</td>\n",
              "      <td>585.584</td>\n",
              "    </tr>\n",
              "    <tr>\n",
              "      <th>16</th>\n",
              "      <td>Israel</td>\n",
              "      <td>2018</td>\n",
              "      <td>82.916296</td>\n",
              "      <td>Asia</td>\n",
              "      <td>High income</td>\n",
              "      <td>3.0</td>\n",
              "      <td>600.292</td>\n",
              "    </tr>\n",
              "    <tr>\n",
              "      <th>17</th>\n",
              "      <td>Italy</td>\n",
              "      <td>2018</td>\n",
              "      <td>83.400000</td>\n",
              "      <td>Europe</td>\n",
              "      <td>High income</td>\n",
              "      <td>7.8</td>\n",
              "      <td>823.310</td>\n",
              "    </tr>\n",
              "    <tr>\n",
              "      <th>18</th>\n",
              "      <td>Japan</td>\n",
              "      <td>2018</td>\n",
              "      <td>84.300000</td>\n",
              "      <td>Asia</td>\n",
              "      <td>High income</td>\n",
              "      <td>7.2</td>\n",
              "      <td>591.808</td>\n",
              "    </tr>\n",
              "    <tr>\n",
              "      <th>19</th>\n",
              "      <td>Korea</td>\n",
              "      <td>2018</td>\n",
              "      <td>82.700000</td>\n",
              "      <td>Asia</td>\n",
              "      <td>High income</td>\n",
              "      <td>8.5</td>\n",
              "      <td>992.747</td>\n",
              "    </tr>\n",
              "    <tr>\n",
              "      <th>20</th>\n",
              "      <td>Latvia</td>\n",
              "      <td>2018</td>\n",
              "      <td>75.100000</td>\n",
              "      <td>Europe</td>\n",
              "      <td>High income</td>\n",
              "      <td>11.0</td>\n",
              "      <td>729.121</td>\n",
              "    </tr>\n",
              "    <tr>\n",
              "      <th>21</th>\n",
              "      <td>Lithuania</td>\n",
              "      <td>2018</td>\n",
              "      <td>76.000000</td>\n",
              "      <td>Europe</td>\n",
              "      <td>High income</td>\n",
              "      <td>11.2</td>\n",
              "      <td>755.371</td>\n",
              "    </tr>\n",
              "    <tr>\n",
              "      <th>22</th>\n",
              "      <td>Luxembourg</td>\n",
              "      <td>2018</td>\n",
              "      <td>82.300000</td>\n",
              "      <td>Europe</td>\n",
              "      <td>High income</td>\n",
              "      <td>11.1</td>\n",
              "      <td>552.262</td>\n",
              "    </tr>\n",
              "    <tr>\n",
              "      <th>23</th>\n",
              "      <td>Mexico</td>\n",
              "      <td>2018</td>\n",
              "      <td>75.000000</td>\n",
              "      <td>N. America</td>\n",
              "      <td>Upper middle income</td>\n",
              "      <td>4.8</td>\n",
              "      <td>474.787</td>\n",
              "    </tr>\n",
              "    <tr>\n",
              "      <th>24</th>\n",
              "      <td>Netherlands</td>\n",
              "      <td>2018</td>\n",
              "      <td>81.900000</td>\n",
              "      <td>Europe</td>\n",
              "      <td>High income</td>\n",
              "      <td>8.3</td>\n",
              "      <td>591.610</td>\n",
              "    </tr>\n",
              "    <tr>\n",
              "      <th>25</th>\n",
              "      <td>New Zealand</td>\n",
              "      <td>2018</td>\n",
              "      <td>81.700000</td>\n",
              "      <td>Oceania</td>\n",
              "      <td>High income</td>\n",
              "      <td>8.8</td>\n",
              "      <td>505.245</td>\n",
              "    </tr>\n",
              "    <tr>\n",
              "      <th>26</th>\n",
              "      <td>Norway</td>\n",
              "      <td>2018</td>\n",
              "      <td>82.800000</td>\n",
              "      <td>Europe</td>\n",
              "      <td>High income</td>\n",
              "      <td>6.0</td>\n",
              "      <td>907.274</td>\n",
              "    </tr>\n",
              "    <tr>\n",
              "      <th>27</th>\n",
              "      <td>Poland</td>\n",
              "      <td>2018</td>\n",
              "      <td>77.700000</td>\n",
              "      <td>Europe</td>\n",
              "      <td>High income</td>\n",
              "      <td>10.7</td>\n",
              "      <td>430.187</td>\n",
              "    </tr>\n",
              "    <tr>\n",
              "      <th>28</th>\n",
              "      <td>Portugal</td>\n",
              "      <td>2018</td>\n",
              "      <td>81.500000</td>\n",
              "      <td>Europe</td>\n",
              "      <td>High income</td>\n",
              "      <td>10.4</td>\n",
              "      <td>937.648</td>\n",
              "    </tr>\n",
              "    <tr>\n",
              "      <th>29</th>\n",
              "      <td>Slovak Republic</td>\n",
              "      <td>2018</td>\n",
              "      <td>77.400000</td>\n",
              "      <td>Europe</td>\n",
              "      <td>High income</td>\n",
              "      <td>10.1</td>\n",
              "      <td>379.853</td>\n",
              "    </tr>\n",
              "    <tr>\n",
              "      <th>30</th>\n",
              "      <td>Slovenia</td>\n",
              "      <td>2018</td>\n",
              "      <td>81.500000</td>\n",
              "      <td>Europe</td>\n",
              "      <td>High income</td>\n",
              "      <td>10.0</td>\n",
              "      <td>364.851</td>\n",
              "    </tr>\n",
              "    <tr>\n",
              "      <th>31</th>\n",
              "      <td>Spain</td>\n",
              "      <td>2018</td>\n",
              "      <td>83.500000</td>\n",
              "      <td>Europe</td>\n",
              "      <td>High income</td>\n",
              "      <td>10.4</td>\n",
              "      <td>762.388</td>\n",
              "    </tr>\n",
              "    <tr>\n",
              "      <th>32</th>\n",
              "      <td>Sweden</td>\n",
              "      <td>2018</td>\n",
              "      <td>82.600000</td>\n",
              "      <td>Europe</td>\n",
              "      <td>High income</td>\n",
              "      <td>7.2</td>\n",
              "      <td>756.467</td>\n",
              "    </tr>\n",
              "    <tr>\n",
              "      <th>33</th>\n",
              "      <td>Switzerland</td>\n",
              "      <td>2018</td>\n",
              "      <td>83.800000</td>\n",
              "      <td>Europe</td>\n",
              "      <td>High income</td>\n",
              "      <td>9.1</td>\n",
              "      <td>1837.962</td>\n",
              "    </tr>\n",
              "    <tr>\n",
              "      <th>34</th>\n",
              "      <td>Türkiye</td>\n",
              "      <td>2018</td>\n",
              "      <td>78.300000</td>\n",
              "      <td>Asia</td>\n",
              "      <td>Upper middle income</td>\n",
              "      <td>1.4</td>\n",
              "      <td>210.825</td>\n",
              "    </tr>\n",
              "    <tr>\n",
              "      <th>35</th>\n",
              "      <td>United Kingdom</td>\n",
              "      <td>2018</td>\n",
              "      <td>81.300000</td>\n",
              "      <td>Europe</td>\n",
              "      <td>High income</td>\n",
              "      <td>9.8</td>\n",
              "      <td>641.852</td>\n",
              "    </tr>\n",
              "    <tr>\n",
              "      <th>36</th>\n",
              "      <td>United States</td>\n",
              "      <td>2018</td>\n",
              "      <td>78.700000</td>\n",
              "      <td>N. America</td>\n",
              "      <td>High income</td>\n",
              "      <td>8.9</td>\n",
              "      <td>1182.653</td>\n",
              "    </tr>\n",
              "  </tbody>\n",
              "</table>\n",
              "</div>"
            ],
            "text/plain": [
              "            country  year  LE Total population at birth      region  \\\n",
              "0           Austria  2018                     81.800000      Europe   \n",
              "1           Belgium  2018                     81.700000      Europe   \n",
              "2            Canada  2018                     81.900000  N. America   \n",
              "3             Chile  2018                     80.400000  S. America   \n",
              "4          Colombia  2018                     76.500000  S. America   \n",
              "5        Costa Rica  2018                     80.300000  N. America   \n",
              "6    Czech Republic  2018                     79.100000      Europe   \n",
              "7           Denmark  2018                     81.000000      Europe   \n",
              "8           Estonia  2018                     78.500000      Europe   \n",
              "9           Finland  2018                     81.800000      Europe   \n",
              "10           France  2018                     82.800000      Europe   \n",
              "11          Germany  2018                     81.000000      Europe   \n",
              "12           Greece  2018                     81.900000      Europe   \n",
              "13          Hungary  2018                     76.200000      Europe   \n",
              "14          Iceland  2018                     82.900000      Europe   \n",
              "15          Ireland  2018                     82.200000      Europe   \n",
              "16           Israel  2018                     82.916296        Asia   \n",
              "17            Italy  2018                     83.400000      Europe   \n",
              "18            Japan  2018                     84.300000        Asia   \n",
              "19            Korea  2018                     82.700000        Asia   \n",
              "20           Latvia  2018                     75.100000      Europe   \n",
              "21        Lithuania  2018                     76.000000      Europe   \n",
              "22       Luxembourg  2018                     82.300000      Europe   \n",
              "23           Mexico  2018                     75.000000  N. America   \n",
              "24      Netherlands  2018                     81.900000      Europe   \n",
              "25      New Zealand  2018                     81.700000     Oceania   \n",
              "26           Norway  2018                     82.800000      Europe   \n",
              "27           Poland  2018                     77.700000      Europe   \n",
              "28         Portugal  2018                     81.500000      Europe   \n",
              "29  Slovak Republic  2018                     77.400000      Europe   \n",
              "30         Slovenia  2018                     81.500000      Europe   \n",
              "31            Spain  2018                     83.500000      Europe   \n",
              "32           Sweden  2018                     82.600000      Europe   \n",
              "33      Switzerland  2018                     83.800000      Europe   \n",
              "34          Türkiye  2018                     78.300000        Asia   \n",
              "35   United Kingdom  2018                     81.300000      Europe   \n",
              "36    United States  2018                     78.700000  N. America   \n",
              "\n",
              "           income_group  Alcohol consumption  OOP payments, per capita US$PPP  \n",
              "0           High income                 11.3                         1016.810  \n",
              "1           High income                  9.2                          946.897  \n",
              "2           High income                  8.2                          807.080  \n",
              "3           High income                  6.3                          758.407  \n",
              "4   Upper middle income                  4.2                          180.341  \n",
              "5   Upper middle income                  3.3                          342.909  \n",
              "6           High income                 11.8                          443.834  \n",
              "7           High income                  9.7                          733.603  \n",
              "8           High income                 10.0                          579.508  \n",
              "9           High income                  8.4                          795.477  \n",
              "10          High income                 11.6                          484.791  \n",
              "11          High income                 10.9                          820.913  \n",
              "12          High income                  6.5                          835.144  \n",
              "13          High income                 11.4                          564.415  \n",
              "14          High income                  7.7                          675.040  \n",
              "15          High income                 11.0                          585.584  \n",
              "16          High income                  3.0                          600.292  \n",
              "17          High income                  7.8                          823.310  \n",
              "18          High income                  7.2                          591.808  \n",
              "19          High income                  8.5                          992.747  \n",
              "20          High income                 11.0                          729.121  \n",
              "21          High income                 11.2                          755.371  \n",
              "22          High income                 11.1                          552.262  \n",
              "23  Upper middle income                  4.8                          474.787  \n",
              "24          High income                  8.3                          591.610  \n",
              "25          High income                  8.8                          505.245  \n",
              "26          High income                  6.0                          907.274  \n",
              "27          High income                 10.7                          430.187  \n",
              "28          High income                 10.4                          937.648  \n",
              "29          High income                 10.1                          379.853  \n",
              "30          High income                 10.0                          364.851  \n",
              "31          High income                 10.4                          762.388  \n",
              "32          High income                  7.2                          756.467  \n",
              "33          High income                  9.1                         1837.962  \n",
              "34  Upper middle income                  1.4                          210.825  \n",
              "35          High income                  9.8                          641.852  \n",
              "36          High income                  8.9                         1182.653  "
            ]
          },
          "execution_count": 246,
          "metadata": {},
          "output_type": "execute_result"
        }
      ],
      "source": [
        "column_names_2018_f2 = [\"country\",\"year\",\"LE Total population at birth\",\"region\",\"income_group\",\"Alcohol consumption\",\"OOP payments, per capita US$PPP\"]\n",
        "merged_df_2018_f2 = data_long_2018_LE.merge(\n",
        "                            data_long_2018_AlcoholConsumption, on=['country','year','region','income_group']\n",
        "                            ).merge(data_long_2018_healthExpenditure, on=['country','year','region','income_group'])\n",
        "merged_df_2018_f2.drop(columns=[\"variable_x\",\"variable_y\",\"variable\"], inplace=True)\n",
        "merged_df_2018_f2.columns = column_names_2018_f2\n",
        "merged_df_2018_f2"
      ]
    },
    {
      "cell_type": "code",
      "execution_count": 251,
      "metadata": {},
      "outputs": [],
      "source": [
        "data_long_2020 = data_long_f2[data_long_f2[\"year\"] == 2020]\n",
        "data_long_2020= pd.merge(data_long_2020,country_income_groups,on='country',how='left')\n",
        "data_long_2020_healthExpenditure = data_long_2020[data_long_2020[\"variable\"] == \"OOP payments, per capita US$PPP\"]\n",
        "data_long_2020_AlcoholConsumption = data_long_2020[data_long_2020[\"variable\"] == \"Alcohol consumption\"]\n",
        "data_long_2020_LE = data_long_2020[data_long_2020[\"variable\"] == \"LE Total population at birth\"]\n"
      ]
    },
    {
      "cell_type": "code",
      "execution_count": 252,
      "metadata": {},
      "outputs": [
        {
          "data": {
            "text/html": [
              "<div>\n",
              "<style scoped>\n",
              "    .dataframe tbody tr th:only-of-type {\n",
              "        vertical-align: middle;\n",
              "    }\n",
              "\n",
              "    .dataframe tbody tr th {\n",
              "        vertical-align: top;\n",
              "    }\n",
              "\n",
              "    .dataframe thead th {\n",
              "        text-align: right;\n",
              "    }\n",
              "</style>\n",
              "<table border=\"1\" class=\"dataframe\">\n",
              "  <thead>\n",
              "    <tr style=\"text-align: right;\">\n",
              "      <th></th>\n",
              "      <th>country</th>\n",
              "      <th>year</th>\n",
              "      <th>LE Total population at birth</th>\n",
              "      <th>region</th>\n",
              "      <th>income_group</th>\n",
              "      <th>Alcohol consumption</th>\n",
              "      <th>OOP payments, per capita US$PPP</th>\n",
              "    </tr>\n",
              "  </thead>\n",
              "  <tbody>\n",
              "    <tr>\n",
              "      <th>0</th>\n",
              "      <td>Austria</td>\n",
              "      <td>2020</td>\n",
              "      <td>81.3</td>\n",
              "      <td>Europe</td>\n",
              "      <td>High income</td>\n",
              "      <td>11.3</td>\n",
              "      <td>988.544</td>\n",
              "    </tr>\n",
              "    <tr>\n",
              "      <th>1</th>\n",
              "      <td>Canada</td>\n",
              "      <td>2020</td>\n",
              "      <td>81.7</td>\n",
              "      <td>N. America</td>\n",
              "      <td>High income</td>\n",
              "      <td>8.1</td>\n",
              "      <td>724.500</td>\n",
              "    </tr>\n",
              "    <tr>\n",
              "      <th>2</th>\n",
              "      <td>Costa Rica</td>\n",
              "      <td>2020</td>\n",
              "      <td>80.6</td>\n",
              "      <td>N. America</td>\n",
              "      <td>Upper middle income</td>\n",
              "      <td>3.2</td>\n",
              "      <td>328.204</td>\n",
              "    </tr>\n",
              "    <tr>\n",
              "      <th>3</th>\n",
              "      <td>Czech Republic</td>\n",
              "      <td>2020</td>\n",
              "      <td>78.3</td>\n",
              "      <td>Europe</td>\n",
              "      <td>High income</td>\n",
              "      <td>11.6</td>\n",
              "      <td>438.546</td>\n",
              "    </tr>\n",
              "    <tr>\n",
              "      <th>4</th>\n",
              "      <td>Denmark</td>\n",
              "      <td>2020</td>\n",
              "      <td>81.6</td>\n",
              "      <td>Europe</td>\n",
              "      <td>High income</td>\n",
              "      <td>9.7</td>\n",
              "      <td>730.470</td>\n",
              "    </tr>\n",
              "    <tr>\n",
              "      <th>5</th>\n",
              "      <td>Estonia</td>\n",
              "      <td>2020</td>\n",
              "      <td>78.9</td>\n",
              "      <td>Europe</td>\n",
              "      <td>High income</td>\n",
              "      <td>10.5</td>\n",
              "      <td>585.209</td>\n",
              "    </tr>\n",
              "    <tr>\n",
              "      <th>6</th>\n",
              "      <td>Finland</td>\n",
              "      <td>2020</td>\n",
              "      <td>82.0</td>\n",
              "      <td>Europe</td>\n",
              "      <td>High income</td>\n",
              "      <td>8.2</td>\n",
              "      <td>755.611</td>\n",
              "    </tr>\n",
              "    <tr>\n",
              "      <th>7</th>\n",
              "      <td>France</td>\n",
              "      <td>2020</td>\n",
              "      <td>82.3</td>\n",
              "      <td>Europe</td>\n",
              "      <td>High income</td>\n",
              "      <td>10.4</td>\n",
              "      <td>488.895</td>\n",
              "    </tr>\n",
              "    <tr>\n",
              "      <th>8</th>\n",
              "      <td>Hungary</td>\n",
              "      <td>2020</td>\n",
              "      <td>75.7</td>\n",
              "      <td>Europe</td>\n",
              "      <td>High income</td>\n",
              "      <td>10.4</td>\n",
              "      <td>613.075</td>\n",
              "    </tr>\n",
              "    <tr>\n",
              "      <th>9</th>\n",
              "      <td>Iceland</td>\n",
              "      <td>2020</td>\n",
              "      <td>83.1</td>\n",
              "      <td>Europe</td>\n",
              "      <td>High income</td>\n",
              "      <td>7.4</td>\n",
              "      <td>693.759</td>\n",
              "    </tr>\n",
              "    <tr>\n",
              "      <th>10</th>\n",
              "      <td>Ireland</td>\n",
              "      <td>2020</td>\n",
              "      <td>82.6</td>\n",
              "      <td>Europe</td>\n",
              "      <td>High income</td>\n",
              "      <td>10.1</td>\n",
              "      <td>564.337</td>\n",
              "    </tr>\n",
              "    <tr>\n",
              "      <th>11</th>\n",
              "      <td>Japan</td>\n",
              "      <td>2020</td>\n",
              "      <td>84.7</td>\n",
              "      <td>Asia</td>\n",
              "      <td>High income</td>\n",
              "      <td>6.7</td>\n",
              "      <td>621.042</td>\n",
              "    </tr>\n",
              "    <tr>\n",
              "      <th>12</th>\n",
              "      <td>Korea</td>\n",
              "      <td>2020</td>\n",
              "      <td>83.5</td>\n",
              "      <td>Asia</td>\n",
              "      <td>High income</td>\n",
              "      <td>7.9</td>\n",
              "      <td>994.077</td>\n",
              "    </tr>\n",
              "    <tr>\n",
              "      <th>13</th>\n",
              "      <td>Latvia</td>\n",
              "      <td>2020</td>\n",
              "      <td>75.5</td>\n",
              "      <td>Europe</td>\n",
              "      <td>High income</td>\n",
              "      <td>12.1</td>\n",
              "      <td>710.118</td>\n",
              "    </tr>\n",
              "    <tr>\n",
              "      <th>14</th>\n",
              "      <td>Lithuania</td>\n",
              "      <td>2020</td>\n",
              "      <td>75.1</td>\n",
              "      <td>Europe</td>\n",
              "      <td>High income</td>\n",
              "      <td>11.4</td>\n",
              "      <td>826.908</td>\n",
              "    </tr>\n",
              "    <tr>\n",
              "      <th>15</th>\n",
              "      <td>Mexico</td>\n",
              "      <td>2020</td>\n",
              "      <td>75.2</td>\n",
              "      <td>N. America</td>\n",
              "      <td>Upper middle income</td>\n",
              "      <td>3.9</td>\n",
              "      <td>475.567</td>\n",
              "    </tr>\n",
              "    <tr>\n",
              "      <th>16</th>\n",
              "      <td>Netherlands</td>\n",
              "      <td>2020</td>\n",
              "      <td>81.4</td>\n",
              "      <td>Europe</td>\n",
              "      <td>High income</td>\n",
              "      <td>7.2</td>\n",
              "      <td>575.982</td>\n",
              "    </tr>\n",
              "    <tr>\n",
              "      <th>17</th>\n",
              "      <td>Norway</td>\n",
              "      <td>2020</td>\n",
              "      <td>83.3</td>\n",
              "      <td>Europe</td>\n",
              "      <td>High income</td>\n",
              "      <td>7.2</td>\n",
              "      <td>914.739</td>\n",
              "    </tr>\n",
              "    <tr>\n",
              "      <th>18</th>\n",
              "      <td>Slovak Republic</td>\n",
              "      <td>2020</td>\n",
              "      <td>77.0</td>\n",
              "      <td>Europe</td>\n",
              "      <td>High income</td>\n",
              "      <td>9.9</td>\n",
              "      <td>398.598</td>\n",
              "    </tr>\n",
              "    <tr>\n",
              "      <th>19</th>\n",
              "      <td>Slovenia</td>\n",
              "      <td>2020</td>\n",
              "      <td>80.6</td>\n",
              "      <td>Europe</td>\n",
              "      <td>High income</td>\n",
              "      <td>9.8</td>\n",
              "      <td>433.370</td>\n",
              "    </tr>\n",
              "    <tr>\n",
              "      <th>20</th>\n",
              "      <td>Spain</td>\n",
              "      <td>2020</td>\n",
              "      <td>82.4</td>\n",
              "      <td>Europe</td>\n",
              "      <td>High income</td>\n",
              "      <td>7.8</td>\n",
              "      <td>729.646</td>\n",
              "    </tr>\n",
              "    <tr>\n",
              "      <th>21</th>\n",
              "      <td>Sweden</td>\n",
              "      <td>2020</td>\n",
              "      <td>82.4</td>\n",
              "      <td>Europe</td>\n",
              "      <td>High income</td>\n",
              "      <td>7.5</td>\n",
              "      <td>750.269</td>\n",
              "    </tr>\n",
              "    <tr>\n",
              "      <th>22</th>\n",
              "      <td>Switzerland</td>\n",
              "      <td>2020</td>\n",
              "      <td>83.1</td>\n",
              "      <td>Europe</td>\n",
              "      <td>High income</td>\n",
              "      <td>8.9</td>\n",
              "      <td>1576.985</td>\n",
              "    </tr>\n",
              "    <tr>\n",
              "      <th>23</th>\n",
              "      <td>United Kingdom</td>\n",
              "      <td>2020</td>\n",
              "      <td>80.4</td>\n",
              "      <td>Europe</td>\n",
              "      <td>High income</td>\n",
              "      <td>9.7</td>\n",
              "      <td>629.229</td>\n",
              "    </tr>\n",
              "    <tr>\n",
              "      <th>24</th>\n",
              "      <td>United States</td>\n",
              "      <td>2020</td>\n",
              "      <td>77.0</td>\n",
              "      <td>N. America</td>\n",
              "      <td>High income</td>\n",
              "      <td>9.3</td>\n",
              "      <td>1172.382</td>\n",
              "    </tr>\n",
              "  </tbody>\n",
              "</table>\n",
              "</div>"
            ],
            "text/plain": [
              "            country  year  LE Total population at birth      region  \\\n",
              "0           Austria  2020                          81.3      Europe   \n",
              "1            Canada  2020                          81.7  N. America   \n",
              "2        Costa Rica  2020                          80.6  N. America   \n",
              "3    Czech Republic  2020                          78.3      Europe   \n",
              "4           Denmark  2020                          81.6      Europe   \n",
              "5           Estonia  2020                          78.9      Europe   \n",
              "6           Finland  2020                          82.0      Europe   \n",
              "7            France  2020                          82.3      Europe   \n",
              "8           Hungary  2020                          75.7      Europe   \n",
              "9           Iceland  2020                          83.1      Europe   \n",
              "10          Ireland  2020                          82.6      Europe   \n",
              "11            Japan  2020                          84.7        Asia   \n",
              "12            Korea  2020                          83.5        Asia   \n",
              "13           Latvia  2020                          75.5      Europe   \n",
              "14        Lithuania  2020                          75.1      Europe   \n",
              "15           Mexico  2020                          75.2  N. America   \n",
              "16      Netherlands  2020                          81.4      Europe   \n",
              "17           Norway  2020                          83.3      Europe   \n",
              "18  Slovak Republic  2020                          77.0      Europe   \n",
              "19         Slovenia  2020                          80.6      Europe   \n",
              "20            Spain  2020                          82.4      Europe   \n",
              "21           Sweden  2020                          82.4      Europe   \n",
              "22      Switzerland  2020                          83.1      Europe   \n",
              "23   United Kingdom  2020                          80.4      Europe   \n",
              "24    United States  2020                          77.0  N. America   \n",
              "\n",
              "           income_group  Alcohol consumption  OOP payments, per capita US$PPP  \n",
              "0           High income                 11.3                          988.544  \n",
              "1           High income                  8.1                          724.500  \n",
              "2   Upper middle income                  3.2                          328.204  \n",
              "3           High income                 11.6                          438.546  \n",
              "4           High income                  9.7                          730.470  \n",
              "5           High income                 10.5                          585.209  \n",
              "6           High income                  8.2                          755.611  \n",
              "7           High income                 10.4                          488.895  \n",
              "8           High income                 10.4                          613.075  \n",
              "9           High income                  7.4                          693.759  \n",
              "10          High income                 10.1                          564.337  \n",
              "11          High income                  6.7                          621.042  \n",
              "12          High income                  7.9                          994.077  \n",
              "13          High income                 12.1                          710.118  \n",
              "14          High income                 11.4                          826.908  \n",
              "15  Upper middle income                  3.9                          475.567  \n",
              "16          High income                  7.2                          575.982  \n",
              "17          High income                  7.2                          914.739  \n",
              "18          High income                  9.9                          398.598  \n",
              "19          High income                  9.8                          433.370  \n",
              "20          High income                  7.8                          729.646  \n",
              "21          High income                  7.5                          750.269  \n",
              "22          High income                  8.9                         1576.985  \n",
              "23          High income                  9.7                          629.229  \n",
              "24          High income                  9.3                         1172.382  "
            ]
          },
          "execution_count": 252,
          "metadata": {},
          "output_type": "execute_result"
        }
      ],
      "source": [
        "column_names_2020_f2 = [\"country\",\"year\",\"LE Total population at birth\",\"region\",\"income_group\",\"Alcohol consumption\",\"OOP payments, per capita US$PPP\"]\n",
        "merged_df_2020_f2 = data_long_2020_LE.merge(\n",
        "                            data_long_2020_AlcoholConsumption, on=['country','year','region','income_group']\n",
        "                            ).merge(data_long_2020_healthExpenditure, on=['country','year','region','income_group'])\n",
        "merged_df_2020_f2.drop(columns=[\"variable_x\",\"variable_y\",\"variable\"], inplace=True)\n",
        "merged_df_2020_f2.columns = column_names_2020_f2\n",
        "merged_df_2020_f2"
      ]
    },
    {
      "cell_type": "code",
      "execution_count": null,
      "metadata": {},
      "outputs": [
        {
          "name": "stdout",
          "output_type": "stream",
          "text": [
            "   country  year  LE Total population at birth region income_group  \\\n",
            "11   Japan  2020                          84.7   Asia  High income   \n",
            "12   Korea  2020                          83.5   Asia  High income   \n",
            "\n",
            "    Alcohol consumption  OOP payments, per capita US$PPP  \n",
            "11                  6.7                          621.042  \n",
            "12                  7.9                          994.077  \n",
            "   country  year  LE Total population at birth region income_group  \\\n",
            "16  Israel  2018                     82.916296   Asia  High income   \n",
            "18   Japan  2018                     84.300000   Asia  High income   \n",
            "19   Korea  2018                     82.700000   Asia  High income   \n",
            "\n",
            "    Alcohol consumption  OOP payments, per capita US$PPP  \n",
            "16                  3.0                          600.292  \n",
            "18                  7.2                          591.808  \n",
            "19                  8.5                          992.747  \n"
          ]
        }
      ],
      "source": [
        "# merged_df_2020_f2 = merged_df_2020_f2.loc[~(merged_df_2020_f2.region=='E. Asia')]\n",
        "# print(merged_df_2020_f2)\n",
        "merged_df_2020_f2 = merged_df_2020_f2.loc[(merged_df_2020_f2['region']=='Asia')&(merged_df_2020_f2['income_group']=='High income')]\n",
        "print(merged_df_2020_f2)\n",
        "merged_df_2018_f2 = merged_df_2018_f2.loc[(merged_df_2018_f2['region']=='Asia')&(merged_df_2018_f2['income_group']=='High income')]\n",
        "print(merged_df_2018_f2)"
      ]
    },
    {
      "cell_type": "code",
      "execution_count": null,
      "metadata": {},
      "outputs": [
        {
          "data": {
            "application/vnd.plotly.v1+json": {
              "config": {
                "plotlyServerURL": "https://plot.ly"
              },
              "data": [
                {
                  "hovertemplate": "<b>%{hovertext}</b><br><br>OOP payments, per capita US$PPP=%{x}<br>LE Total population at birth=%{y}<br>Alcohol consumption=%{marker.color}<br>country=%{text}<extra></extra>",
                  "hovertext": [
                    "Israel",
                    "Japan",
                    "Korea"
                  ],
                  "legendgroup": "",
                  "marker": {
                    "color": [
                      3,
                      7.2,
                      8.5
                    ],
                    "coloraxis": "coloraxis",
                    "size": [
                      3,
                      7.2,
                      8.5
                    ],
                    "sizemode": "area",
                    "sizeref": 0.02125,
                    "symbol": "circle"
                  },
                  "mode": "markers+text",
                  "name": "",
                  "orientation": "v",
                  "showlegend": false,
                  "text": [
                    "Israel",
                    "Japan",
                    "Korea"
                  ],
                  "textposition": "top center",
                  "type": "scatter",
                  "x": [
                    600.292,
                    591.808,
                    992.747
                  ],
                  "xaxis": "x",
                  "y": [
                    82.9162960189094,
                    84.3,
                    82.7
                  ],
                  "yaxis": "y"
                }
              ],
              "layout": {
                "coloraxis": {
                  "colorbar": {
                    "title": {
                      "text": "Alcohol consumption"
                    }
                  },
                  "colorscale": [
                    [
                      0,
                      "#0d0887"
                    ],
                    [
                      0.1111111111111111,
                      "#46039f"
                    ],
                    [
                      0.2222222222222222,
                      "#7201a8"
                    ],
                    [
                      0.3333333333333333,
                      "#9c179e"
                    ],
                    [
                      0.4444444444444444,
                      "#bd3786"
                    ],
                    [
                      0.5555555555555556,
                      "#d8576b"
                    ],
                    [
                      0.6666666666666666,
                      "#ed7953"
                    ],
                    [
                      0.7777777777777778,
                      "#fb9f3a"
                    ],
                    [
                      0.8888888888888888,
                      "#fdca26"
                    ],
                    [
                      1,
                      "#f0f921"
                    ]
                  ]
                },
                "legend": {
                  "itemsizing": "constant",
                  "tracegroupgap": 0
                },
                "margin": {
                  "t": 60
                },
                "template": {
                  "data": {
                    "bar": [
                      {
                        "error_x": {
                          "color": "#2a3f5f"
                        },
                        "error_y": {
                          "color": "#2a3f5f"
                        },
                        "marker": {
                          "line": {
                            "color": "#E5ECF6",
                            "width": 0.5
                          },
                          "pattern": {
                            "fillmode": "overlay",
                            "size": 10,
                            "solidity": 0.2
                          }
                        },
                        "type": "bar"
                      }
                    ],
                    "barpolar": [
                      {
                        "marker": {
                          "line": {
                            "color": "#E5ECF6",
                            "width": 0.5
                          },
                          "pattern": {
                            "fillmode": "overlay",
                            "size": 10,
                            "solidity": 0.2
                          }
                        },
                        "type": "barpolar"
                      }
                    ],
                    "carpet": [
                      {
                        "aaxis": {
                          "endlinecolor": "#2a3f5f",
                          "gridcolor": "white",
                          "linecolor": "white",
                          "minorgridcolor": "white",
                          "startlinecolor": "#2a3f5f"
                        },
                        "baxis": {
                          "endlinecolor": "#2a3f5f",
                          "gridcolor": "white",
                          "linecolor": "white",
                          "minorgridcolor": "white",
                          "startlinecolor": "#2a3f5f"
                        },
                        "type": "carpet"
                      }
                    ],
                    "choropleth": [
                      {
                        "colorbar": {
                          "outlinewidth": 0,
                          "ticks": ""
                        },
                        "type": "choropleth"
                      }
                    ],
                    "contour": [
                      {
                        "colorbar": {
                          "outlinewidth": 0,
                          "ticks": ""
                        },
                        "colorscale": [
                          [
                            0,
                            "#0d0887"
                          ],
                          [
                            0.1111111111111111,
                            "#46039f"
                          ],
                          [
                            0.2222222222222222,
                            "#7201a8"
                          ],
                          [
                            0.3333333333333333,
                            "#9c179e"
                          ],
                          [
                            0.4444444444444444,
                            "#bd3786"
                          ],
                          [
                            0.5555555555555556,
                            "#d8576b"
                          ],
                          [
                            0.6666666666666666,
                            "#ed7953"
                          ],
                          [
                            0.7777777777777778,
                            "#fb9f3a"
                          ],
                          [
                            0.8888888888888888,
                            "#fdca26"
                          ],
                          [
                            1,
                            "#f0f921"
                          ]
                        ],
                        "type": "contour"
                      }
                    ],
                    "contourcarpet": [
                      {
                        "colorbar": {
                          "outlinewidth": 0,
                          "ticks": ""
                        },
                        "type": "contourcarpet"
                      }
                    ],
                    "heatmap": [
                      {
                        "colorbar": {
                          "outlinewidth": 0,
                          "ticks": ""
                        },
                        "colorscale": [
                          [
                            0,
                            "#0d0887"
                          ],
                          [
                            0.1111111111111111,
                            "#46039f"
                          ],
                          [
                            0.2222222222222222,
                            "#7201a8"
                          ],
                          [
                            0.3333333333333333,
                            "#9c179e"
                          ],
                          [
                            0.4444444444444444,
                            "#bd3786"
                          ],
                          [
                            0.5555555555555556,
                            "#d8576b"
                          ],
                          [
                            0.6666666666666666,
                            "#ed7953"
                          ],
                          [
                            0.7777777777777778,
                            "#fb9f3a"
                          ],
                          [
                            0.8888888888888888,
                            "#fdca26"
                          ],
                          [
                            1,
                            "#f0f921"
                          ]
                        ],
                        "type": "heatmap"
                      }
                    ],
                    "heatmapgl": [
                      {
                        "colorbar": {
                          "outlinewidth": 0,
                          "ticks": ""
                        },
                        "colorscale": [
                          [
                            0,
                            "#0d0887"
                          ],
                          [
                            0.1111111111111111,
                            "#46039f"
                          ],
                          [
                            0.2222222222222222,
                            "#7201a8"
                          ],
                          [
                            0.3333333333333333,
                            "#9c179e"
                          ],
                          [
                            0.4444444444444444,
                            "#bd3786"
                          ],
                          [
                            0.5555555555555556,
                            "#d8576b"
                          ],
                          [
                            0.6666666666666666,
                            "#ed7953"
                          ],
                          [
                            0.7777777777777778,
                            "#fb9f3a"
                          ],
                          [
                            0.8888888888888888,
                            "#fdca26"
                          ],
                          [
                            1,
                            "#f0f921"
                          ]
                        ],
                        "type": "heatmapgl"
                      }
                    ],
                    "histogram": [
                      {
                        "marker": {
                          "pattern": {
                            "fillmode": "overlay",
                            "size": 10,
                            "solidity": 0.2
                          }
                        },
                        "type": "histogram"
                      }
                    ],
                    "histogram2d": [
                      {
                        "colorbar": {
                          "outlinewidth": 0,
                          "ticks": ""
                        },
                        "colorscale": [
                          [
                            0,
                            "#0d0887"
                          ],
                          [
                            0.1111111111111111,
                            "#46039f"
                          ],
                          [
                            0.2222222222222222,
                            "#7201a8"
                          ],
                          [
                            0.3333333333333333,
                            "#9c179e"
                          ],
                          [
                            0.4444444444444444,
                            "#bd3786"
                          ],
                          [
                            0.5555555555555556,
                            "#d8576b"
                          ],
                          [
                            0.6666666666666666,
                            "#ed7953"
                          ],
                          [
                            0.7777777777777778,
                            "#fb9f3a"
                          ],
                          [
                            0.8888888888888888,
                            "#fdca26"
                          ],
                          [
                            1,
                            "#f0f921"
                          ]
                        ],
                        "type": "histogram2d"
                      }
                    ],
                    "histogram2dcontour": [
                      {
                        "colorbar": {
                          "outlinewidth": 0,
                          "ticks": ""
                        },
                        "colorscale": [
                          [
                            0,
                            "#0d0887"
                          ],
                          [
                            0.1111111111111111,
                            "#46039f"
                          ],
                          [
                            0.2222222222222222,
                            "#7201a8"
                          ],
                          [
                            0.3333333333333333,
                            "#9c179e"
                          ],
                          [
                            0.4444444444444444,
                            "#bd3786"
                          ],
                          [
                            0.5555555555555556,
                            "#d8576b"
                          ],
                          [
                            0.6666666666666666,
                            "#ed7953"
                          ],
                          [
                            0.7777777777777778,
                            "#fb9f3a"
                          ],
                          [
                            0.8888888888888888,
                            "#fdca26"
                          ],
                          [
                            1,
                            "#f0f921"
                          ]
                        ],
                        "type": "histogram2dcontour"
                      }
                    ],
                    "mesh3d": [
                      {
                        "colorbar": {
                          "outlinewidth": 0,
                          "ticks": ""
                        },
                        "type": "mesh3d"
                      }
                    ],
                    "parcoords": [
                      {
                        "line": {
                          "colorbar": {
                            "outlinewidth": 0,
                            "ticks": ""
                          }
                        },
                        "type": "parcoords"
                      }
                    ],
                    "pie": [
                      {
                        "automargin": true,
                        "type": "pie"
                      }
                    ],
                    "scatter": [
                      {
                        "fillpattern": {
                          "fillmode": "overlay",
                          "size": 10,
                          "solidity": 0.2
                        },
                        "type": "scatter"
                      }
                    ],
                    "scatter3d": [
                      {
                        "line": {
                          "colorbar": {
                            "outlinewidth": 0,
                            "ticks": ""
                          }
                        },
                        "marker": {
                          "colorbar": {
                            "outlinewidth": 0,
                            "ticks": ""
                          }
                        },
                        "type": "scatter3d"
                      }
                    ],
                    "scattercarpet": [
                      {
                        "marker": {
                          "colorbar": {
                            "outlinewidth": 0,
                            "ticks": ""
                          }
                        },
                        "type": "scattercarpet"
                      }
                    ],
                    "scattergeo": [
                      {
                        "marker": {
                          "colorbar": {
                            "outlinewidth": 0,
                            "ticks": ""
                          }
                        },
                        "type": "scattergeo"
                      }
                    ],
                    "scattergl": [
                      {
                        "marker": {
                          "colorbar": {
                            "outlinewidth": 0,
                            "ticks": ""
                          }
                        },
                        "type": "scattergl"
                      }
                    ],
                    "scattermapbox": [
                      {
                        "marker": {
                          "colorbar": {
                            "outlinewidth": 0,
                            "ticks": ""
                          }
                        },
                        "type": "scattermapbox"
                      }
                    ],
                    "scatterpolar": [
                      {
                        "marker": {
                          "colorbar": {
                            "outlinewidth": 0,
                            "ticks": ""
                          }
                        },
                        "type": "scatterpolar"
                      }
                    ],
                    "scatterpolargl": [
                      {
                        "marker": {
                          "colorbar": {
                            "outlinewidth": 0,
                            "ticks": ""
                          }
                        },
                        "type": "scatterpolargl"
                      }
                    ],
                    "scatterternary": [
                      {
                        "marker": {
                          "colorbar": {
                            "outlinewidth": 0,
                            "ticks": ""
                          }
                        },
                        "type": "scatterternary"
                      }
                    ],
                    "surface": [
                      {
                        "colorbar": {
                          "outlinewidth": 0,
                          "ticks": ""
                        },
                        "colorscale": [
                          [
                            0,
                            "#0d0887"
                          ],
                          [
                            0.1111111111111111,
                            "#46039f"
                          ],
                          [
                            0.2222222222222222,
                            "#7201a8"
                          ],
                          [
                            0.3333333333333333,
                            "#9c179e"
                          ],
                          [
                            0.4444444444444444,
                            "#bd3786"
                          ],
                          [
                            0.5555555555555556,
                            "#d8576b"
                          ],
                          [
                            0.6666666666666666,
                            "#ed7953"
                          ],
                          [
                            0.7777777777777778,
                            "#fb9f3a"
                          ],
                          [
                            0.8888888888888888,
                            "#fdca26"
                          ],
                          [
                            1,
                            "#f0f921"
                          ]
                        ],
                        "type": "surface"
                      }
                    ],
                    "table": [
                      {
                        "cells": {
                          "fill": {
                            "color": "#EBF0F8"
                          },
                          "line": {
                            "color": "white"
                          }
                        },
                        "header": {
                          "fill": {
                            "color": "#C8D4E3"
                          },
                          "line": {
                            "color": "white"
                          }
                        },
                        "type": "table"
                      }
                    ]
                  },
                  "layout": {
                    "annotationdefaults": {
                      "arrowcolor": "#2a3f5f",
                      "arrowhead": 0,
                      "arrowwidth": 1
                    },
                    "autotypenumbers": "strict",
                    "coloraxis": {
                      "colorbar": {
                        "outlinewidth": 0,
                        "ticks": ""
                      }
                    },
                    "colorscale": {
                      "diverging": [
                        [
                          0,
                          "#8e0152"
                        ],
                        [
                          0.1,
                          "#c51b7d"
                        ],
                        [
                          0.2,
                          "#de77ae"
                        ],
                        [
                          0.3,
                          "#f1b6da"
                        ],
                        [
                          0.4,
                          "#fde0ef"
                        ],
                        [
                          0.5,
                          "#f7f7f7"
                        ],
                        [
                          0.6,
                          "#e6f5d0"
                        ],
                        [
                          0.7,
                          "#b8e186"
                        ],
                        [
                          0.8,
                          "#7fbc41"
                        ],
                        [
                          0.9,
                          "#4d9221"
                        ],
                        [
                          1,
                          "#276419"
                        ]
                      ],
                      "sequential": [
                        [
                          0,
                          "#0d0887"
                        ],
                        [
                          0.1111111111111111,
                          "#46039f"
                        ],
                        [
                          0.2222222222222222,
                          "#7201a8"
                        ],
                        [
                          0.3333333333333333,
                          "#9c179e"
                        ],
                        [
                          0.4444444444444444,
                          "#bd3786"
                        ],
                        [
                          0.5555555555555556,
                          "#d8576b"
                        ],
                        [
                          0.6666666666666666,
                          "#ed7953"
                        ],
                        [
                          0.7777777777777778,
                          "#fb9f3a"
                        ],
                        [
                          0.8888888888888888,
                          "#fdca26"
                        ],
                        [
                          1,
                          "#f0f921"
                        ]
                      ],
                      "sequentialminus": [
                        [
                          0,
                          "#0d0887"
                        ],
                        [
                          0.1111111111111111,
                          "#46039f"
                        ],
                        [
                          0.2222222222222222,
                          "#7201a8"
                        ],
                        [
                          0.3333333333333333,
                          "#9c179e"
                        ],
                        [
                          0.4444444444444444,
                          "#bd3786"
                        ],
                        [
                          0.5555555555555556,
                          "#d8576b"
                        ],
                        [
                          0.6666666666666666,
                          "#ed7953"
                        ],
                        [
                          0.7777777777777778,
                          "#fb9f3a"
                        ],
                        [
                          0.8888888888888888,
                          "#fdca26"
                        ],
                        [
                          1,
                          "#f0f921"
                        ]
                      ]
                    },
                    "colorway": [
                      "#636efa",
                      "#EF553B",
                      "#00cc96",
                      "#ab63fa",
                      "#FFA15A",
                      "#19d3f3",
                      "#FF6692",
                      "#B6E880",
                      "#FF97FF",
                      "#FECB52"
                    ],
                    "font": {
                      "color": "#2a3f5f"
                    },
                    "geo": {
                      "bgcolor": "white",
                      "lakecolor": "white",
                      "landcolor": "#E5ECF6",
                      "showlakes": true,
                      "showland": true,
                      "subunitcolor": "white"
                    },
                    "hoverlabel": {
                      "align": "left"
                    },
                    "hovermode": "closest",
                    "mapbox": {
                      "style": "light"
                    },
                    "paper_bgcolor": "white",
                    "plot_bgcolor": "#E5ECF6",
                    "polar": {
                      "angularaxis": {
                        "gridcolor": "white",
                        "linecolor": "white",
                        "ticks": ""
                      },
                      "bgcolor": "#E5ECF6",
                      "radialaxis": {
                        "gridcolor": "white",
                        "linecolor": "white",
                        "ticks": ""
                      }
                    },
                    "scene": {
                      "xaxis": {
                        "backgroundcolor": "#E5ECF6",
                        "gridcolor": "white",
                        "gridwidth": 2,
                        "linecolor": "white",
                        "showbackground": true,
                        "ticks": "",
                        "zerolinecolor": "white"
                      },
                      "yaxis": {
                        "backgroundcolor": "#E5ECF6",
                        "gridcolor": "white",
                        "gridwidth": 2,
                        "linecolor": "white",
                        "showbackground": true,
                        "ticks": "",
                        "zerolinecolor": "white"
                      },
                      "zaxis": {
                        "backgroundcolor": "#E5ECF6",
                        "gridcolor": "white",
                        "gridwidth": 2,
                        "linecolor": "white",
                        "showbackground": true,
                        "ticks": "",
                        "zerolinecolor": "white"
                      }
                    },
                    "shapedefaults": {
                      "line": {
                        "color": "#2a3f5f"
                      }
                    },
                    "ternary": {
                      "aaxis": {
                        "gridcolor": "white",
                        "linecolor": "white",
                        "ticks": ""
                      },
                      "baxis": {
                        "gridcolor": "white",
                        "linecolor": "white",
                        "ticks": ""
                      },
                      "bgcolor": "#E5ECF6",
                      "caxis": {
                        "gridcolor": "white",
                        "linecolor": "white",
                        "ticks": ""
                      }
                    },
                    "title": {
                      "x": 0.05
                    },
                    "xaxis": {
                      "automargin": true,
                      "gridcolor": "white",
                      "linecolor": "white",
                      "ticks": "",
                      "title": {
                        "standoff": 15
                      },
                      "zerolinecolor": "white",
                      "zerolinewidth": 2
                    },
                    "yaxis": {
                      "automargin": true,
                      "gridcolor": "white",
                      "linecolor": "white",
                      "ticks": "",
                      "title": {
                        "standoff": 15
                      },
                      "zerolinecolor": "white",
                      "zerolinewidth": 2
                    }
                  }
                },
                "xaxis": {
                  "anchor": "y",
                  "domain": [
                    0,
                    1
                  ],
                  "title": {
                    "text": "OOP payments, per capita US$PPP"
                  }
                },
                "yaxis": {
                  "anchor": "x",
                  "domain": [
                    0,
                    1
                  ],
                  "title": {
                    "text": "LE Total population at birth"
                  }
                }
              }
            }
          },
          "metadata": {},
          "output_type": "display_data"
        }
      ],
      "source": [
        "fig =px.scatter(merged_df_2018_f2.dropna(), x='OOP payments, per capita US$PPP', \n",
        "            y='LE Total population at birth', size='Alcohol consumption', hover_name='country', color='Alcohol consumption',text='country')\n",
        "\n",
        "fig.update_traces(textposition='top center')\n",
        "fig.show()"
      ]
    },
    {
      "cell_type": "code",
      "execution_count": null,
      "metadata": {},
      "outputs": [
        {
          "data": {
            "application/vnd.plotly.v1+json": {
              "config": {
                "plotlyServerURL": "https://plot.ly"
              },
              "data": [
                {
                  "hovertemplate": "<b>%{hovertext}</b><br><br>OOP payments, per capita US$PPP=%{x}<br>LE Total population at birth=%{y}<br>Alcohol consumption=%{marker.color}<extra></extra>",
                  "hovertext": [
                    "Japan",
                    "Korea"
                  ],
                  "legendgroup": "",
                  "marker": {
                    "color": [
                      6.7,
                      7.9
                    ],
                    "coloraxis": "coloraxis",
                    "size": [
                      6.7,
                      7.9
                    ],
                    "sizemode": "area",
                    "sizeref": 0.01975,
                    "symbol": "circle"
                  },
                  "mode": "markers",
                  "name": "",
                  "orientation": "v",
                  "showlegend": false,
                  "type": "scatter",
                  "x": [
                    621.042,
                    994.077
                  ],
                  "xaxis": "x",
                  "y": [
                    84.7,
                    83.5
                  ],
                  "yaxis": "y"
                }
              ],
              "layout": {
                "coloraxis": {
                  "colorbar": {
                    "title": {
                      "text": "Alcohol consumption"
                    }
                  },
                  "colorscale": [
                    [
                      0,
                      "#0d0887"
                    ],
                    [
                      0.1111111111111111,
                      "#46039f"
                    ],
                    [
                      0.2222222222222222,
                      "#7201a8"
                    ],
                    [
                      0.3333333333333333,
                      "#9c179e"
                    ],
                    [
                      0.4444444444444444,
                      "#bd3786"
                    ],
                    [
                      0.5555555555555556,
                      "#d8576b"
                    ],
                    [
                      0.6666666666666666,
                      "#ed7953"
                    ],
                    [
                      0.7777777777777778,
                      "#fb9f3a"
                    ],
                    [
                      0.8888888888888888,
                      "#fdca26"
                    ],
                    [
                      1,
                      "#f0f921"
                    ]
                  ]
                },
                "legend": {
                  "itemsizing": "constant",
                  "tracegroupgap": 0
                },
                "margin": {
                  "t": 60
                },
                "template": {
                  "data": {
                    "bar": [
                      {
                        "error_x": {
                          "color": "#2a3f5f"
                        },
                        "error_y": {
                          "color": "#2a3f5f"
                        },
                        "marker": {
                          "line": {
                            "color": "#E5ECF6",
                            "width": 0.5
                          },
                          "pattern": {
                            "fillmode": "overlay",
                            "size": 10,
                            "solidity": 0.2
                          }
                        },
                        "type": "bar"
                      }
                    ],
                    "barpolar": [
                      {
                        "marker": {
                          "line": {
                            "color": "#E5ECF6",
                            "width": 0.5
                          },
                          "pattern": {
                            "fillmode": "overlay",
                            "size": 10,
                            "solidity": 0.2
                          }
                        },
                        "type": "barpolar"
                      }
                    ],
                    "carpet": [
                      {
                        "aaxis": {
                          "endlinecolor": "#2a3f5f",
                          "gridcolor": "white",
                          "linecolor": "white",
                          "minorgridcolor": "white",
                          "startlinecolor": "#2a3f5f"
                        },
                        "baxis": {
                          "endlinecolor": "#2a3f5f",
                          "gridcolor": "white",
                          "linecolor": "white",
                          "minorgridcolor": "white",
                          "startlinecolor": "#2a3f5f"
                        },
                        "type": "carpet"
                      }
                    ],
                    "choropleth": [
                      {
                        "colorbar": {
                          "outlinewidth": 0,
                          "ticks": ""
                        },
                        "type": "choropleth"
                      }
                    ],
                    "contour": [
                      {
                        "colorbar": {
                          "outlinewidth": 0,
                          "ticks": ""
                        },
                        "colorscale": [
                          [
                            0,
                            "#0d0887"
                          ],
                          [
                            0.1111111111111111,
                            "#46039f"
                          ],
                          [
                            0.2222222222222222,
                            "#7201a8"
                          ],
                          [
                            0.3333333333333333,
                            "#9c179e"
                          ],
                          [
                            0.4444444444444444,
                            "#bd3786"
                          ],
                          [
                            0.5555555555555556,
                            "#d8576b"
                          ],
                          [
                            0.6666666666666666,
                            "#ed7953"
                          ],
                          [
                            0.7777777777777778,
                            "#fb9f3a"
                          ],
                          [
                            0.8888888888888888,
                            "#fdca26"
                          ],
                          [
                            1,
                            "#f0f921"
                          ]
                        ],
                        "type": "contour"
                      }
                    ],
                    "contourcarpet": [
                      {
                        "colorbar": {
                          "outlinewidth": 0,
                          "ticks": ""
                        },
                        "type": "contourcarpet"
                      }
                    ],
                    "heatmap": [
                      {
                        "colorbar": {
                          "outlinewidth": 0,
                          "ticks": ""
                        },
                        "colorscale": [
                          [
                            0,
                            "#0d0887"
                          ],
                          [
                            0.1111111111111111,
                            "#46039f"
                          ],
                          [
                            0.2222222222222222,
                            "#7201a8"
                          ],
                          [
                            0.3333333333333333,
                            "#9c179e"
                          ],
                          [
                            0.4444444444444444,
                            "#bd3786"
                          ],
                          [
                            0.5555555555555556,
                            "#d8576b"
                          ],
                          [
                            0.6666666666666666,
                            "#ed7953"
                          ],
                          [
                            0.7777777777777778,
                            "#fb9f3a"
                          ],
                          [
                            0.8888888888888888,
                            "#fdca26"
                          ],
                          [
                            1,
                            "#f0f921"
                          ]
                        ],
                        "type": "heatmap"
                      }
                    ],
                    "heatmapgl": [
                      {
                        "colorbar": {
                          "outlinewidth": 0,
                          "ticks": ""
                        },
                        "colorscale": [
                          [
                            0,
                            "#0d0887"
                          ],
                          [
                            0.1111111111111111,
                            "#46039f"
                          ],
                          [
                            0.2222222222222222,
                            "#7201a8"
                          ],
                          [
                            0.3333333333333333,
                            "#9c179e"
                          ],
                          [
                            0.4444444444444444,
                            "#bd3786"
                          ],
                          [
                            0.5555555555555556,
                            "#d8576b"
                          ],
                          [
                            0.6666666666666666,
                            "#ed7953"
                          ],
                          [
                            0.7777777777777778,
                            "#fb9f3a"
                          ],
                          [
                            0.8888888888888888,
                            "#fdca26"
                          ],
                          [
                            1,
                            "#f0f921"
                          ]
                        ],
                        "type": "heatmapgl"
                      }
                    ],
                    "histogram": [
                      {
                        "marker": {
                          "pattern": {
                            "fillmode": "overlay",
                            "size": 10,
                            "solidity": 0.2
                          }
                        },
                        "type": "histogram"
                      }
                    ],
                    "histogram2d": [
                      {
                        "colorbar": {
                          "outlinewidth": 0,
                          "ticks": ""
                        },
                        "colorscale": [
                          [
                            0,
                            "#0d0887"
                          ],
                          [
                            0.1111111111111111,
                            "#46039f"
                          ],
                          [
                            0.2222222222222222,
                            "#7201a8"
                          ],
                          [
                            0.3333333333333333,
                            "#9c179e"
                          ],
                          [
                            0.4444444444444444,
                            "#bd3786"
                          ],
                          [
                            0.5555555555555556,
                            "#d8576b"
                          ],
                          [
                            0.6666666666666666,
                            "#ed7953"
                          ],
                          [
                            0.7777777777777778,
                            "#fb9f3a"
                          ],
                          [
                            0.8888888888888888,
                            "#fdca26"
                          ],
                          [
                            1,
                            "#f0f921"
                          ]
                        ],
                        "type": "histogram2d"
                      }
                    ],
                    "histogram2dcontour": [
                      {
                        "colorbar": {
                          "outlinewidth": 0,
                          "ticks": ""
                        },
                        "colorscale": [
                          [
                            0,
                            "#0d0887"
                          ],
                          [
                            0.1111111111111111,
                            "#46039f"
                          ],
                          [
                            0.2222222222222222,
                            "#7201a8"
                          ],
                          [
                            0.3333333333333333,
                            "#9c179e"
                          ],
                          [
                            0.4444444444444444,
                            "#bd3786"
                          ],
                          [
                            0.5555555555555556,
                            "#d8576b"
                          ],
                          [
                            0.6666666666666666,
                            "#ed7953"
                          ],
                          [
                            0.7777777777777778,
                            "#fb9f3a"
                          ],
                          [
                            0.8888888888888888,
                            "#fdca26"
                          ],
                          [
                            1,
                            "#f0f921"
                          ]
                        ],
                        "type": "histogram2dcontour"
                      }
                    ],
                    "mesh3d": [
                      {
                        "colorbar": {
                          "outlinewidth": 0,
                          "ticks": ""
                        },
                        "type": "mesh3d"
                      }
                    ],
                    "parcoords": [
                      {
                        "line": {
                          "colorbar": {
                            "outlinewidth": 0,
                            "ticks": ""
                          }
                        },
                        "type": "parcoords"
                      }
                    ],
                    "pie": [
                      {
                        "automargin": true,
                        "type": "pie"
                      }
                    ],
                    "scatter": [
                      {
                        "fillpattern": {
                          "fillmode": "overlay",
                          "size": 10,
                          "solidity": 0.2
                        },
                        "type": "scatter"
                      }
                    ],
                    "scatter3d": [
                      {
                        "line": {
                          "colorbar": {
                            "outlinewidth": 0,
                            "ticks": ""
                          }
                        },
                        "marker": {
                          "colorbar": {
                            "outlinewidth": 0,
                            "ticks": ""
                          }
                        },
                        "type": "scatter3d"
                      }
                    ],
                    "scattercarpet": [
                      {
                        "marker": {
                          "colorbar": {
                            "outlinewidth": 0,
                            "ticks": ""
                          }
                        },
                        "type": "scattercarpet"
                      }
                    ],
                    "scattergeo": [
                      {
                        "marker": {
                          "colorbar": {
                            "outlinewidth": 0,
                            "ticks": ""
                          }
                        },
                        "type": "scattergeo"
                      }
                    ],
                    "scattergl": [
                      {
                        "marker": {
                          "colorbar": {
                            "outlinewidth": 0,
                            "ticks": ""
                          }
                        },
                        "type": "scattergl"
                      }
                    ],
                    "scattermapbox": [
                      {
                        "marker": {
                          "colorbar": {
                            "outlinewidth": 0,
                            "ticks": ""
                          }
                        },
                        "type": "scattermapbox"
                      }
                    ],
                    "scatterpolar": [
                      {
                        "marker": {
                          "colorbar": {
                            "outlinewidth": 0,
                            "ticks": ""
                          }
                        },
                        "type": "scatterpolar"
                      }
                    ],
                    "scatterpolargl": [
                      {
                        "marker": {
                          "colorbar": {
                            "outlinewidth": 0,
                            "ticks": ""
                          }
                        },
                        "type": "scatterpolargl"
                      }
                    ],
                    "scatterternary": [
                      {
                        "marker": {
                          "colorbar": {
                            "outlinewidth": 0,
                            "ticks": ""
                          }
                        },
                        "type": "scatterternary"
                      }
                    ],
                    "surface": [
                      {
                        "colorbar": {
                          "outlinewidth": 0,
                          "ticks": ""
                        },
                        "colorscale": [
                          [
                            0,
                            "#0d0887"
                          ],
                          [
                            0.1111111111111111,
                            "#46039f"
                          ],
                          [
                            0.2222222222222222,
                            "#7201a8"
                          ],
                          [
                            0.3333333333333333,
                            "#9c179e"
                          ],
                          [
                            0.4444444444444444,
                            "#bd3786"
                          ],
                          [
                            0.5555555555555556,
                            "#d8576b"
                          ],
                          [
                            0.6666666666666666,
                            "#ed7953"
                          ],
                          [
                            0.7777777777777778,
                            "#fb9f3a"
                          ],
                          [
                            0.8888888888888888,
                            "#fdca26"
                          ],
                          [
                            1,
                            "#f0f921"
                          ]
                        ],
                        "type": "surface"
                      }
                    ],
                    "table": [
                      {
                        "cells": {
                          "fill": {
                            "color": "#EBF0F8"
                          },
                          "line": {
                            "color": "white"
                          }
                        },
                        "header": {
                          "fill": {
                            "color": "#C8D4E3"
                          },
                          "line": {
                            "color": "white"
                          }
                        },
                        "type": "table"
                      }
                    ]
                  },
                  "layout": {
                    "annotationdefaults": {
                      "arrowcolor": "#2a3f5f",
                      "arrowhead": 0,
                      "arrowwidth": 1
                    },
                    "autotypenumbers": "strict",
                    "coloraxis": {
                      "colorbar": {
                        "outlinewidth": 0,
                        "ticks": ""
                      }
                    },
                    "colorscale": {
                      "diverging": [
                        [
                          0,
                          "#8e0152"
                        ],
                        [
                          0.1,
                          "#c51b7d"
                        ],
                        [
                          0.2,
                          "#de77ae"
                        ],
                        [
                          0.3,
                          "#f1b6da"
                        ],
                        [
                          0.4,
                          "#fde0ef"
                        ],
                        [
                          0.5,
                          "#f7f7f7"
                        ],
                        [
                          0.6,
                          "#e6f5d0"
                        ],
                        [
                          0.7,
                          "#b8e186"
                        ],
                        [
                          0.8,
                          "#7fbc41"
                        ],
                        [
                          0.9,
                          "#4d9221"
                        ],
                        [
                          1,
                          "#276419"
                        ]
                      ],
                      "sequential": [
                        [
                          0,
                          "#0d0887"
                        ],
                        [
                          0.1111111111111111,
                          "#46039f"
                        ],
                        [
                          0.2222222222222222,
                          "#7201a8"
                        ],
                        [
                          0.3333333333333333,
                          "#9c179e"
                        ],
                        [
                          0.4444444444444444,
                          "#bd3786"
                        ],
                        [
                          0.5555555555555556,
                          "#d8576b"
                        ],
                        [
                          0.6666666666666666,
                          "#ed7953"
                        ],
                        [
                          0.7777777777777778,
                          "#fb9f3a"
                        ],
                        [
                          0.8888888888888888,
                          "#fdca26"
                        ],
                        [
                          1,
                          "#f0f921"
                        ]
                      ],
                      "sequentialminus": [
                        [
                          0,
                          "#0d0887"
                        ],
                        [
                          0.1111111111111111,
                          "#46039f"
                        ],
                        [
                          0.2222222222222222,
                          "#7201a8"
                        ],
                        [
                          0.3333333333333333,
                          "#9c179e"
                        ],
                        [
                          0.4444444444444444,
                          "#bd3786"
                        ],
                        [
                          0.5555555555555556,
                          "#d8576b"
                        ],
                        [
                          0.6666666666666666,
                          "#ed7953"
                        ],
                        [
                          0.7777777777777778,
                          "#fb9f3a"
                        ],
                        [
                          0.8888888888888888,
                          "#fdca26"
                        ],
                        [
                          1,
                          "#f0f921"
                        ]
                      ]
                    },
                    "colorway": [
                      "#636efa",
                      "#EF553B",
                      "#00cc96",
                      "#ab63fa",
                      "#FFA15A",
                      "#19d3f3",
                      "#FF6692",
                      "#B6E880",
                      "#FF97FF",
                      "#FECB52"
                    ],
                    "font": {
                      "color": "#2a3f5f"
                    },
                    "geo": {
                      "bgcolor": "white",
                      "lakecolor": "white",
                      "landcolor": "#E5ECF6",
                      "showlakes": true,
                      "showland": true,
                      "subunitcolor": "white"
                    },
                    "hoverlabel": {
                      "align": "left"
                    },
                    "hovermode": "closest",
                    "mapbox": {
                      "style": "light"
                    },
                    "paper_bgcolor": "white",
                    "plot_bgcolor": "#E5ECF6",
                    "polar": {
                      "angularaxis": {
                        "gridcolor": "white",
                        "linecolor": "white",
                        "ticks": ""
                      },
                      "bgcolor": "#E5ECF6",
                      "radialaxis": {
                        "gridcolor": "white",
                        "linecolor": "white",
                        "ticks": ""
                      }
                    },
                    "scene": {
                      "xaxis": {
                        "backgroundcolor": "#E5ECF6",
                        "gridcolor": "white",
                        "gridwidth": 2,
                        "linecolor": "white",
                        "showbackground": true,
                        "ticks": "",
                        "zerolinecolor": "white"
                      },
                      "yaxis": {
                        "backgroundcolor": "#E5ECF6",
                        "gridcolor": "white",
                        "gridwidth": 2,
                        "linecolor": "white",
                        "showbackground": true,
                        "ticks": "",
                        "zerolinecolor": "white"
                      },
                      "zaxis": {
                        "backgroundcolor": "#E5ECF6",
                        "gridcolor": "white",
                        "gridwidth": 2,
                        "linecolor": "white",
                        "showbackground": true,
                        "ticks": "",
                        "zerolinecolor": "white"
                      }
                    },
                    "shapedefaults": {
                      "line": {
                        "color": "#2a3f5f"
                      }
                    },
                    "ternary": {
                      "aaxis": {
                        "gridcolor": "white",
                        "linecolor": "white",
                        "ticks": ""
                      },
                      "baxis": {
                        "gridcolor": "white",
                        "linecolor": "white",
                        "ticks": ""
                      },
                      "bgcolor": "#E5ECF6",
                      "caxis": {
                        "gridcolor": "white",
                        "linecolor": "white",
                        "ticks": ""
                      }
                    },
                    "title": {
                      "x": 0.05
                    },
                    "xaxis": {
                      "automargin": true,
                      "gridcolor": "white",
                      "linecolor": "white",
                      "ticks": "",
                      "title": {
                        "standoff": 15
                      },
                      "zerolinecolor": "white",
                      "zerolinewidth": 2
                    },
                    "yaxis": {
                      "automargin": true,
                      "gridcolor": "white",
                      "linecolor": "white",
                      "ticks": "",
                      "title": {
                        "standoff": 15
                      },
                      "zerolinecolor": "white",
                      "zerolinewidth": 2
                    }
                  }
                },
                "xaxis": {
                  "anchor": "y",
                  "domain": [
                    0,
                    1
                  ],
                  "title": {
                    "text": "OOP payments, per capita US$PPP"
                  }
                },
                "yaxis": {
                  "anchor": "x",
                  "domain": [
                    0,
                    1
                  ],
                  "title": {
                    "text": "LE Total population at birth"
                  }
                }
              }
            }
          },
          "metadata": {},
          "output_type": "display_data"
        }
      ],
      "source": [
        "px.scatter(merged_df_2020_f2.dropna(), x='OOP payments, per capita US$PPP', \n",
        "            y='LE Total population at birth', size='Alcohol consumption', hover_name='country', color='Alcohol consumption')"
      ]
    },
    {
      "cell_type": "markdown",
      "metadata": {},
      "source": [
        "# Figure 3. Densities of Different Healthcare Resource per 1000 Population by Country"
      ]
    },
    {
      "cell_type": "code",
      "execution_count": 256,
      "metadata": {},
      "outputs": [
        {
          "data": {
            "text/html": [
              "<div>\n",
              "<style scoped>\n",
              "    .dataframe tbody tr th:only-of-type {\n",
              "        vertical-align: middle;\n",
              "    }\n",
              "\n",
              "    .dataframe tbody tr th {\n",
              "        vertical-align: top;\n",
              "    }\n",
              "\n",
              "    .dataframe thead th {\n",
              "        text-align: right;\n",
              "    }\n",
              "</style>\n",
              "<table border=\"1\" class=\"dataframe\">\n",
              "  <thead>\n",
              "    <tr style=\"text-align: right;\">\n",
              "      <th></th>\n",
              "      <th>country</th>\n",
              "      <th>year</th>\n",
              "      <th>variable</th>\n",
              "      <th>value</th>\n",
              "      <th>region</th>\n",
              "      <th>income_group</th>\n",
              "    </tr>\n",
              "  </thead>\n",
              "  <tbody>\n",
              "    <tr>\n",
              "      <th>0</th>\n",
              "      <td>Australia</td>\n",
              "      <td>2018</td>\n",
              "      <td>Current expenditure, % GDP</td>\n",
              "      <td>10.074</td>\n",
              "      <td>Oceania</td>\n",
              "      <td>High income</td>\n",
              "    </tr>\n",
              "    <tr>\n",
              "      <th>1</th>\n",
              "      <td>Austria</td>\n",
              "      <td>2018</td>\n",
              "      <td>Current expenditure, % GDP</td>\n",
              "      <td>10.345</td>\n",
              "      <td>Europe</td>\n",
              "      <td>High income</td>\n",
              "    </tr>\n",
              "    <tr>\n",
              "      <th>2</th>\n",
              "      <td>Belgium</td>\n",
              "      <td>2018</td>\n",
              "      <td>Current expenditure, % GDP</td>\n",
              "      <td>10.788</td>\n",
              "      <td>Europe</td>\n",
              "      <td>High income</td>\n",
              "    </tr>\n",
              "    <tr>\n",
              "      <th>3</th>\n",
              "      <td>Canada</td>\n",
              "      <td>2018</td>\n",
              "      <td>Current expenditure, % GDP</td>\n",
              "      <td>10.846</td>\n",
              "      <td>N. America</td>\n",
              "      <td>High income</td>\n",
              "    </tr>\n",
              "    <tr>\n",
              "      <th>4</th>\n",
              "      <td>Chile</td>\n",
              "      <td>2018</td>\n",
              "      <td>Current expenditure, % GDP</td>\n",
              "      <td>9.159</td>\n",
              "      <td>S. America</td>\n",
              "      <td>High income</td>\n",
              "    </tr>\n",
              "    <tr>\n",
              "      <th>...</th>\n",
              "      <td>...</td>\n",
              "      <td>...</td>\n",
              "      <td>...</td>\n",
              "      <td>...</td>\n",
              "      <td>...</td>\n",
              "      <td>...</td>\n",
              "    </tr>\n",
              "    <tr>\n",
              "      <th>1411</th>\n",
              "      <td>Korea</td>\n",
              "      <td>2018</td>\n",
              "      <td>Obesity, total (M)</td>\n",
              "      <td>5.900</td>\n",
              "      <td>Asia</td>\n",
              "      <td>High income</td>\n",
              "    </tr>\n",
              "    <tr>\n",
              "      <th>1412</th>\n",
              "      <td>Latvia</td>\n",
              "      <td>2018</td>\n",
              "      <td>Obesity, total (M)</td>\n",
              "      <td>24.100</td>\n",
              "      <td>Europe</td>\n",
              "      <td>High income</td>\n",
              "    </tr>\n",
              "    <tr>\n",
              "      <th>1413</th>\n",
              "      <td>Mexico</td>\n",
              "      <td>2018</td>\n",
              "      <td>Obesity, total (M)</td>\n",
              "      <td>36.100</td>\n",
              "      <td>N. America</td>\n",
              "      <td>Upper middle income</td>\n",
              "    </tr>\n",
              "    <tr>\n",
              "      <th>1414</th>\n",
              "      <td>New Zealand</td>\n",
              "      <td>2018</td>\n",
              "      <td>Obesity, total (M)</td>\n",
              "      <td>32.500</td>\n",
              "      <td>Oceania</td>\n",
              "      <td>High income</td>\n",
              "    </tr>\n",
              "    <tr>\n",
              "      <th>1415</th>\n",
              "      <td>United Kingdom</td>\n",
              "      <td>2018</td>\n",
              "      <td>Obesity, total (M)</td>\n",
              "      <td>27.700</td>\n",
              "      <td>Europe</td>\n",
              "      <td>High income</td>\n",
              "    </tr>\n",
              "  </tbody>\n",
              "</table>\n",
              "<p>1416 rows × 6 columns</p>\n",
              "</div>"
            ],
            "text/plain": [
              "             country  year                    variable   value      region  \\\n",
              "0          Australia  2018  Current expenditure, % GDP  10.074     Oceania   \n",
              "1            Austria  2018  Current expenditure, % GDP  10.345      Europe   \n",
              "2            Belgium  2018  Current expenditure, % GDP  10.788      Europe   \n",
              "3             Canada  2018  Current expenditure, % GDP  10.846  N. America   \n",
              "4              Chile  2018  Current expenditure, % GDP   9.159  S. America   \n",
              "...              ...   ...                         ...     ...         ...   \n",
              "1411           Korea  2018          Obesity, total (M)   5.900        Asia   \n",
              "1412          Latvia  2018          Obesity, total (M)  24.100      Europe   \n",
              "1413          Mexico  2018          Obesity, total (M)  36.100  N. America   \n",
              "1414     New Zealand  2018          Obesity, total (M)  32.500     Oceania   \n",
              "1415  United Kingdom  2018          Obesity, total (M)  27.700      Europe   \n",
              "\n",
              "             income_group  \n",
              "0             High income  \n",
              "1             High income  \n",
              "2             High income  \n",
              "3             High income  \n",
              "4             High income  \n",
              "...                   ...  \n",
              "1411          High income  \n",
              "1412          High income  \n",
              "1413  Upper middle income  \n",
              "1414          High income  \n",
              "1415          High income  \n",
              "\n",
              "[1416 rows x 6 columns]"
            ]
          },
          "execution_count": 256,
          "metadata": {},
          "output_type": "execute_result"
        }
      ],
      "source": [
        "data_long_f2_2018 = data_long_f2[data_long_f2['year']==2018]\n",
        "data_long_f2_2020 = data_long_f2[data_long_f2['year']==2020]\n",
        "data_long_f2_2018= pd.merge(data_long_f2_2018,country_income_groups,on='country',how='left')\n",
        "data_long_f2_2020= pd.merge(data_long_f2_2020,country_income_groups,on='country',how='left')\n",
        "\n",
        "data_long_f2_2018"
      ]
    },
    {
      "cell_type": "code",
      "execution_count": null,
      "metadata": {},
      "outputs": [],
      "source": [
        "# Pick Mexico and Canada as samples\n",
        "column_picked = [\"Hospital beds\",\"CT scanners \",\"MRI\",\"Nurses\",\"Physicians\"]\n",
        "# density_2018 = data_long_country_income_groups_2018.loc[data_long_country_income_groups_2018.country.isin(['Mexico','Canada'])]\n",
        "# density_2018 = density_2018.loc[density_2018.variable.isin(column_picked)]\n",
        "# density_2020 = data_long_country_income_groups_2020.loc[data_long_country_income_groups_2020.country.isin(['Mexico','Canada'])]\n",
        "# density_2020 = density_2020.loc[density_2020.variable.isin(column_picked)]\n",
        "# density_2018\n"
      ]
    },
    {
      "cell_type": "code",
      "execution_count": 259,
      "metadata": {},
      "outputs": [
        {
          "data": {
            "text/html": [
              "<div>\n",
              "<style scoped>\n",
              "    .dataframe tbody tr th:only-of-type {\n",
              "        vertical-align: middle;\n",
              "    }\n",
              "\n",
              "    .dataframe tbody tr th {\n",
              "        vertical-align: top;\n",
              "    }\n",
              "\n",
              "    .dataframe thead th {\n",
              "        text-align: right;\n",
              "    }\n",
              "</style>\n",
              "<table border=\"1\" class=\"dataframe\">\n",
              "  <thead>\n",
              "    <tr style=\"text-align: right;\">\n",
              "      <th></th>\n",
              "      <th>country</th>\n",
              "      <th>year</th>\n",
              "      <th>variable</th>\n",
              "      <th>value</th>\n",
              "      <th>region</th>\n",
              "    </tr>\n",
              "  </thead>\n",
              "  <tbody>\n",
              "    <tr>\n",
              "      <th>0</th>\n",
              "      <td>Austria</td>\n",
              "      <td>1970</td>\n",
              "      <td>Current expenditure, % GDP</td>\n",
              "      <td>4.838</td>\n",
              "      <td>Europe</td>\n",
              "    </tr>\n",
              "    <tr>\n",
              "      <th>1</th>\n",
              "      <td>Belgium</td>\n",
              "      <td>1970</td>\n",
              "      <td>Current expenditure, % GDP</td>\n",
              "      <td>3.856</td>\n",
              "      <td>Europe</td>\n",
              "    </tr>\n",
              "    <tr>\n",
              "      <th>2</th>\n",
              "      <td>Canada</td>\n",
              "      <td>1970</td>\n",
              "      <td>Current expenditure, % GDP</td>\n",
              "      <td>6.353</td>\n",
              "      <td>N. America</td>\n",
              "    </tr>\n",
              "    <tr>\n",
              "      <th>3</th>\n",
              "      <td>Finland</td>\n",
              "      <td>1970</td>\n",
              "      <td>Current expenditure, % GDP</td>\n",
              "      <td>4.989</td>\n",
              "      <td>Europe</td>\n",
              "    </tr>\n",
              "    <tr>\n",
              "      <th>4</th>\n",
              "      <td>France</td>\n",
              "      <td>1970</td>\n",
              "      <td>Current expenditure, % GDP</td>\n",
              "      <td>5.201</td>\n",
              "      <td>Europe</td>\n",
              "    </tr>\n",
              "    <tr>\n",
              "      <th>...</th>\n",
              "      <td>...</td>\n",
              "      <td>...</td>\n",
              "      <td>...</td>\n",
              "      <td>...</td>\n",
              "      <td>...</td>\n",
              "    </tr>\n",
              "    <tr>\n",
              "      <th>52539</th>\n",
              "      <td>Korea</td>\n",
              "      <td>2020</td>\n",
              "      <td>Obesity, total (M)</td>\n",
              "      <td>7.400</td>\n",
              "      <td>Asia</td>\n",
              "    </tr>\n",
              "    <tr>\n",
              "      <th>52540</th>\n",
              "      <td>Latvia</td>\n",
              "      <td>2020</td>\n",
              "      <td>Obesity, total (M)</td>\n",
              "      <td>23.900</td>\n",
              "      <td>Europe</td>\n",
              "    </tr>\n",
              "    <tr>\n",
              "      <th>52541</th>\n",
              "      <td>Mexico</td>\n",
              "      <td>2020</td>\n",
              "      <td>Obesity, total (M)</td>\n",
              "      <td>36.000</td>\n",
              "      <td>N. America</td>\n",
              "    </tr>\n",
              "    <tr>\n",
              "      <th>52542</th>\n",
              "      <td>New Zealand</td>\n",
              "      <td>2020</td>\n",
              "      <td>Obesity, total (M)</td>\n",
              "      <td>31.200</td>\n",
              "      <td>Oceania</td>\n",
              "    </tr>\n",
              "    <tr>\n",
              "      <th>52543</th>\n",
              "      <td>New Zealand</td>\n",
              "      <td>2021</td>\n",
              "      <td>Obesity, total (M)</td>\n",
              "      <td>34.300</td>\n",
              "      <td>Oceania</td>\n",
              "    </tr>\n",
              "  </tbody>\n",
              "</table>\n",
              "<p>52544 rows × 5 columns</p>\n",
              "</div>"
            ],
            "text/plain": [
              "           country  year                    variable   value      region\n",
              "0          Austria  1970  Current expenditure, % GDP   4.838      Europe\n",
              "1          Belgium  1970  Current expenditure, % GDP   3.856      Europe\n",
              "2           Canada  1970  Current expenditure, % GDP   6.353  N. America\n",
              "3          Finland  1970  Current expenditure, % GDP   4.989      Europe\n",
              "4           France  1970  Current expenditure, % GDP   5.201      Europe\n",
              "...            ...   ...                         ...     ...         ...\n",
              "52539        Korea  2020          Obesity, total (M)   7.400        Asia\n",
              "52540       Latvia  2020          Obesity, total (M)  23.900      Europe\n",
              "52541       Mexico  2020          Obesity, total (M)  36.000  N. America\n",
              "52542  New Zealand  2020          Obesity, total (M)  31.200     Oceania\n",
              "52543  New Zealand  2021          Obesity, total (M)  34.300     Oceania\n",
              "\n",
              "[52544 rows x 5 columns]"
            ]
          },
          "execution_count": 259,
          "metadata": {},
          "output_type": "execute_result"
        }
      ],
      "source": [
        "data_long_f2"
      ]
    },
    {
      "cell_type": "code",
      "execution_count": 258,
      "metadata": {},
      "outputs": [
        {
          "data": {
            "text/html": [
              "<div>\n",
              "<style scoped>\n",
              "    .dataframe tbody tr th:only-of-type {\n",
              "        vertical-align: middle;\n",
              "    }\n",
              "\n",
              "    .dataframe tbody tr th {\n",
              "        vertical-align: top;\n",
              "    }\n",
              "\n",
              "    .dataframe thead th {\n",
              "        text-align: right;\n",
              "    }\n",
              "</style>\n",
              "<table border=\"1\" class=\"dataframe\">\n",
              "  <thead>\n",
              "    <tr style=\"text-align: right;\">\n",
              "      <th></th>\n",
              "      <th>country</th>\n",
              "      <th>year</th>\n",
              "      <th>variable</th>\n",
              "      <th>value</th>\n",
              "      <th>region</th>\n",
              "      <th>income_group</th>\n",
              "    </tr>\n",
              "  </thead>\n",
              "  <tbody>\n",
              "    <tr>\n",
              "      <th>0</th>\n",
              "      <td>Australia</td>\n",
              "      <td>2018</td>\n",
              "      <td>Current expenditure, % GDP</td>\n",
              "      <td>10.074</td>\n",
              "      <td>Oceania</td>\n",
              "      <td>High income</td>\n",
              "    </tr>\n",
              "    <tr>\n",
              "      <th>1</th>\n",
              "      <td>Austria</td>\n",
              "      <td>2018</td>\n",
              "      <td>Current expenditure, % GDP</td>\n",
              "      <td>10.345</td>\n",
              "      <td>Europe</td>\n",
              "      <td>High income</td>\n",
              "    </tr>\n",
              "    <tr>\n",
              "      <th>2</th>\n",
              "      <td>Belgium</td>\n",
              "      <td>2018</td>\n",
              "      <td>Current expenditure, % GDP</td>\n",
              "      <td>10.788</td>\n",
              "      <td>Europe</td>\n",
              "      <td>High income</td>\n",
              "    </tr>\n",
              "    <tr>\n",
              "      <th>3</th>\n",
              "      <td>Canada</td>\n",
              "      <td>2018</td>\n",
              "      <td>Current expenditure, % GDP</td>\n",
              "      <td>10.846</td>\n",
              "      <td>N. America</td>\n",
              "      <td>High income</td>\n",
              "    </tr>\n",
              "    <tr>\n",
              "      <th>4</th>\n",
              "      <td>Chile</td>\n",
              "      <td>2018</td>\n",
              "      <td>Current expenditure, % GDP</td>\n",
              "      <td>9.159</td>\n",
              "      <td>S. America</td>\n",
              "      <td>High income</td>\n",
              "    </tr>\n",
              "    <tr>\n",
              "      <th>...</th>\n",
              "      <td>...</td>\n",
              "      <td>...</td>\n",
              "      <td>...</td>\n",
              "      <td>...</td>\n",
              "      <td>...</td>\n",
              "      <td>...</td>\n",
              "    </tr>\n",
              "    <tr>\n",
              "      <th>1411</th>\n",
              "      <td>Korea</td>\n",
              "      <td>2018</td>\n",
              "      <td>Obesity, total (M)</td>\n",
              "      <td>5.900</td>\n",
              "      <td>Asia</td>\n",
              "      <td>High income</td>\n",
              "    </tr>\n",
              "    <tr>\n",
              "      <th>1412</th>\n",
              "      <td>Latvia</td>\n",
              "      <td>2018</td>\n",
              "      <td>Obesity, total (M)</td>\n",
              "      <td>24.100</td>\n",
              "      <td>Europe</td>\n",
              "      <td>High income</td>\n",
              "    </tr>\n",
              "    <tr>\n",
              "      <th>1413</th>\n",
              "      <td>Mexico</td>\n",
              "      <td>2018</td>\n",
              "      <td>Obesity, total (M)</td>\n",
              "      <td>36.100</td>\n",
              "      <td>N. America</td>\n",
              "      <td>Upper middle income</td>\n",
              "    </tr>\n",
              "    <tr>\n",
              "      <th>1414</th>\n",
              "      <td>New Zealand</td>\n",
              "      <td>2018</td>\n",
              "      <td>Obesity, total (M)</td>\n",
              "      <td>32.500</td>\n",
              "      <td>Oceania</td>\n",
              "      <td>High income</td>\n",
              "    </tr>\n",
              "    <tr>\n",
              "      <th>1415</th>\n",
              "      <td>United Kingdom</td>\n",
              "      <td>2018</td>\n",
              "      <td>Obesity, total (M)</td>\n",
              "      <td>27.700</td>\n",
              "      <td>Europe</td>\n",
              "      <td>High income</td>\n",
              "    </tr>\n",
              "  </tbody>\n",
              "</table>\n",
              "<p>1416 rows × 6 columns</p>\n",
              "</div>"
            ],
            "text/plain": [
              "             country  year                    variable   value      region  \\\n",
              "0          Australia  2018  Current expenditure, % GDP  10.074     Oceania   \n",
              "1            Austria  2018  Current expenditure, % GDP  10.345      Europe   \n",
              "2            Belgium  2018  Current expenditure, % GDP  10.788      Europe   \n",
              "3             Canada  2018  Current expenditure, % GDP  10.846  N. America   \n",
              "4              Chile  2018  Current expenditure, % GDP   9.159  S. America   \n",
              "...              ...   ...                         ...     ...         ...   \n",
              "1411           Korea  2018          Obesity, total (M)   5.900        Asia   \n",
              "1412          Latvia  2018          Obesity, total (M)  24.100      Europe   \n",
              "1413          Mexico  2018          Obesity, total (M)  36.100  N. America   \n",
              "1414     New Zealand  2018          Obesity, total (M)  32.500     Oceania   \n",
              "1415  United Kingdom  2018          Obesity, total (M)  27.700      Europe   \n",
              "\n",
              "             income_group  \n",
              "0             High income  \n",
              "1             High income  \n",
              "2             High income  \n",
              "3             High income  \n",
              "4             High income  \n",
              "...                   ...  \n",
              "1411          High income  \n",
              "1412          High income  \n",
              "1413  Upper middle income  \n",
              "1414          High income  \n",
              "1415          High income  \n",
              "\n",
              "[1416 rows x 6 columns]"
            ]
          },
          "execution_count": 258,
          "metadata": {},
          "output_type": "execute_result"
        }
      ],
      "source": [
        "data_long_f2_2018"
      ]
    },
    {
      "cell_type": "code",
      "execution_count": 264,
      "metadata": {},
      "outputs": [
        {
          "data": {
            "text/html": [
              "<div>\n",
              "<style scoped>\n",
              "    .dataframe tbody tr th:only-of-type {\n",
              "        vertical-align: middle;\n",
              "    }\n",
              "\n",
              "    .dataframe tbody tr th {\n",
              "        vertical-align: top;\n",
              "    }\n",
              "\n",
              "    .dataframe thead th {\n",
              "        text-align: right;\n",
              "    }\n",
              "</style>\n",
              "<table border=\"1\" class=\"dataframe\">\n",
              "  <thead>\n",
              "    <tr style=\"text-align: right;\">\n",
              "      <th></th>\n",
              "      <th>country</th>\n",
              "      <th>year</th>\n",
              "      <th>CT scanners</th>\n",
              "      <th>Hospital beds</th>\n",
              "      <th>MRI</th>\n",
              "      <th>Nurses</th>\n",
              "      <th>Physicians</th>\n",
              "      <th>income_group</th>\n",
              "      <th>region</th>\n",
              "    </tr>\n",
              "  </thead>\n",
              "  <tbody>\n",
              "    <tr>\n",
              "      <th>0</th>\n",
              "      <td>Australia</td>\n",
              "      <td>2020</td>\n",
              "      <td>67.68</td>\n",
              "      <td>NaN</td>\n",
              "      <td>14.79</td>\n",
              "      <td>12.26</td>\n",
              "      <td>3.90</td>\n",
              "      <td>High income</td>\n",
              "      <td>Oceania</td>\n",
              "    </tr>\n",
              "    <tr>\n",
              "      <th>1</th>\n",
              "      <td>Austria</td>\n",
              "      <td>2020</td>\n",
              "      <td>28.49</td>\n",
              "      <td>7.05</td>\n",
              "      <td>25.35</td>\n",
              "      <td>10.48</td>\n",
              "      <td>5.35</td>\n",
              "      <td>High income</td>\n",
              "      <td>Europe</td>\n",
              "    </tr>\n",
              "    <tr>\n",
              "      <th>2</th>\n",
              "      <td>Belgium</td>\n",
              "      <td>2020</td>\n",
              "      <td>24.01</td>\n",
              "      <td>5.53</td>\n",
              "      <td>11.44</td>\n",
              "      <td>NaN</td>\n",
              "      <td>3.21</td>\n",
              "      <td>High income</td>\n",
              "      <td>Europe</td>\n",
              "    </tr>\n",
              "    <tr>\n",
              "      <th>3</th>\n",
              "      <td>Canada</td>\n",
              "      <td>2020</td>\n",
              "      <td>NaN</td>\n",
              "      <td>2.55</td>\n",
              "      <td>NaN</td>\n",
              "      <td>10.06</td>\n",
              "      <td>2.73</td>\n",
              "      <td>High income</td>\n",
              "      <td>N. America</td>\n",
              "    </tr>\n",
              "    <tr>\n",
              "      <th>4</th>\n",
              "      <td>Chile</td>\n",
              "      <td>2020</td>\n",
              "      <td>NaN</td>\n",
              "      <td>2.01</td>\n",
              "      <td>NaN</td>\n",
              "      <td>3.47</td>\n",
              "      <td>2.79</td>\n",
              "      <td>High income</td>\n",
              "      <td>S. America</td>\n",
              "    </tr>\n",
              "    <tr>\n",
              "      <th>5</th>\n",
              "      <td>Colombia</td>\n",
              "      <td>2020</td>\n",
              "      <td>5.93</td>\n",
              "      <td>1.69</td>\n",
              "      <td>NaN</td>\n",
              "      <td>1.53</td>\n",
              "      <td>2.38</td>\n",
              "      <td>Upper middle income</td>\n",
              "      <td>S. America</td>\n",
              "    </tr>\n",
              "    <tr>\n",
              "      <th>6</th>\n",
              "      <td>Costa Rica</td>\n",
              "      <td>2020</td>\n",
              "      <td>2.93</td>\n",
              "      <td>1.15</td>\n",
              "      <td>0.39</td>\n",
              "      <td>NaN</td>\n",
              "      <td>NaN</td>\n",
              "      <td>Upper middle income</td>\n",
              "      <td>N. America</td>\n",
              "    </tr>\n",
              "    <tr>\n",
              "      <th>7</th>\n",
              "      <td>Czech Republic</td>\n",
              "      <td>2020</td>\n",
              "      <td>16.26</td>\n",
              "      <td>6.50</td>\n",
              "      <td>11.03</td>\n",
              "      <td>8.66</td>\n",
              "      <td>4.10</td>\n",
              "      <td>High income</td>\n",
              "      <td>Europe</td>\n",
              "    </tr>\n",
              "    <tr>\n",
              "      <th>8</th>\n",
              "      <td>Denmark</td>\n",
              "      <td>2020</td>\n",
              "      <td>40.64</td>\n",
              "      <td>2.59</td>\n",
              "      <td>NaN</td>\n",
              "      <td>NaN</td>\n",
              "      <td>NaN</td>\n",
              "      <td>High income</td>\n",
              "      <td>Europe</td>\n",
              "    </tr>\n",
              "    <tr>\n",
              "      <th>9</th>\n",
              "      <td>Estonia</td>\n",
              "      <td>2020</td>\n",
              "      <td>20.31</td>\n",
              "      <td>4.46</td>\n",
              "      <td>15.04</td>\n",
              "      <td>6.38</td>\n",
              "      <td>3.48</td>\n",
              "      <td>High income</td>\n",
              "      <td>Europe</td>\n",
              "    </tr>\n",
              "    <tr>\n",
              "      <th>10</th>\n",
              "      <td>Finland</td>\n",
              "      <td>2020</td>\n",
              "      <td>17.00</td>\n",
              "      <td>2.83</td>\n",
              "      <td>30.56</td>\n",
              "      <td>NaN</td>\n",
              "      <td>NaN</td>\n",
              "      <td>High income</td>\n",
              "      <td>Europe</td>\n",
              "    </tr>\n",
              "    <tr>\n",
              "      <th>11</th>\n",
              "      <td>France</td>\n",
              "      <td>2020</td>\n",
              "      <td>18.93</td>\n",
              "      <td>5.73</td>\n",
              "      <td>16.26</td>\n",
              "      <td>11.31</td>\n",
              "      <td>3.17</td>\n",
              "      <td>High income</td>\n",
              "      <td>Europe</td>\n",
              "    </tr>\n",
              "    <tr>\n",
              "      <th>12</th>\n",
              "      <td>Germany</td>\n",
              "      <td>2020</td>\n",
              "      <td>NaN</td>\n",
              "      <td>7.82</td>\n",
              "      <td>NaN</td>\n",
              "      <td>12.06</td>\n",
              "      <td>4.47</td>\n",
              "      <td>High income</td>\n",
              "      <td>Europe</td>\n",
              "    </tr>\n",
              "    <tr>\n",
              "      <th>13</th>\n",
              "      <td>Greece</td>\n",
              "      <td>2020</td>\n",
              "      <td>43.74</td>\n",
              "      <td>NaN</td>\n",
              "      <td>33.56</td>\n",
              "      <td>NaN</td>\n",
              "      <td>6.20</td>\n",
              "      <td>High income</td>\n",
              "      <td>Europe</td>\n",
              "    </tr>\n",
              "    <tr>\n",
              "      <th>14</th>\n",
              "      <td>Hungary</td>\n",
              "      <td>2020</td>\n",
              "      <td>9.64</td>\n",
              "      <td>6.76</td>\n",
              "      <td>4.92</td>\n",
              "      <td>6.58</td>\n",
              "      <td>3.14</td>\n",
              "      <td>High income</td>\n",
              "      <td>Europe</td>\n",
              "    </tr>\n",
              "    <tr>\n",
              "      <th>15</th>\n",
              "      <td>Iceland</td>\n",
              "      <td>2020</td>\n",
              "      <td>46.39</td>\n",
              "      <td>2.84</td>\n",
              "      <td>19.10</td>\n",
              "      <td>15.63</td>\n",
              "      <td>4.32</td>\n",
              "      <td>High income</td>\n",
              "      <td>Europe</td>\n",
              "    </tr>\n",
              "    <tr>\n",
              "      <th>16</th>\n",
              "      <td>Ireland</td>\n",
              "      <td>2020</td>\n",
              "      <td>20.26</td>\n",
              "      <td>2.89</td>\n",
              "      <td>NaN</td>\n",
              "      <td>NaN</td>\n",
              "      <td>3.46</td>\n",
              "      <td>High income</td>\n",
              "      <td>Europe</td>\n",
              "    </tr>\n",
              "    <tr>\n",
              "      <th>17</th>\n",
              "      <td>Israel</td>\n",
              "      <td>2020</td>\n",
              "      <td>9.88</td>\n",
              "      <td>2.92</td>\n",
              "      <td>5.53</td>\n",
              "      <td>5.14</td>\n",
              "      <td>3.31</td>\n",
              "      <td>High income</td>\n",
              "      <td>Asia</td>\n",
              "    </tr>\n",
              "    <tr>\n",
              "      <th>18</th>\n",
              "      <td>Italy</td>\n",
              "      <td>2020</td>\n",
              "      <td>37.50</td>\n",
              "      <td>3.19</td>\n",
              "      <td>31.24</td>\n",
              "      <td>6.28</td>\n",
              "      <td>4.00</td>\n",
              "      <td>High income</td>\n",
              "      <td>Europe</td>\n",
              "    </tr>\n",
              "    <tr>\n",
              "      <th>19</th>\n",
              "      <td>Japan</td>\n",
              "      <td>2020</td>\n",
              "      <td>115.70</td>\n",
              "      <td>12.63</td>\n",
              "      <td>57.39</td>\n",
              "      <td>12.10</td>\n",
              "      <td>2.60</td>\n",
              "      <td>High income</td>\n",
              "      <td>Asia</td>\n",
              "    </tr>\n",
              "    <tr>\n",
              "      <th>20</th>\n",
              "      <td>Korea</td>\n",
              "      <td>2020</td>\n",
              "      <td>40.59</td>\n",
              "      <td>12.65</td>\n",
              "      <td>34.24</td>\n",
              "      <td>8.37</td>\n",
              "      <td>2.51</td>\n",
              "      <td>High income</td>\n",
              "      <td>Asia</td>\n",
              "    </tr>\n",
              "    <tr>\n",
              "      <th>21</th>\n",
              "      <td>Latvia</td>\n",
              "      <td>2020</td>\n",
              "      <td>37.36</td>\n",
              "      <td>5.29</td>\n",
              "      <td>15.79</td>\n",
              "      <td>4.18</td>\n",
              "      <td>3.34</td>\n",
              "      <td>High income</td>\n",
              "      <td>Europe</td>\n",
              "    </tr>\n",
              "    <tr>\n",
              "      <th>22</th>\n",
              "      <td>Lithuania</td>\n",
              "      <td>2020</td>\n",
              "      <td>31.13</td>\n",
              "      <td>6.01</td>\n",
              "      <td>14.31</td>\n",
              "      <td>7.81</td>\n",
              "      <td>4.48</td>\n",
              "      <td>High income</td>\n",
              "      <td>Europe</td>\n",
              "    </tr>\n",
              "    <tr>\n",
              "      <th>23</th>\n",
              "      <td>Luxembourg</td>\n",
              "      <td>2020</td>\n",
              "      <td>22.21</td>\n",
              "      <td>4.19</td>\n",
              "      <td>17.45</td>\n",
              "      <td>NaN</td>\n",
              "      <td>NaN</td>\n",
              "      <td>High income</td>\n",
              "      <td>Europe</td>\n",
              "    </tr>\n",
              "    <tr>\n",
              "      <th>24</th>\n",
              "      <td>Mexico</td>\n",
              "      <td>2020</td>\n",
              "      <td>6.69</td>\n",
              "      <td>0.99</td>\n",
              "      <td>2.64</td>\n",
              "      <td>2.91</td>\n",
              "      <td>2.41</td>\n",
              "      <td>Upper middle income</td>\n",
              "      <td>N. America</td>\n",
              "    </tr>\n",
              "    <tr>\n",
              "      <th>25</th>\n",
              "      <td>Netherlands</td>\n",
              "      <td>2020</td>\n",
              "      <td>14.68</td>\n",
              "      <td>2.91</td>\n",
              "      <td>13.36</td>\n",
              "      <td>11.08</td>\n",
              "      <td>3.83</td>\n",
              "      <td>High income</td>\n",
              "      <td>Europe</td>\n",
              "    </tr>\n",
              "    <tr>\n",
              "      <th>26</th>\n",
              "      <td>New Zealand</td>\n",
              "      <td>2020</td>\n",
              "      <td>28.88</td>\n",
              "      <td>2.49</td>\n",
              "      <td>15.32</td>\n",
              "      <td>10.60</td>\n",
              "      <td>3.43</td>\n",
              "      <td>High income</td>\n",
              "      <td>Oceania</td>\n",
              "    </tr>\n",
              "    <tr>\n",
              "      <th>27</th>\n",
              "      <td>Norway</td>\n",
              "      <td>2020</td>\n",
              "      <td>31.04</td>\n",
              "      <td>3.40</td>\n",
              "      <td>18.96</td>\n",
              "      <td>18.01</td>\n",
              "      <td>5.09</td>\n",
              "      <td>High income</td>\n",
              "      <td>Europe</td>\n",
              "    </tr>\n",
              "    <tr>\n",
              "      <th>28</th>\n",
              "      <td>Poland</td>\n",
              "      <td>2020</td>\n",
              "      <td>20.08</td>\n",
              "      <td>6.19</td>\n",
              "      <td>10.48</td>\n",
              "      <td>NaN</td>\n",
              "      <td>NaN</td>\n",
              "      <td>High income</td>\n",
              "      <td>Europe</td>\n",
              "    </tr>\n",
              "    <tr>\n",
              "      <th>29</th>\n",
              "      <td>Portugal</td>\n",
              "      <td>2020</td>\n",
              "      <td>18.35</td>\n",
              "      <td>3.53</td>\n",
              "      <td>10.39</td>\n",
              "      <td>7.28</td>\n",
              "      <td>5.49</td>\n",
              "      <td>High income</td>\n",
              "      <td>Europe</td>\n",
              "    </tr>\n",
              "    <tr>\n",
              "      <th>30</th>\n",
              "      <td>Slovak Republic</td>\n",
              "      <td>2020</td>\n",
              "      <td>19.05</td>\n",
              "      <td>5.68</td>\n",
              "      <td>9.89</td>\n",
              "      <td>5.79</td>\n",
              "      <td>3.67</td>\n",
              "      <td>High income</td>\n",
              "      <td>Europe</td>\n",
              "    </tr>\n",
              "    <tr>\n",
              "      <th>31</th>\n",
              "      <td>Slovenia</td>\n",
              "      <td>2020</td>\n",
              "      <td>19.03</td>\n",
              "      <td>4.28</td>\n",
              "      <td>13.32</td>\n",
              "      <td>10.47</td>\n",
              "      <td>3.30</td>\n",
              "      <td>High income</td>\n",
              "      <td>Europe</td>\n",
              "    </tr>\n",
              "    <tr>\n",
              "      <th>32</th>\n",
              "      <td>Spain</td>\n",
              "      <td>2020</td>\n",
              "      <td>20.04</td>\n",
              "      <td>2.95</td>\n",
              "      <td>18.22</td>\n",
              "      <td>6.10</td>\n",
              "      <td>4.58</td>\n",
              "      <td>High income</td>\n",
              "      <td>Europe</td>\n",
              "    </tr>\n",
              "    <tr>\n",
              "      <th>33</th>\n",
              "      <td>Sweden</td>\n",
              "      <td>2020</td>\n",
              "      <td>28.30</td>\n",
              "      <td>2.05</td>\n",
              "      <td>18.45</td>\n",
              "      <td>NaN</td>\n",
              "      <td>NaN</td>\n",
              "      <td>High income</td>\n",
              "      <td>Europe</td>\n",
              "    </tr>\n",
              "    <tr>\n",
              "      <th>34</th>\n",
              "      <td>Switzerland</td>\n",
              "      <td>2020</td>\n",
              "      <td>39.59</td>\n",
              "      <td>4.48</td>\n",
              "      <td>25.58</td>\n",
              "      <td>18.37</td>\n",
              "      <td>4.39</td>\n",
              "      <td>High income</td>\n",
              "      <td>Europe</td>\n",
              "    </tr>\n",
              "    <tr>\n",
              "      <th>35</th>\n",
              "      <td>Türkiye</td>\n",
              "      <td>2020</td>\n",
              "      <td>14.97</td>\n",
              "      <td>3.01</td>\n",
              "      <td>11.26</td>\n",
              "      <td>2.73</td>\n",
              "      <td>2.05</td>\n",
              "      <td>Upper middle income</td>\n",
              "      <td>Asia</td>\n",
              "    </tr>\n",
              "    <tr>\n",
              "      <th>36</th>\n",
              "      <td>United Kingdom</td>\n",
              "      <td>2020</td>\n",
              "      <td>8.97</td>\n",
              "      <td>2.43</td>\n",
              "      <td>7.78</td>\n",
              "      <td>8.46</td>\n",
              "      <td>3.03</td>\n",
              "      <td>High income</td>\n",
              "      <td>Europe</td>\n",
              "    </tr>\n",
              "    <tr>\n",
              "      <th>37</th>\n",
              "      <td>United States</td>\n",
              "      <td>2020</td>\n",
              "      <td>42.58</td>\n",
              "      <td>NaN</td>\n",
              "      <td>34.66</td>\n",
              "      <td>11.83</td>\n",
              "      <td>NaN</td>\n",
              "      <td>High income</td>\n",
              "      <td>N. America</td>\n",
              "    </tr>\n",
              "  </tbody>\n",
              "</table>\n",
              "</div>"
            ],
            "text/plain": [
              "            country  year  CT scanners   Hospital beds    MRI  Nurses  \\\n",
              "0         Australia  2020         67.68            NaN  14.79   12.26   \n",
              "1           Austria  2020         28.49           7.05  25.35   10.48   \n",
              "2           Belgium  2020         24.01           5.53  11.44     NaN   \n",
              "3            Canada  2020           NaN           2.55    NaN   10.06   \n",
              "4             Chile  2020           NaN           2.01    NaN    3.47   \n",
              "5          Colombia  2020          5.93           1.69    NaN    1.53   \n",
              "6        Costa Rica  2020          2.93           1.15   0.39     NaN   \n",
              "7    Czech Republic  2020         16.26           6.50  11.03    8.66   \n",
              "8           Denmark  2020         40.64           2.59    NaN     NaN   \n",
              "9           Estonia  2020         20.31           4.46  15.04    6.38   \n",
              "10          Finland  2020         17.00           2.83  30.56     NaN   \n",
              "11           France  2020         18.93           5.73  16.26   11.31   \n",
              "12          Germany  2020           NaN           7.82    NaN   12.06   \n",
              "13           Greece  2020         43.74            NaN  33.56     NaN   \n",
              "14          Hungary  2020          9.64           6.76   4.92    6.58   \n",
              "15          Iceland  2020         46.39           2.84  19.10   15.63   \n",
              "16          Ireland  2020         20.26           2.89    NaN     NaN   \n",
              "17           Israel  2020          9.88           2.92   5.53    5.14   \n",
              "18            Italy  2020         37.50           3.19  31.24    6.28   \n",
              "19            Japan  2020        115.70          12.63  57.39   12.10   \n",
              "20            Korea  2020         40.59          12.65  34.24    8.37   \n",
              "21           Latvia  2020         37.36           5.29  15.79    4.18   \n",
              "22        Lithuania  2020         31.13           6.01  14.31    7.81   \n",
              "23       Luxembourg  2020         22.21           4.19  17.45     NaN   \n",
              "24           Mexico  2020          6.69           0.99   2.64    2.91   \n",
              "25      Netherlands  2020         14.68           2.91  13.36   11.08   \n",
              "26      New Zealand  2020         28.88           2.49  15.32   10.60   \n",
              "27           Norway  2020         31.04           3.40  18.96   18.01   \n",
              "28           Poland  2020         20.08           6.19  10.48     NaN   \n",
              "29         Portugal  2020         18.35           3.53  10.39    7.28   \n",
              "30  Slovak Republic  2020         19.05           5.68   9.89    5.79   \n",
              "31         Slovenia  2020         19.03           4.28  13.32   10.47   \n",
              "32            Spain  2020         20.04           2.95  18.22    6.10   \n",
              "33           Sweden  2020         28.30           2.05  18.45     NaN   \n",
              "34      Switzerland  2020         39.59           4.48  25.58   18.37   \n",
              "35          Türkiye  2020         14.97           3.01  11.26    2.73   \n",
              "36   United Kingdom  2020          8.97           2.43   7.78    8.46   \n",
              "37    United States  2020         42.58            NaN  34.66   11.83   \n",
              "\n",
              "    Physicians         income_group      region  \n",
              "0         3.90          High income     Oceania  \n",
              "1         5.35          High income      Europe  \n",
              "2         3.21          High income      Europe  \n",
              "3         2.73          High income  N. America  \n",
              "4         2.79          High income  S. America  \n",
              "5         2.38  Upper middle income  S. America  \n",
              "6          NaN  Upper middle income  N. America  \n",
              "7         4.10          High income      Europe  \n",
              "8          NaN          High income      Europe  \n",
              "9         3.48          High income      Europe  \n",
              "10         NaN          High income      Europe  \n",
              "11        3.17          High income      Europe  \n",
              "12        4.47          High income      Europe  \n",
              "13        6.20          High income      Europe  \n",
              "14        3.14          High income      Europe  \n",
              "15        4.32          High income      Europe  \n",
              "16        3.46          High income      Europe  \n",
              "17        3.31          High income        Asia  \n",
              "18        4.00          High income      Europe  \n",
              "19        2.60          High income        Asia  \n",
              "20        2.51          High income        Asia  \n",
              "21        3.34          High income      Europe  \n",
              "22        4.48          High income      Europe  \n",
              "23         NaN          High income      Europe  \n",
              "24        2.41  Upper middle income  N. America  \n",
              "25        3.83          High income      Europe  \n",
              "26        3.43          High income     Oceania  \n",
              "27        5.09          High income      Europe  \n",
              "28         NaN          High income      Europe  \n",
              "29        5.49          High income      Europe  \n",
              "30        3.67          High income      Europe  \n",
              "31        3.30          High income      Europe  \n",
              "32        4.58          High income      Europe  \n",
              "33         NaN          High income      Europe  \n",
              "34        4.39          High income      Europe  \n",
              "35        2.05  Upper middle income        Asia  \n",
              "36        3.03          High income      Europe  \n",
              "37         NaN          High income  N. America  "
            ]
          },
          "execution_count": 264,
          "metadata": {},
          "output_type": "execute_result"
        }
      ],
      "source": [
        "f3_2018=prepare_2d_data(data_long, [2018], column_picked)\n",
        "f3_2018 = f3_2018.merge(data_long_f2_2018[['country','income_group','region']], on='country').drop_duplicates().reset_index(drop=True)\n",
        "\n",
        "f3_2020=prepare_2d_data(data_long, [2020], column_picked)\n",
        "f3_2020 = f3_2020.merge(data_long_f2_2020[['country','income_group','region']], on='country').drop_duplicates().reset_index(drop=True)\n",
        "f3_2020\n"
      ]
    },
    {
      "cell_type": "code",
      "execution_count": 275,
      "metadata": {},
      "outputs": [
        {
          "data": {
            "text/html": [
              "<div>\n",
              "<style scoped>\n",
              "    .dataframe tbody tr th:only-of-type {\n",
              "        vertical-align: middle;\n",
              "    }\n",
              "\n",
              "    .dataframe tbody tr th {\n",
              "        vertical-align: top;\n",
              "    }\n",
              "\n",
              "    .dataframe thead th {\n",
              "        text-align: right;\n",
              "    }\n",
              "</style>\n",
              "<table border=\"1\" class=\"dataframe\">\n",
              "  <thead>\n",
              "    <tr style=\"text-align: right;\">\n",
              "      <th></th>\n",
              "      <th>country</th>\n",
              "      <th>year</th>\n",
              "      <th>CT scanners</th>\n",
              "      <th>Hospital beds</th>\n",
              "      <th>MRI</th>\n",
              "      <th>Nurses</th>\n",
              "      <th>Physicians</th>\n",
              "      <th>income_group</th>\n",
              "      <th>region</th>\n",
              "    </tr>\n",
              "  </thead>\n",
              "  <tbody>\n",
              "    <tr>\n",
              "      <th>1</th>\n",
              "      <td>Austria</td>\n",
              "      <td>2018</td>\n",
              "      <td>0.598340</td>\n",
              "      <td>0.584405</td>\n",
              "      <td>0.599949</td>\n",
              "      <td>0.387916</td>\n",
              "      <td>0.859016</td>\n",
              "      <td>High income</td>\n",
              "      <td>Europe</td>\n",
              "    </tr>\n",
              "    <tr>\n",
              "      <th>2</th>\n",
              "      <td>Belgium</td>\n",
              "      <td>2018</td>\n",
              "      <td>0.495643</td>\n",
              "      <td>0.451768</td>\n",
              "      <td>0.296787</td>\n",
              "      <td>0.625071</td>\n",
              "      <td>0.513115</td>\n",
              "      <td>High income</td>\n",
              "      <td>Europe</td>\n",
              "    </tr>\n",
              "    <tr>\n",
              "      <th>5</th>\n",
              "      <td>Colombia</td>\n",
              "      <td>2018</td>\n",
              "      <td>0.128216</td>\n",
              "      <td>0.137460</td>\n",
              "      <td>0.006119</td>\n",
              "      <td>0.079616</td>\n",
              "      <td>0.362295</td>\n",
              "      <td>Upper middle income</td>\n",
              "      <td>S. America</td>\n",
              "    </tr>\n",
              "    <tr>\n",
              "      <th>7</th>\n",
              "      <td>Czech Republic</td>\n",
              "      <td>2018</td>\n",
              "      <td>0.333817</td>\n",
              "      <td>0.532154</td>\n",
              "      <td>0.263896</td>\n",
              "      <td>0.481084</td>\n",
              "      <td>0.662295</td>\n",
              "      <td>High income</td>\n",
              "      <td>Europe</td>\n",
              "    </tr>\n",
              "    <tr>\n",
              "      <th>9</th>\n",
              "      <td>Estonia</td>\n",
              "      <td>2018</td>\n",
              "      <td>0.392324</td>\n",
              "      <td>0.364148</td>\n",
              "      <td>0.347272</td>\n",
              "      <td>0.355167</td>\n",
              "      <td>0.570492</td>\n",
              "      <td>High income</td>\n",
              "      <td>Europe</td>\n",
              "    </tr>\n",
              "  </tbody>\n",
              "</table>\n",
              "</div>"
            ],
            "text/plain": [
              "          country  year  CT scanners   Hospital beds       MRI    Nurses  \\\n",
              "1         Austria  2018      0.598340       0.584405  0.599949  0.387916   \n",
              "2         Belgium  2018      0.495643       0.451768  0.296787  0.625071   \n",
              "5        Colombia  2018      0.128216       0.137460  0.006119  0.079616   \n",
              "7  Czech Republic  2018      0.333817       0.532154  0.263896  0.481084   \n",
              "9         Estonia  2018      0.392324       0.364148  0.347272  0.355167   \n",
              "\n",
              "   Physicians         income_group      region  \n",
              "1    0.859016          High income      Europe  \n",
              "2    0.513115          High income      Europe  \n",
              "5    0.362295  Upper middle income  S. America  \n",
              "7    0.662295          High income      Europe  \n",
              "9    0.570492          High income      Europe  "
            ]
          },
          "execution_count": 275,
          "metadata": {},
          "output_type": "execute_result"
        }
      ],
      "source": [
        "# Rescale\n",
        "for c in column_picked:\n",
        "    f3_2018[c]= f3_2018[c]/f3_2018[c].max()\n",
        "f3_2018=f3_2018.dropna()\n",
        "f3_2018.head()"
      ]
    },
    {
      "cell_type": "code",
      "execution_count": 276,
      "metadata": {},
      "outputs": [
        {
          "data": {
            "text/html": [
              "<div>\n",
              "<style scoped>\n",
              "    .dataframe tbody tr th:only-of-type {\n",
              "        vertical-align: middle;\n",
              "    }\n",
              "\n",
              "    .dataframe tbody tr th {\n",
              "        vertical-align: top;\n",
              "    }\n",
              "\n",
              "    .dataframe thead th {\n",
              "        text-align: right;\n",
              "    }\n",
              "</style>\n",
              "<table border=\"1\" class=\"dataframe\">\n",
              "  <thead>\n",
              "    <tr style=\"text-align: right;\">\n",
              "      <th></th>\n",
              "      <th>country</th>\n",
              "      <th>year</th>\n",
              "      <th>CT scanners</th>\n",
              "      <th>Hospital beds</th>\n",
              "      <th>MRI</th>\n",
              "      <th>Nurses</th>\n",
              "      <th>Physicians</th>\n",
              "      <th>income_group</th>\n",
              "      <th>region</th>\n",
              "    </tr>\n",
              "  </thead>\n",
              "  <tbody>\n",
              "    <tr>\n",
              "      <th>1</th>\n",
              "      <td>Austria</td>\n",
              "      <td>2020</td>\n",
              "      <td>0.246240</td>\n",
              "      <td>0.557312</td>\n",
              "      <td>0.441715</td>\n",
              "      <td>0.570495</td>\n",
              "      <td>0.974499</td>\n",
              "      <td>High income</td>\n",
              "      <td>Europe</td>\n",
              "    </tr>\n",
              "    <tr>\n",
              "      <th>7</th>\n",
              "      <td>Czech Republic</td>\n",
              "      <td>2020</td>\n",
              "      <td>0.140536</td>\n",
              "      <td>0.513834</td>\n",
              "      <td>0.192194</td>\n",
              "      <td>0.471421</td>\n",
              "      <td>0.746812</td>\n",
              "      <td>High income</td>\n",
              "      <td>Europe</td>\n",
              "    </tr>\n",
              "    <tr>\n",
              "      <th>9</th>\n",
              "      <td>Estonia</td>\n",
              "      <td>2020</td>\n",
              "      <td>0.175540</td>\n",
              "      <td>0.352569</td>\n",
              "      <td>0.262067</td>\n",
              "      <td>0.347305</td>\n",
              "      <td>0.633880</td>\n",
              "      <td>High income</td>\n",
              "      <td>Europe</td>\n",
              "    </tr>\n",
              "    <tr>\n",
              "      <th>11</th>\n",
              "      <td>France</td>\n",
              "      <td>2020</td>\n",
              "      <td>0.163613</td>\n",
              "      <td>0.452964</td>\n",
              "      <td>0.283325</td>\n",
              "      <td>0.615678</td>\n",
              "      <td>0.577413</td>\n",
              "      <td>High income</td>\n",
              "      <td>Europe</td>\n",
              "    </tr>\n",
              "    <tr>\n",
              "      <th>14</th>\n",
              "      <td>Hungary</td>\n",
              "      <td>2020</td>\n",
              "      <td>0.083319</td>\n",
              "      <td>0.534387</td>\n",
              "      <td>0.085729</td>\n",
              "      <td>0.358193</td>\n",
              "      <td>0.571949</td>\n",
              "      <td>High income</td>\n",
              "      <td>Europe</td>\n",
              "    </tr>\n",
              "  </tbody>\n",
              "</table>\n",
              "</div>"
            ],
            "text/plain": [
              "           country  year  CT scanners   Hospital beds       MRI    Nurses  \\\n",
              "1          Austria  2020      0.246240       0.557312  0.441715  0.570495   \n",
              "7   Czech Republic  2020      0.140536       0.513834  0.192194  0.471421   \n",
              "9          Estonia  2020      0.175540       0.352569  0.262067  0.347305   \n",
              "11          France  2020      0.163613       0.452964  0.283325  0.615678   \n",
              "14         Hungary  2020      0.083319       0.534387  0.085729  0.358193   \n",
              "\n",
              "    Physicians income_group  region  \n",
              "1     0.974499  High income  Europe  \n",
              "7     0.746812  High income  Europe  \n",
              "9     0.633880  High income  Europe  \n",
              "11    0.577413  High income  Europe  \n",
              "14    0.571949  High income  Europe  "
            ]
          },
          "execution_count": 276,
          "metadata": {},
          "output_type": "execute_result"
        }
      ],
      "source": [
        "# Rescale\n",
        "for c in column_picked:\n",
        "    f3_2020[c]= f3_2020[c]/f3_2020[c].max()\n",
        "f3_2020=f3_2020.dropna()\n",
        "f3_2020.head()"
      ]
    },
    {
      "cell_type": "code",
      "execution_count": 278,
      "metadata": {},
      "outputs": [
        {
          "data": {
            "application/vnd.plotly.v1+json": {
              "config": {
                "plotlyServerURL": "https://plot.ly"
              },
              "data": [
                {
                  "fill": "toself",
                  "hovertemplate": "country=Israel<br>value=%{r}<br>variable=%{theta}<extra></extra>",
                  "legendgroup": "Israel",
                  "line": {
                    "color": "#636efa",
                    "dash": "solid"
                  },
                  "marker": {
                    "symbol": "circle"
                  },
                  "mode": "lines",
                  "name": "Israel",
                  "opacity": 0.5,
                  "r": [
                    0.20788381742738585,
                    0.23874598070739553,
                    0.13768485466598676,
                    0.28402032749858835,
                    0.5278688524590165,
                    "Asia",
                    0.20788381742738585
                  ],
                  "showlegend": true,
                  "subplot": "polar",
                  "theta": [
                    "CT scanners ",
                    "Hospital beds",
                    "MRI",
                    "Nurses",
                    "Physicians",
                    "region",
                    "CT scanners "
                  ],
                  "type": "scatterpolar"
                },
                {
                  "fill": "toself",
                  "hovertemplate": "country=Korea<br>value=%{r}<br>variable=%{theta}<extra></extra>",
                  "legendgroup": "Korea",
                  "line": {
                    "color": "#EF553B",
                    "dash": "solid"
                  },
                  "marker": {
                    "symbol": "circle"
                  },
                  "mode": "lines",
                  "name": "Korea",
                  "opacity": 0.5,
                  "r": [
                    0.8008298755186721,
                    1,
                    0.7677205507394187,
                    0.4088085827216262,
                    0.39180327868852466,
                    "Asia",
                    0.8008298755186721
                  ],
                  "showlegend": true,
                  "subplot": "polar",
                  "theta": [
                    "CT scanners ",
                    "Hospital beds",
                    "MRI",
                    "Nurses",
                    "Physicians",
                    "region",
                    "CT scanners "
                  ],
                  "type": "scatterpolar"
                }
              ],
              "layout": {
                "legend": {
                  "title": {
                    "text": "country"
                  },
                  "tracegroupgap": 0
                },
                "margin": {
                  "t": 60
                },
                "polar": {
                  "angularaxis": {
                    "direction": "clockwise",
                    "rotation": 90
                  },
                  "domain": {
                    "x": [
                      0,
                      1
                    ],
                    "y": [
                      0,
                      1
                    ]
                  },
                  "radialaxis": {
                    "range": [
                      0,
                      1
                    ]
                  }
                },
                "template": {
                  "data": {
                    "bar": [
                      {
                        "error_x": {
                          "color": "#2a3f5f"
                        },
                        "error_y": {
                          "color": "#2a3f5f"
                        },
                        "marker": {
                          "line": {
                            "color": "#E5ECF6",
                            "width": 0.5
                          },
                          "pattern": {
                            "fillmode": "overlay",
                            "size": 10,
                            "solidity": 0.2
                          }
                        },
                        "type": "bar"
                      }
                    ],
                    "barpolar": [
                      {
                        "marker": {
                          "line": {
                            "color": "#E5ECF6",
                            "width": 0.5
                          },
                          "pattern": {
                            "fillmode": "overlay",
                            "size": 10,
                            "solidity": 0.2
                          }
                        },
                        "type": "barpolar"
                      }
                    ],
                    "carpet": [
                      {
                        "aaxis": {
                          "endlinecolor": "#2a3f5f",
                          "gridcolor": "white",
                          "linecolor": "white",
                          "minorgridcolor": "white",
                          "startlinecolor": "#2a3f5f"
                        },
                        "baxis": {
                          "endlinecolor": "#2a3f5f",
                          "gridcolor": "white",
                          "linecolor": "white",
                          "minorgridcolor": "white",
                          "startlinecolor": "#2a3f5f"
                        },
                        "type": "carpet"
                      }
                    ],
                    "choropleth": [
                      {
                        "colorbar": {
                          "outlinewidth": 0,
                          "ticks": ""
                        },
                        "type": "choropleth"
                      }
                    ],
                    "contour": [
                      {
                        "colorbar": {
                          "outlinewidth": 0,
                          "ticks": ""
                        },
                        "colorscale": [
                          [
                            0,
                            "#0d0887"
                          ],
                          [
                            0.1111111111111111,
                            "#46039f"
                          ],
                          [
                            0.2222222222222222,
                            "#7201a8"
                          ],
                          [
                            0.3333333333333333,
                            "#9c179e"
                          ],
                          [
                            0.4444444444444444,
                            "#bd3786"
                          ],
                          [
                            0.5555555555555556,
                            "#d8576b"
                          ],
                          [
                            0.6666666666666666,
                            "#ed7953"
                          ],
                          [
                            0.7777777777777778,
                            "#fb9f3a"
                          ],
                          [
                            0.8888888888888888,
                            "#fdca26"
                          ],
                          [
                            1,
                            "#f0f921"
                          ]
                        ],
                        "type": "contour"
                      }
                    ],
                    "contourcarpet": [
                      {
                        "colorbar": {
                          "outlinewidth": 0,
                          "ticks": ""
                        },
                        "type": "contourcarpet"
                      }
                    ],
                    "heatmap": [
                      {
                        "colorbar": {
                          "outlinewidth": 0,
                          "ticks": ""
                        },
                        "colorscale": [
                          [
                            0,
                            "#0d0887"
                          ],
                          [
                            0.1111111111111111,
                            "#46039f"
                          ],
                          [
                            0.2222222222222222,
                            "#7201a8"
                          ],
                          [
                            0.3333333333333333,
                            "#9c179e"
                          ],
                          [
                            0.4444444444444444,
                            "#bd3786"
                          ],
                          [
                            0.5555555555555556,
                            "#d8576b"
                          ],
                          [
                            0.6666666666666666,
                            "#ed7953"
                          ],
                          [
                            0.7777777777777778,
                            "#fb9f3a"
                          ],
                          [
                            0.8888888888888888,
                            "#fdca26"
                          ],
                          [
                            1,
                            "#f0f921"
                          ]
                        ],
                        "type": "heatmap"
                      }
                    ],
                    "heatmapgl": [
                      {
                        "colorbar": {
                          "outlinewidth": 0,
                          "ticks": ""
                        },
                        "colorscale": [
                          [
                            0,
                            "#0d0887"
                          ],
                          [
                            0.1111111111111111,
                            "#46039f"
                          ],
                          [
                            0.2222222222222222,
                            "#7201a8"
                          ],
                          [
                            0.3333333333333333,
                            "#9c179e"
                          ],
                          [
                            0.4444444444444444,
                            "#bd3786"
                          ],
                          [
                            0.5555555555555556,
                            "#d8576b"
                          ],
                          [
                            0.6666666666666666,
                            "#ed7953"
                          ],
                          [
                            0.7777777777777778,
                            "#fb9f3a"
                          ],
                          [
                            0.8888888888888888,
                            "#fdca26"
                          ],
                          [
                            1,
                            "#f0f921"
                          ]
                        ],
                        "type": "heatmapgl"
                      }
                    ],
                    "histogram": [
                      {
                        "marker": {
                          "pattern": {
                            "fillmode": "overlay",
                            "size": 10,
                            "solidity": 0.2
                          }
                        },
                        "type": "histogram"
                      }
                    ],
                    "histogram2d": [
                      {
                        "colorbar": {
                          "outlinewidth": 0,
                          "ticks": ""
                        },
                        "colorscale": [
                          [
                            0,
                            "#0d0887"
                          ],
                          [
                            0.1111111111111111,
                            "#46039f"
                          ],
                          [
                            0.2222222222222222,
                            "#7201a8"
                          ],
                          [
                            0.3333333333333333,
                            "#9c179e"
                          ],
                          [
                            0.4444444444444444,
                            "#bd3786"
                          ],
                          [
                            0.5555555555555556,
                            "#d8576b"
                          ],
                          [
                            0.6666666666666666,
                            "#ed7953"
                          ],
                          [
                            0.7777777777777778,
                            "#fb9f3a"
                          ],
                          [
                            0.8888888888888888,
                            "#fdca26"
                          ],
                          [
                            1,
                            "#f0f921"
                          ]
                        ],
                        "type": "histogram2d"
                      }
                    ],
                    "histogram2dcontour": [
                      {
                        "colorbar": {
                          "outlinewidth": 0,
                          "ticks": ""
                        },
                        "colorscale": [
                          [
                            0,
                            "#0d0887"
                          ],
                          [
                            0.1111111111111111,
                            "#46039f"
                          ],
                          [
                            0.2222222222222222,
                            "#7201a8"
                          ],
                          [
                            0.3333333333333333,
                            "#9c179e"
                          ],
                          [
                            0.4444444444444444,
                            "#bd3786"
                          ],
                          [
                            0.5555555555555556,
                            "#d8576b"
                          ],
                          [
                            0.6666666666666666,
                            "#ed7953"
                          ],
                          [
                            0.7777777777777778,
                            "#fb9f3a"
                          ],
                          [
                            0.8888888888888888,
                            "#fdca26"
                          ],
                          [
                            1,
                            "#f0f921"
                          ]
                        ],
                        "type": "histogram2dcontour"
                      }
                    ],
                    "mesh3d": [
                      {
                        "colorbar": {
                          "outlinewidth": 0,
                          "ticks": ""
                        },
                        "type": "mesh3d"
                      }
                    ],
                    "parcoords": [
                      {
                        "line": {
                          "colorbar": {
                            "outlinewidth": 0,
                            "ticks": ""
                          }
                        },
                        "type": "parcoords"
                      }
                    ],
                    "pie": [
                      {
                        "automargin": true,
                        "type": "pie"
                      }
                    ],
                    "scatter": [
                      {
                        "fillpattern": {
                          "fillmode": "overlay",
                          "size": 10,
                          "solidity": 0.2
                        },
                        "type": "scatter"
                      }
                    ],
                    "scatter3d": [
                      {
                        "line": {
                          "colorbar": {
                            "outlinewidth": 0,
                            "ticks": ""
                          }
                        },
                        "marker": {
                          "colorbar": {
                            "outlinewidth": 0,
                            "ticks": ""
                          }
                        },
                        "type": "scatter3d"
                      }
                    ],
                    "scattercarpet": [
                      {
                        "marker": {
                          "colorbar": {
                            "outlinewidth": 0,
                            "ticks": ""
                          }
                        },
                        "type": "scattercarpet"
                      }
                    ],
                    "scattergeo": [
                      {
                        "marker": {
                          "colorbar": {
                            "outlinewidth": 0,
                            "ticks": ""
                          }
                        },
                        "type": "scattergeo"
                      }
                    ],
                    "scattergl": [
                      {
                        "marker": {
                          "colorbar": {
                            "outlinewidth": 0,
                            "ticks": ""
                          }
                        },
                        "type": "scattergl"
                      }
                    ],
                    "scattermapbox": [
                      {
                        "marker": {
                          "colorbar": {
                            "outlinewidth": 0,
                            "ticks": ""
                          }
                        },
                        "type": "scattermapbox"
                      }
                    ],
                    "scatterpolar": [
                      {
                        "marker": {
                          "colorbar": {
                            "outlinewidth": 0,
                            "ticks": ""
                          }
                        },
                        "type": "scatterpolar"
                      }
                    ],
                    "scatterpolargl": [
                      {
                        "marker": {
                          "colorbar": {
                            "outlinewidth": 0,
                            "ticks": ""
                          }
                        },
                        "type": "scatterpolargl"
                      }
                    ],
                    "scatterternary": [
                      {
                        "marker": {
                          "colorbar": {
                            "outlinewidth": 0,
                            "ticks": ""
                          }
                        },
                        "type": "scatterternary"
                      }
                    ],
                    "surface": [
                      {
                        "colorbar": {
                          "outlinewidth": 0,
                          "ticks": ""
                        },
                        "colorscale": [
                          [
                            0,
                            "#0d0887"
                          ],
                          [
                            0.1111111111111111,
                            "#46039f"
                          ],
                          [
                            0.2222222222222222,
                            "#7201a8"
                          ],
                          [
                            0.3333333333333333,
                            "#9c179e"
                          ],
                          [
                            0.4444444444444444,
                            "#bd3786"
                          ],
                          [
                            0.5555555555555556,
                            "#d8576b"
                          ],
                          [
                            0.6666666666666666,
                            "#ed7953"
                          ],
                          [
                            0.7777777777777778,
                            "#fb9f3a"
                          ],
                          [
                            0.8888888888888888,
                            "#fdca26"
                          ],
                          [
                            1,
                            "#f0f921"
                          ]
                        ],
                        "type": "surface"
                      }
                    ],
                    "table": [
                      {
                        "cells": {
                          "fill": {
                            "color": "#EBF0F8"
                          },
                          "line": {
                            "color": "white"
                          }
                        },
                        "header": {
                          "fill": {
                            "color": "#C8D4E3"
                          },
                          "line": {
                            "color": "white"
                          }
                        },
                        "type": "table"
                      }
                    ]
                  },
                  "layout": {
                    "annotationdefaults": {
                      "arrowcolor": "#2a3f5f",
                      "arrowhead": 0,
                      "arrowwidth": 1
                    },
                    "autotypenumbers": "strict",
                    "coloraxis": {
                      "colorbar": {
                        "outlinewidth": 0,
                        "ticks": ""
                      }
                    },
                    "colorscale": {
                      "diverging": [
                        [
                          0,
                          "#8e0152"
                        ],
                        [
                          0.1,
                          "#c51b7d"
                        ],
                        [
                          0.2,
                          "#de77ae"
                        ],
                        [
                          0.3,
                          "#f1b6da"
                        ],
                        [
                          0.4,
                          "#fde0ef"
                        ],
                        [
                          0.5,
                          "#f7f7f7"
                        ],
                        [
                          0.6,
                          "#e6f5d0"
                        ],
                        [
                          0.7,
                          "#b8e186"
                        ],
                        [
                          0.8,
                          "#7fbc41"
                        ],
                        [
                          0.9,
                          "#4d9221"
                        ],
                        [
                          1,
                          "#276419"
                        ]
                      ],
                      "sequential": [
                        [
                          0,
                          "#0d0887"
                        ],
                        [
                          0.1111111111111111,
                          "#46039f"
                        ],
                        [
                          0.2222222222222222,
                          "#7201a8"
                        ],
                        [
                          0.3333333333333333,
                          "#9c179e"
                        ],
                        [
                          0.4444444444444444,
                          "#bd3786"
                        ],
                        [
                          0.5555555555555556,
                          "#d8576b"
                        ],
                        [
                          0.6666666666666666,
                          "#ed7953"
                        ],
                        [
                          0.7777777777777778,
                          "#fb9f3a"
                        ],
                        [
                          0.8888888888888888,
                          "#fdca26"
                        ],
                        [
                          1,
                          "#f0f921"
                        ]
                      ],
                      "sequentialminus": [
                        [
                          0,
                          "#0d0887"
                        ],
                        [
                          0.1111111111111111,
                          "#46039f"
                        ],
                        [
                          0.2222222222222222,
                          "#7201a8"
                        ],
                        [
                          0.3333333333333333,
                          "#9c179e"
                        ],
                        [
                          0.4444444444444444,
                          "#bd3786"
                        ],
                        [
                          0.5555555555555556,
                          "#d8576b"
                        ],
                        [
                          0.6666666666666666,
                          "#ed7953"
                        ],
                        [
                          0.7777777777777778,
                          "#fb9f3a"
                        ],
                        [
                          0.8888888888888888,
                          "#fdca26"
                        ],
                        [
                          1,
                          "#f0f921"
                        ]
                      ]
                    },
                    "colorway": [
                      "#636efa",
                      "#EF553B",
                      "#00cc96",
                      "#ab63fa",
                      "#FFA15A",
                      "#19d3f3",
                      "#FF6692",
                      "#B6E880",
                      "#FF97FF",
                      "#FECB52"
                    ],
                    "font": {
                      "color": "#2a3f5f"
                    },
                    "geo": {
                      "bgcolor": "white",
                      "lakecolor": "white",
                      "landcolor": "#E5ECF6",
                      "showlakes": true,
                      "showland": true,
                      "subunitcolor": "white"
                    },
                    "hoverlabel": {
                      "align": "left"
                    },
                    "hovermode": "closest",
                    "mapbox": {
                      "style": "light"
                    },
                    "paper_bgcolor": "white",
                    "plot_bgcolor": "#E5ECF6",
                    "polar": {
                      "angularaxis": {
                        "gridcolor": "white",
                        "linecolor": "white",
                        "ticks": ""
                      },
                      "bgcolor": "#E5ECF6",
                      "radialaxis": {
                        "gridcolor": "white",
                        "linecolor": "white",
                        "ticks": ""
                      }
                    },
                    "scene": {
                      "xaxis": {
                        "backgroundcolor": "#E5ECF6",
                        "gridcolor": "white",
                        "gridwidth": 2,
                        "linecolor": "white",
                        "showbackground": true,
                        "ticks": "",
                        "zerolinecolor": "white"
                      },
                      "yaxis": {
                        "backgroundcolor": "#E5ECF6",
                        "gridcolor": "white",
                        "gridwidth": 2,
                        "linecolor": "white",
                        "showbackground": true,
                        "ticks": "",
                        "zerolinecolor": "white"
                      },
                      "zaxis": {
                        "backgroundcolor": "#E5ECF6",
                        "gridcolor": "white",
                        "gridwidth": 2,
                        "linecolor": "white",
                        "showbackground": true,
                        "ticks": "",
                        "zerolinecolor": "white"
                      }
                    },
                    "shapedefaults": {
                      "line": {
                        "color": "#2a3f5f"
                      }
                    },
                    "ternary": {
                      "aaxis": {
                        "gridcolor": "white",
                        "linecolor": "white",
                        "ticks": ""
                      },
                      "baxis": {
                        "gridcolor": "white",
                        "linecolor": "white",
                        "ticks": ""
                      },
                      "bgcolor": "#E5ECF6",
                      "caxis": {
                        "gridcolor": "white",
                        "linecolor": "white",
                        "ticks": ""
                      }
                    },
                    "title": {
                      "x": 0.05
                    },
                    "xaxis": {
                      "automargin": true,
                      "gridcolor": "white",
                      "linecolor": "white",
                      "ticks": "",
                      "title": {
                        "standoff": 15
                      },
                      "zerolinecolor": "white",
                      "zerolinewidth": 2
                    },
                    "yaxis": {
                      "automargin": true,
                      "gridcolor": "white",
                      "linecolor": "white",
                      "ticks": "",
                      "title": {
                        "standoff": 15
                      },
                      "zerolinecolor": "white",
                      "zerolinewidth": 2
                    }
                  }
                },
                "title": {
                  "text": "Indicator Values for High-Income Asian Countries in 2018"
                }
              }
            }
          },
          "metadata": {},
          "output_type": "display_data"
        }
      ],
      "source": [
        "radar=pd.melt(f3_2018[(f3_2018['region']=='Asia')&(f3_2018['income_group']=='High income')], id_vars=['country', 'year','income_group'])\n",
        "fig3_2018 = px.line_polar(radar, r='value', theta='variable', line_close=True, range_r=[0, 1], color='country')\n",
        "fig3_2018.update_traces(fill='toself', opacity=0.5)\n",
        "fig3_2018.update_layout(title='Indicator Values for High-Income Asian Countries in 2018')\n",
        "\n",
        "fig3_2018.show()"
      ]
    },
    {
      "cell_type": "code",
      "execution_count": 274,
      "metadata": {},
      "outputs": [
        {
          "data": {
            "application/vnd.plotly.v1+json": {
              "config": {
                "plotlyServerURL": "https://plot.ly"
              },
              "data": [
                {
                  "fill": "toself",
                  "hovertemplate": "country=Israel<br>value=%{r}<br>variable=%{theta}<extra></extra>",
                  "legendgroup": "Israel",
                  "line": {
                    "color": "#636efa",
                    "dash": "solid"
                  },
                  "marker": {
                    "symbol": "circle"
                  },
                  "mode": "lines",
                  "name": "Israel",
                  "opacity": 0.5,
                  "r": [
                    0.0853932584269663,
                    0.2308300395256917,
                    0.09635825056630075,
                    0.2798040283070223,
                    0.5338709677419354,
                    "Asia",
                    0.0853932584269663
                  ],
                  "showlegend": true,
                  "subplot": "polar",
                  "theta": [
                    "CT scanners ",
                    "Hospital beds",
                    "MRI",
                    "Nurses",
                    "Physicians",
                    "region",
                    "CT scanners "
                  ],
                  "type": "scatterpolar"
                },
                {
                  "fill": "toself",
                  "hovertemplate": "country=Japan<br>value=%{r}<br>variable=%{theta}<extra></extra>",
                  "legendgroup": "Japan",
                  "line": {
                    "color": "#EF553B",
                    "dash": "solid"
                  },
                  "marker": {
                    "symbol": "circle"
                  },
                  "mode": "lines",
                  "name": "Japan",
                  "opacity": 0.5,
                  "r": [
                    1,
                    0.9984189723320158,
                    1,
                    0.6586826347305389,
                    0.41935483870967744,
                    "Asia",
                    1
                  ],
                  "showlegend": true,
                  "subplot": "polar",
                  "theta": [
                    "CT scanners ",
                    "Hospital beds",
                    "MRI",
                    "Nurses",
                    "Physicians",
                    "region",
                    "CT scanners "
                  ],
                  "type": "scatterpolar"
                },
                {
                  "fill": "toself",
                  "hovertemplate": "country=Korea<br>value=%{r}<br>variable=%{theta}<extra></extra>",
                  "legendgroup": "Korea",
                  "line": {
                    "color": "#00cc96",
                    "dash": "solid"
                  },
                  "marker": {
                    "symbol": "circle"
                  },
                  "mode": "lines",
                  "name": "Korea",
                  "opacity": 0.5,
                  "r": [
                    0.35082108902333625,
                    1,
                    0.5966196201428821,
                    0.45563418617310825,
                    0.4048387096774193,
                    "Asia",
                    0.35082108902333625
                  ],
                  "showlegend": true,
                  "subplot": "polar",
                  "theta": [
                    "CT scanners ",
                    "Hospital beds",
                    "MRI",
                    "Nurses",
                    "Physicians",
                    "region",
                    "CT scanners "
                  ],
                  "type": "scatterpolar"
                }
              ],
              "layout": {
                "legend": {
                  "title": {
                    "text": "country"
                  },
                  "tracegroupgap": 0
                },
                "margin": {
                  "t": 60
                },
                "polar": {
                  "angularaxis": {
                    "direction": "clockwise",
                    "rotation": 90
                  },
                  "domain": {
                    "x": [
                      0,
                      1
                    ],
                    "y": [
                      0,
                      1
                    ]
                  },
                  "radialaxis": {
                    "range": [
                      0,
                      1
                    ]
                  }
                },
                "template": {
                  "data": {
                    "bar": [
                      {
                        "error_x": {
                          "color": "#2a3f5f"
                        },
                        "error_y": {
                          "color": "#2a3f5f"
                        },
                        "marker": {
                          "line": {
                            "color": "#E5ECF6",
                            "width": 0.5
                          },
                          "pattern": {
                            "fillmode": "overlay",
                            "size": 10,
                            "solidity": 0.2
                          }
                        },
                        "type": "bar"
                      }
                    ],
                    "barpolar": [
                      {
                        "marker": {
                          "line": {
                            "color": "#E5ECF6",
                            "width": 0.5
                          },
                          "pattern": {
                            "fillmode": "overlay",
                            "size": 10,
                            "solidity": 0.2
                          }
                        },
                        "type": "barpolar"
                      }
                    ],
                    "carpet": [
                      {
                        "aaxis": {
                          "endlinecolor": "#2a3f5f",
                          "gridcolor": "white",
                          "linecolor": "white",
                          "minorgridcolor": "white",
                          "startlinecolor": "#2a3f5f"
                        },
                        "baxis": {
                          "endlinecolor": "#2a3f5f",
                          "gridcolor": "white",
                          "linecolor": "white",
                          "minorgridcolor": "white",
                          "startlinecolor": "#2a3f5f"
                        },
                        "type": "carpet"
                      }
                    ],
                    "choropleth": [
                      {
                        "colorbar": {
                          "outlinewidth": 0,
                          "ticks": ""
                        },
                        "type": "choropleth"
                      }
                    ],
                    "contour": [
                      {
                        "colorbar": {
                          "outlinewidth": 0,
                          "ticks": ""
                        },
                        "colorscale": [
                          [
                            0,
                            "#0d0887"
                          ],
                          [
                            0.1111111111111111,
                            "#46039f"
                          ],
                          [
                            0.2222222222222222,
                            "#7201a8"
                          ],
                          [
                            0.3333333333333333,
                            "#9c179e"
                          ],
                          [
                            0.4444444444444444,
                            "#bd3786"
                          ],
                          [
                            0.5555555555555556,
                            "#d8576b"
                          ],
                          [
                            0.6666666666666666,
                            "#ed7953"
                          ],
                          [
                            0.7777777777777778,
                            "#fb9f3a"
                          ],
                          [
                            0.8888888888888888,
                            "#fdca26"
                          ],
                          [
                            1,
                            "#f0f921"
                          ]
                        ],
                        "type": "contour"
                      }
                    ],
                    "contourcarpet": [
                      {
                        "colorbar": {
                          "outlinewidth": 0,
                          "ticks": ""
                        },
                        "type": "contourcarpet"
                      }
                    ],
                    "heatmap": [
                      {
                        "colorbar": {
                          "outlinewidth": 0,
                          "ticks": ""
                        },
                        "colorscale": [
                          [
                            0,
                            "#0d0887"
                          ],
                          [
                            0.1111111111111111,
                            "#46039f"
                          ],
                          [
                            0.2222222222222222,
                            "#7201a8"
                          ],
                          [
                            0.3333333333333333,
                            "#9c179e"
                          ],
                          [
                            0.4444444444444444,
                            "#bd3786"
                          ],
                          [
                            0.5555555555555556,
                            "#d8576b"
                          ],
                          [
                            0.6666666666666666,
                            "#ed7953"
                          ],
                          [
                            0.7777777777777778,
                            "#fb9f3a"
                          ],
                          [
                            0.8888888888888888,
                            "#fdca26"
                          ],
                          [
                            1,
                            "#f0f921"
                          ]
                        ],
                        "type": "heatmap"
                      }
                    ],
                    "heatmapgl": [
                      {
                        "colorbar": {
                          "outlinewidth": 0,
                          "ticks": ""
                        },
                        "colorscale": [
                          [
                            0,
                            "#0d0887"
                          ],
                          [
                            0.1111111111111111,
                            "#46039f"
                          ],
                          [
                            0.2222222222222222,
                            "#7201a8"
                          ],
                          [
                            0.3333333333333333,
                            "#9c179e"
                          ],
                          [
                            0.4444444444444444,
                            "#bd3786"
                          ],
                          [
                            0.5555555555555556,
                            "#d8576b"
                          ],
                          [
                            0.6666666666666666,
                            "#ed7953"
                          ],
                          [
                            0.7777777777777778,
                            "#fb9f3a"
                          ],
                          [
                            0.8888888888888888,
                            "#fdca26"
                          ],
                          [
                            1,
                            "#f0f921"
                          ]
                        ],
                        "type": "heatmapgl"
                      }
                    ],
                    "histogram": [
                      {
                        "marker": {
                          "pattern": {
                            "fillmode": "overlay",
                            "size": 10,
                            "solidity": 0.2
                          }
                        },
                        "type": "histogram"
                      }
                    ],
                    "histogram2d": [
                      {
                        "colorbar": {
                          "outlinewidth": 0,
                          "ticks": ""
                        },
                        "colorscale": [
                          [
                            0,
                            "#0d0887"
                          ],
                          [
                            0.1111111111111111,
                            "#46039f"
                          ],
                          [
                            0.2222222222222222,
                            "#7201a8"
                          ],
                          [
                            0.3333333333333333,
                            "#9c179e"
                          ],
                          [
                            0.4444444444444444,
                            "#bd3786"
                          ],
                          [
                            0.5555555555555556,
                            "#d8576b"
                          ],
                          [
                            0.6666666666666666,
                            "#ed7953"
                          ],
                          [
                            0.7777777777777778,
                            "#fb9f3a"
                          ],
                          [
                            0.8888888888888888,
                            "#fdca26"
                          ],
                          [
                            1,
                            "#f0f921"
                          ]
                        ],
                        "type": "histogram2d"
                      }
                    ],
                    "histogram2dcontour": [
                      {
                        "colorbar": {
                          "outlinewidth": 0,
                          "ticks": ""
                        },
                        "colorscale": [
                          [
                            0,
                            "#0d0887"
                          ],
                          [
                            0.1111111111111111,
                            "#46039f"
                          ],
                          [
                            0.2222222222222222,
                            "#7201a8"
                          ],
                          [
                            0.3333333333333333,
                            "#9c179e"
                          ],
                          [
                            0.4444444444444444,
                            "#bd3786"
                          ],
                          [
                            0.5555555555555556,
                            "#d8576b"
                          ],
                          [
                            0.6666666666666666,
                            "#ed7953"
                          ],
                          [
                            0.7777777777777778,
                            "#fb9f3a"
                          ],
                          [
                            0.8888888888888888,
                            "#fdca26"
                          ],
                          [
                            1,
                            "#f0f921"
                          ]
                        ],
                        "type": "histogram2dcontour"
                      }
                    ],
                    "mesh3d": [
                      {
                        "colorbar": {
                          "outlinewidth": 0,
                          "ticks": ""
                        },
                        "type": "mesh3d"
                      }
                    ],
                    "parcoords": [
                      {
                        "line": {
                          "colorbar": {
                            "outlinewidth": 0,
                            "ticks": ""
                          }
                        },
                        "type": "parcoords"
                      }
                    ],
                    "pie": [
                      {
                        "automargin": true,
                        "type": "pie"
                      }
                    ],
                    "scatter": [
                      {
                        "fillpattern": {
                          "fillmode": "overlay",
                          "size": 10,
                          "solidity": 0.2
                        },
                        "type": "scatter"
                      }
                    ],
                    "scatter3d": [
                      {
                        "line": {
                          "colorbar": {
                            "outlinewidth": 0,
                            "ticks": ""
                          }
                        },
                        "marker": {
                          "colorbar": {
                            "outlinewidth": 0,
                            "ticks": ""
                          }
                        },
                        "type": "scatter3d"
                      }
                    ],
                    "scattercarpet": [
                      {
                        "marker": {
                          "colorbar": {
                            "outlinewidth": 0,
                            "ticks": ""
                          }
                        },
                        "type": "scattercarpet"
                      }
                    ],
                    "scattergeo": [
                      {
                        "marker": {
                          "colorbar": {
                            "outlinewidth": 0,
                            "ticks": ""
                          }
                        },
                        "type": "scattergeo"
                      }
                    ],
                    "scattergl": [
                      {
                        "marker": {
                          "colorbar": {
                            "outlinewidth": 0,
                            "ticks": ""
                          }
                        },
                        "type": "scattergl"
                      }
                    ],
                    "scattermapbox": [
                      {
                        "marker": {
                          "colorbar": {
                            "outlinewidth": 0,
                            "ticks": ""
                          }
                        },
                        "type": "scattermapbox"
                      }
                    ],
                    "scatterpolar": [
                      {
                        "marker": {
                          "colorbar": {
                            "outlinewidth": 0,
                            "ticks": ""
                          }
                        },
                        "type": "scatterpolar"
                      }
                    ],
                    "scatterpolargl": [
                      {
                        "marker": {
                          "colorbar": {
                            "outlinewidth": 0,
                            "ticks": ""
                          }
                        },
                        "type": "scatterpolargl"
                      }
                    ],
                    "scatterternary": [
                      {
                        "marker": {
                          "colorbar": {
                            "outlinewidth": 0,
                            "ticks": ""
                          }
                        },
                        "type": "scatterternary"
                      }
                    ],
                    "surface": [
                      {
                        "colorbar": {
                          "outlinewidth": 0,
                          "ticks": ""
                        },
                        "colorscale": [
                          [
                            0,
                            "#0d0887"
                          ],
                          [
                            0.1111111111111111,
                            "#46039f"
                          ],
                          [
                            0.2222222222222222,
                            "#7201a8"
                          ],
                          [
                            0.3333333333333333,
                            "#9c179e"
                          ],
                          [
                            0.4444444444444444,
                            "#bd3786"
                          ],
                          [
                            0.5555555555555556,
                            "#d8576b"
                          ],
                          [
                            0.6666666666666666,
                            "#ed7953"
                          ],
                          [
                            0.7777777777777778,
                            "#fb9f3a"
                          ],
                          [
                            0.8888888888888888,
                            "#fdca26"
                          ],
                          [
                            1,
                            "#f0f921"
                          ]
                        ],
                        "type": "surface"
                      }
                    ],
                    "table": [
                      {
                        "cells": {
                          "fill": {
                            "color": "#EBF0F8"
                          },
                          "line": {
                            "color": "white"
                          }
                        },
                        "header": {
                          "fill": {
                            "color": "#C8D4E3"
                          },
                          "line": {
                            "color": "white"
                          }
                        },
                        "type": "table"
                      }
                    ]
                  },
                  "layout": {
                    "annotationdefaults": {
                      "arrowcolor": "#2a3f5f",
                      "arrowhead": 0,
                      "arrowwidth": 1
                    },
                    "autotypenumbers": "strict",
                    "coloraxis": {
                      "colorbar": {
                        "outlinewidth": 0,
                        "ticks": ""
                      }
                    },
                    "colorscale": {
                      "diverging": [
                        [
                          0,
                          "#8e0152"
                        ],
                        [
                          0.1,
                          "#c51b7d"
                        ],
                        [
                          0.2,
                          "#de77ae"
                        ],
                        [
                          0.3,
                          "#f1b6da"
                        ],
                        [
                          0.4,
                          "#fde0ef"
                        ],
                        [
                          0.5,
                          "#f7f7f7"
                        ],
                        [
                          0.6,
                          "#e6f5d0"
                        ],
                        [
                          0.7,
                          "#b8e186"
                        ],
                        [
                          0.8,
                          "#7fbc41"
                        ],
                        [
                          0.9,
                          "#4d9221"
                        ],
                        [
                          1,
                          "#276419"
                        ]
                      ],
                      "sequential": [
                        [
                          0,
                          "#0d0887"
                        ],
                        [
                          0.1111111111111111,
                          "#46039f"
                        ],
                        [
                          0.2222222222222222,
                          "#7201a8"
                        ],
                        [
                          0.3333333333333333,
                          "#9c179e"
                        ],
                        [
                          0.4444444444444444,
                          "#bd3786"
                        ],
                        [
                          0.5555555555555556,
                          "#d8576b"
                        ],
                        [
                          0.6666666666666666,
                          "#ed7953"
                        ],
                        [
                          0.7777777777777778,
                          "#fb9f3a"
                        ],
                        [
                          0.8888888888888888,
                          "#fdca26"
                        ],
                        [
                          1,
                          "#f0f921"
                        ]
                      ],
                      "sequentialminus": [
                        [
                          0,
                          "#0d0887"
                        ],
                        [
                          0.1111111111111111,
                          "#46039f"
                        ],
                        [
                          0.2222222222222222,
                          "#7201a8"
                        ],
                        [
                          0.3333333333333333,
                          "#9c179e"
                        ],
                        [
                          0.4444444444444444,
                          "#bd3786"
                        ],
                        [
                          0.5555555555555556,
                          "#d8576b"
                        ],
                        [
                          0.6666666666666666,
                          "#ed7953"
                        ],
                        [
                          0.7777777777777778,
                          "#fb9f3a"
                        ],
                        [
                          0.8888888888888888,
                          "#fdca26"
                        ],
                        [
                          1,
                          "#f0f921"
                        ]
                      ]
                    },
                    "colorway": [
                      "#636efa",
                      "#EF553B",
                      "#00cc96",
                      "#ab63fa",
                      "#FFA15A",
                      "#19d3f3",
                      "#FF6692",
                      "#B6E880",
                      "#FF97FF",
                      "#FECB52"
                    ],
                    "font": {
                      "color": "#2a3f5f"
                    },
                    "geo": {
                      "bgcolor": "white",
                      "lakecolor": "white",
                      "landcolor": "#E5ECF6",
                      "showlakes": true,
                      "showland": true,
                      "subunitcolor": "white"
                    },
                    "hoverlabel": {
                      "align": "left"
                    },
                    "hovermode": "closest",
                    "mapbox": {
                      "style": "light"
                    },
                    "paper_bgcolor": "white",
                    "plot_bgcolor": "#E5ECF6",
                    "polar": {
                      "angularaxis": {
                        "gridcolor": "white",
                        "linecolor": "white",
                        "ticks": ""
                      },
                      "bgcolor": "#E5ECF6",
                      "radialaxis": {
                        "gridcolor": "white",
                        "linecolor": "white",
                        "ticks": ""
                      }
                    },
                    "scene": {
                      "xaxis": {
                        "backgroundcolor": "#E5ECF6",
                        "gridcolor": "white",
                        "gridwidth": 2,
                        "linecolor": "white",
                        "showbackground": true,
                        "ticks": "",
                        "zerolinecolor": "white"
                      },
                      "yaxis": {
                        "backgroundcolor": "#E5ECF6",
                        "gridcolor": "white",
                        "gridwidth": 2,
                        "linecolor": "white",
                        "showbackground": true,
                        "ticks": "",
                        "zerolinecolor": "white"
                      },
                      "zaxis": {
                        "backgroundcolor": "#E5ECF6",
                        "gridcolor": "white",
                        "gridwidth": 2,
                        "linecolor": "white",
                        "showbackground": true,
                        "ticks": "",
                        "zerolinecolor": "white"
                      }
                    },
                    "shapedefaults": {
                      "line": {
                        "color": "#2a3f5f"
                      }
                    },
                    "ternary": {
                      "aaxis": {
                        "gridcolor": "white",
                        "linecolor": "white",
                        "ticks": ""
                      },
                      "baxis": {
                        "gridcolor": "white",
                        "linecolor": "white",
                        "ticks": ""
                      },
                      "bgcolor": "#E5ECF6",
                      "caxis": {
                        "gridcolor": "white",
                        "linecolor": "white",
                        "ticks": ""
                      }
                    },
                    "title": {
                      "x": 0.05
                    },
                    "xaxis": {
                      "automargin": true,
                      "gridcolor": "white",
                      "linecolor": "white",
                      "ticks": "",
                      "title": {
                        "standoff": 15
                      },
                      "zerolinecolor": "white",
                      "zerolinewidth": 2
                    },
                    "yaxis": {
                      "automargin": true,
                      "gridcolor": "white",
                      "linecolor": "white",
                      "ticks": "",
                      "title": {
                        "standoff": 15
                      },
                      "zerolinecolor": "white",
                      "zerolinewidth": 2
                    }
                  }
                }
              }
            }
          },
          "metadata": {},
          "output_type": "display_data"
        }
      ],
      "source": [
        "radar=pd.melt(f3_2020.loc[(f3_2020['region']=='Asia')&(f3_2020['income_group']=='High income')], id_vars=['country', 'year','income_group'])\n",
        "fig3_2020 = px.line_polar(radar, r='value', theta='variable', line_close=True, range_r=[0, 1], color='country')\n",
        "fig3_2020.update_traces(fill='toself', opacity=0.5)\n",
        "fig3_2020.show()"
      ]
    }
  ],
  "metadata": {
    "colab": {
      "provenance": []
    },
    "kernelspec": {
      "display_name": "Python 3.9.13 ('dataenv')",
      "language": "python",
      "name": "python3"
    },
    "language_info": {
      "codemirror_mode": {
        "name": "ipython",
        "version": 3
      },
      "file_extension": ".py",
      "mimetype": "text/x-python",
      "name": "python",
      "nbconvert_exporter": "python",
      "pygments_lexer": "ipython3",
      "version": "3.9.13"
    },
    "vscode": {
      "interpreter": {
        "hash": "3f6e19d64679213bf2f8bc07a3c4a5b1e6d6f875e29829493c867acc1b468b00"
      }
    }
  },
  "nbformat": 4,
  "nbformat_minor": 0
}
